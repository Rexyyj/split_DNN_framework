{
 "cells": [
  {
   "cell_type": "code",
   "execution_count": null,
   "id": "8a939579",
   "metadata": {},
   "outputs": [],
   "source": []
  },
  {
   "cell_type": "code",
   "execution_count": 33,
   "id": "1a5af325",
   "metadata": {},
   "outputs": [],
   "source": [
    "################################### setting path ###################################\n",
    "import sys\n",
    "sys.path.append('../')\n",
    "sys.path.append('../../')\n",
    "################################### import libs ###################################\n",
    "from  pytorchyolo import  models_split_tiny\n",
    "# from pytorchyolo import models\n",
    "import numpy as np\n",
    "import time\n",
    "import torch\n",
    "import math\n",
    "import os\n",
    "from split_framework.split_framework_dynamic import SplitFramework\n",
    "import tqdm\n",
    "import numpy as np\n",
    "import requests, pickle\n",
    "import torch\n",
    "from torch.utils.data import DataLoader\n",
    "from torch.autograd import Variable\n",
    "from terminaltables import AsciiTable\n",
    "from pytorchyolo.utils.utils import load_classes, ap_per_class, get_batch_statistics, xywh2xyxy\n",
    "from pytorchyolo.utils.datasets import ListDataset\n",
    "from pytorchyolo.utils.transforms import DEFAULT_TRANSFORMS\n",
    "from algorithm.manager_full import Manager\n",
    "from split_framework.gnb import GNB\n",
    "import random\n",
    "from scipy.interpolate import griddata\n",
    "import pandas as pd\n",
    "from torchinfo import summary\n",
    "\n",
    "import warnings\n",
    "\n",
    "import torch.ao.quantization.quantize_fx as qfx"
   ]
  },
  {
   "cell_type": "code",
   "execution_count": 30,
   "id": "9d729bab",
   "metadata": {},
   "outputs": [],
   "source": [
    "cfg_path = \"../../pytorchyolo/config/yolov3-tiny.cfg\"\n",
    "model_path = \"../ckpt/vidVRD.pth\"\n",
    "\n",
    "split_layer=1\n"
   ]
  },
  {
   "cell_type": "code",
   "execution_count": 31,
   "id": "90da3a86",
   "metadata": {},
   "outputs": [
    {
     "data": {
      "text/plain": [
       "==========================================================================================\n",
       "Layer (type:depth-idx)                   Output Shape              Param #\n",
       "==========================================================================================\n",
       "Darknet                                  [1, 16, 208, 208]         --\n",
       "├─ModuleList: 1-1                        --                        8,851,902\n",
       "│    └─Sequential: 2-1                   [1, 16, 416, 416]         --\n",
       "│    │    └─Conv2d: 3-1                  [1, 16, 416, 416]         432\n",
       "│    │    └─BatchNorm2d: 3-2             [1, 16, 416, 416]         32\n",
       "│    │    └─LeakyReLU: 3-3               [1, 16, 416, 416]         --\n",
       "│    └─Sequential: 2-2                   [1, 16, 208, 208]         --\n",
       "│    │    └─MaxPool2d: 3-4               [1, 16, 208, 208]         --\n",
       "==========================================================================================\n",
       "Total params: 8,852,366\n",
       "Trainable params: 8,852,366\n",
       "Non-trainable params: 0\n",
       "Total mult-adds (M): 74.76\n",
       "==========================================================================================\n",
       "Input size (MB): 2.08\n",
       "Forward/backward pass size (MB): 44.30\n",
       "Params size (MB): 0.00\n",
       "Estimated Total Size (MB): 46.38\n",
       "=========================================================================================="
      ]
     },
     "execution_count": 31,
     "metadata": {},
     "output_type": "execute_result"
    }
   ],
   "source": [
    "model = models_split_tiny.load_model(cfg_path, model_path)\n",
    "model.set_split_layer(split_layer) # layer <7\n",
    "model = model.eval()\n",
    "summary(model, input_size=(1, 3, 416, 416))"
   ]
  },
  {
   "cell_type": "code",
   "execution_count": null,
   "id": "7009c70e",
   "metadata": {},
   "outputs": [],
   "source": []
  },
  {
   "cell_type": "code",
   "execution_count": 34,
   "id": "9719a506",
   "metadata": {},
   "outputs": [
    {
     "ename": "RuntimeError",
     "evalue": "quantized engine FBGEMM is not supported",
     "output_type": "error",
     "traceback": [
      "\u001b[0;31m---------------------------------------------------------------------------\u001b[0m",
      "\u001b[0;31mRuntimeError\u001b[0m                              Traceback (most recent call last)",
      "Cell \u001b[0;32mIn[34], line 1\u001b[0m\n\u001b[0;32m----> 1\u001b[0m \u001b[43mtorch\u001b[49m\u001b[38;5;241;43m.\u001b[39;49m\u001b[43mbackends\u001b[49m\u001b[38;5;241;43m.\u001b[39;49m\u001b[43mquantized\u001b[49m\u001b[38;5;241;43m.\u001b[39;49m\u001b[43mengine\u001b[49m \u001b[38;5;241m=\u001b[39m \u001b[38;5;124m'\u001b[39m\u001b[38;5;124mfbgemm\u001b[39m\u001b[38;5;124m'\u001b[39m\n\u001b[1;32m      2\u001b[0m qconfig_mapping \u001b[38;5;241m=\u001b[39m qfx\u001b[38;5;241m.\u001b[39mget_default_qconfig_mapping(\u001b[38;5;124m'\u001b[39m\u001b[38;5;124mfbgemm\u001b[39m\u001b[38;5;124m'\u001b[39m)\n\u001b[1;32m      4\u001b[0m example_inputs \u001b[38;5;241m=\u001b[39m (torch\u001b[38;5;241m.\u001b[39mrandn(\u001b[38;5;241m1\u001b[39m,\u001b[38;5;241m3\u001b[39m,\u001b[38;5;241m416\u001b[39m,\u001b[38;5;241m416\u001b[39m),)\n",
      "File \u001b[0;32m~/archiconda3/envs/pytorch/lib/python3.10/site-packages/torch/backends/quantized/__init__.py:37\u001b[0m, in \u001b[0;36m_QEngineProp.__set__\u001b[0;34m(self, obj, val)\u001b[0m\n\u001b[1;32m     36\u001b[0m \u001b[38;5;28;01mdef\u001b[39;00m \u001b[38;5;21m__set__\u001b[39m(\u001b[38;5;28mself\u001b[39m, obj, val: \u001b[38;5;28mstr\u001b[39m) \u001b[38;5;241m-\u001b[39m\u001b[38;5;241m>\u001b[39m \u001b[38;5;28;01mNone\u001b[39;00m:\n\u001b[0;32m---> 37\u001b[0m     \u001b[43mtorch\u001b[49m\u001b[38;5;241;43m.\u001b[39;49m\u001b[43m_C\u001b[49m\u001b[38;5;241;43m.\u001b[39;49m\u001b[43m_set_qengine\u001b[49m\u001b[43m(\u001b[49m\u001b[43m_get_qengine_id\u001b[49m\u001b[43m(\u001b[49m\u001b[43mval\u001b[49m\u001b[43m)\u001b[49m\u001b[43m)\u001b[49m\n",
      "\u001b[0;31mRuntimeError\u001b[0m: quantized engine FBGEMM is not supported"
     ]
    }
   ],
   "source": [
    "torch.backends.quantized.engine = 'fbgemm'\n",
    "qconfig_mapping = qfx.get_default_qconfig_mapping('fbgemm')\n",
    "\n",
    "example_inputs = (torch.randn(1,3,416,416),)\n",
    "prepared = qfx.prepare_fx(model, qconfig_mapping, example_inputs)\n",
    "\n",
    "with torch.inference_mode():\n",
    "    for imgs in calib_loader:\n",
    "        prepared(imgs)\n",
    "\n",
    "int8_model = qfx.convert_fx(prepared)"
   ]
  },
  {
   "cell_type": "code",
   "execution_count": null,
   "id": "6cf674cf",
   "metadata": {},
   "outputs": [],
   "source": []
  }
 ],
 "metadata": {
  "kernelspec": {
   "display_name": "pytorch",
   "language": "python",
   "name": "python3"
  },
  "language_info": {
   "codemirror_mode": {
    "name": "ipython",
    "version": 3
   },
   "file_extension": ".py",
   "mimetype": "text/x-python",
   "name": "python",
   "nbconvert_exporter": "python",
   "pygments_lexer": "ipython3",
   "version": "3.10.0"
  }
 },
 "nbformat": 4,
 "nbformat_minor": 5
}
