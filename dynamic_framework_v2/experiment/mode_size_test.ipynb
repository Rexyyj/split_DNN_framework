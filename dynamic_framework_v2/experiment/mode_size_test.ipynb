{
 "cells": [
  {
   "cell_type": "code",
   "execution_count": null,
   "id": "8a939579",
   "metadata": {},
   "outputs": [],
   "source": []
  },
  {
   "cell_type": "code",
   "execution_count": 19,
   "id": "1a5af325",
   "metadata": {},
   "outputs": [],
   "source": [
    "################################### setting path ###################################\n",
    "import sys\n",
    "sys.path.append('../')\n",
    "sys.path.append('../../')\n",
    "################################### import libs ###################################\n",
    "from  pytorchyolo import  models_split_tiny\n",
    "# from pytorchyolo import models\n",
    "import numpy as np\n",
    "import time\n",
    "import torch\n",
    "import math\n",
    "import os\n",
    "from split_framework.split_framework_dynamic import SplitFramework\n",
    "import tqdm\n",
    "import numpy as np\n",
    "import requests, pickle\n",
    "import torch\n",
    "from torch.utils.data import DataLoader\n",
    "from torch.autograd import Variable\n",
    "from terminaltables import AsciiTable\n",
    "from pytorchyolo.utils.utils import load_classes, ap_per_class, get_batch_statistics, xywh2xyxy\n",
    "from pytorchyolo.utils.datasets import ListDataset\n",
    "from pytorchyolo.utils.transforms import DEFAULT_TRANSFORMS\n",
    "from algorithm.manager_full import Manager\n",
    "from split_framework.gnb import GNB\n",
    "import random\n",
    "from scipy.interpolate import griddata\n",
    "import pandas as pd\n",
    "from torchinfo import summary\n",
    "\n",
    "import warnings\n",
    "\n",
    "import torch.quantization"
   ]
  },
  {
   "cell_type": "code",
   "execution_count": 20,
   "id": "9d729bab",
   "metadata": {},
   "outputs": [],
   "source": [
    "cfg_path = \"../../pytorchyolo/config/yolov3-tiny.cfg\"\n",
    "model_path = \"../ckpt/vidVRD.pth\"\n",
    "\n",
    "split_layer=8\n"
   ]
  },
  {
   "cell_type": "code",
   "execution_count": 21,
   "id": "90da3a86",
   "metadata": {},
   "outputs": [
    {
     "data": {
      "text/plain": [
       "==========================================================================================\n",
       "Layer (type:depth-idx)                   Output Shape              Param #\n",
       "==========================================================================================\n",
       "Darknet                                  [1, 256, 26, 26]          --\n",
       "├─ModuleList: 1-1                        --                        8,459,262\n",
       "│    └─Sequential: 2-1                   [1, 16, 416, 416]         --\n",
       "│    │    └─Conv2d: 3-1                  [1, 16, 416, 416]         432\n",
       "│    │    └─BatchNorm2d: 3-2             [1, 16, 416, 416]         32\n",
       "│    │    └─LeakyReLU: 3-3               [1, 16, 416, 416]         --\n",
       "│    └─Sequential: 2-2                   [1, 16, 208, 208]         --\n",
       "│    │    └─MaxPool2d: 3-4               [1, 16, 208, 208]         --\n",
       "│    └─Sequential: 2-3                   [1, 32, 208, 208]         --\n",
       "│    │    └─Conv2d: 3-5                  [1, 32, 208, 208]         4,608\n",
       "│    │    └─BatchNorm2d: 3-6             [1, 32, 208, 208]         64\n",
       "│    │    └─LeakyReLU: 3-7               [1, 32, 208, 208]         --\n",
       "│    └─Sequential: 2-4                   [1, 32, 104, 104]         --\n",
       "│    │    └─MaxPool2d: 3-8               [1, 32, 104, 104]         --\n",
       "│    └─Sequential: 2-5                   [1, 64, 104, 104]         --\n",
       "│    │    └─Conv2d: 3-9                  [1, 64, 104, 104]         18,432\n",
       "│    │    └─BatchNorm2d: 3-10            [1, 64, 104, 104]         128\n",
       "│    │    └─LeakyReLU: 3-11              [1, 64, 104, 104]         --\n",
       "│    └─Sequential: 2-6                   [1, 64, 52, 52]           --\n",
       "│    │    └─MaxPool2d: 3-12              [1, 64, 52, 52]           --\n",
       "│    └─Sequential: 2-7                   [1, 128, 52, 52]          --\n",
       "│    │    └─Conv2d: 3-13                 [1, 128, 52, 52]          73,728\n",
       "│    │    └─BatchNorm2d: 3-14            [1, 128, 52, 52]          256\n",
       "│    │    └─LeakyReLU: 3-15              [1, 128, 52, 52]          --\n",
       "│    └─Sequential: 2-8                   [1, 128, 26, 26]          --\n",
       "│    │    └─MaxPool2d: 3-16              [1, 128, 26, 26]          --\n",
       "│    └─Sequential: 2-9                   [1, 256, 26, 26]          --\n",
       "│    │    └─Conv2d: 3-17                 [1, 256, 26, 26]          294,912\n",
       "│    │    └─BatchNorm2d: 3-18            [1, 256, 26, 26]          512\n",
       "│    │    └─LeakyReLU: 3-19              [1, 256, 26, 26]          --\n",
       "==========================================================================================\n",
       "Total params: 8,852,366\n",
       "Trainable params: 8,852,366\n",
       "Non-trainable params: 0\n",
       "Total mult-adds (M): 872.20\n",
       "==========================================================================================\n",
       "Input size (MB): 2.08\n",
       "Forward/backward pass size (MB): 85.84\n",
       "Params size (MB): 1.57\n",
       "Estimated Total Size (MB): 89.48\n",
       "=========================================================================================="
      ]
     },
     "execution_count": 21,
     "metadata": {},
     "output_type": "execute_result"
    }
   ],
   "source": [
    "model = models_split_tiny.load_model(cfg_path, model_path)\n",
    "model.set_split_layer(split_layer) # layer <7\n",
    "model = model.eval()\n",
    "summary(model, input_size=(1, 3, 416, 416))"
   ]
  },
  {
   "cell_type": "code",
   "execution_count": 22,
   "id": "7009c70e",
   "metadata": {},
   "outputs": [],
   "source": [
    "# model.half()"
   ]
  },
  {
   "cell_type": "code",
   "execution_count": 23,
   "id": "6cf674cf",
   "metadata": {},
   "outputs": [],
   "source": [
    "# summary(model, input_size=(1, 3, 416, 416), dtypes=[torch.float16])"
   ]
  },
  {
   "cell_type": "code",
   "execution_count": 28,
   "id": "256880db",
   "metadata": {},
   "outputs": [],
   "source": [
    "model_int8 = torch.quantization.quantize_dynamic(\n",
    "    model,  # your model\n",
    "    {torch.nn.Linear},  # layers to quantize\n",
    "    dtype=torch.qint8\n",
    ")"
   ]
  },
  {
   "cell_type": "code",
   "execution_count": 32,
   "id": "88e87f5d",
   "metadata": {},
   "outputs": [
    {
     "data": {
      "text/plain": [
       "==========================================================================================\n",
       "Layer (type:depth-idx)                   Output Shape              Param #\n",
       "==========================================================================================\n",
       "Darknet                                  [1, 256, 26, 26]          --\n",
       "├─ModuleList: 1-1                        --                        8,459,262\n",
       "│    └─Sequential: 2-1                   [1, 16, 416, 416]         --\n",
       "│    │    └─Conv2d: 3-1                  [1, 16, 416, 416]         432\n",
       "│    │    └─BatchNorm2d: 3-2             [1, 16, 416, 416]         32\n",
       "│    │    └─LeakyReLU: 3-3               [1, 16, 416, 416]         --\n",
       "│    └─Sequential: 2-2                   [1, 16, 208, 208]         --\n",
       "│    │    └─MaxPool2d: 3-4               [1, 16, 208, 208]         --\n",
       "│    └─Sequential: 2-3                   [1, 32, 208, 208]         --\n",
       "│    │    └─Conv2d: 3-5                  [1, 32, 208, 208]         4,608\n",
       "│    │    └─BatchNorm2d: 3-6             [1, 32, 208, 208]         64\n",
       "│    │    └─LeakyReLU: 3-7               [1, 32, 208, 208]         --\n",
       "│    └─Sequential: 2-4                   [1, 32, 104, 104]         --\n",
       "│    │    └─MaxPool2d: 3-8               [1, 32, 104, 104]         --\n",
       "│    └─Sequential: 2-5                   [1, 64, 104, 104]         --\n",
       "│    │    └─Conv2d: 3-9                  [1, 64, 104, 104]         18,432\n",
       "│    │    └─BatchNorm2d: 3-10            [1, 64, 104, 104]         128\n",
       "│    │    └─LeakyReLU: 3-11              [1, 64, 104, 104]         --\n",
       "│    └─Sequential: 2-6                   [1, 64, 52, 52]           --\n",
       "│    │    └─MaxPool2d: 3-12              [1, 64, 52, 52]           --\n",
       "│    └─Sequential: 2-7                   [1, 128, 52, 52]          --\n",
       "│    │    └─Conv2d: 3-13                 [1, 128, 52, 52]          73,728\n",
       "│    │    └─BatchNorm2d: 3-14            [1, 128, 52, 52]          256\n",
       "│    │    └─LeakyReLU: 3-15              [1, 128, 52, 52]          --\n",
       "│    └─Sequential: 2-8                   [1, 128, 26, 26]          --\n",
       "│    │    └─MaxPool2d: 3-16              [1, 128, 26, 26]          --\n",
       "│    └─Sequential: 2-9                   [1, 256, 26, 26]          --\n",
       "│    │    └─Conv2d: 3-17                 [1, 256, 26, 26]          294,912\n",
       "│    │    └─BatchNorm2d: 3-18            [1, 256, 26, 26]          512\n",
       "│    │    └─LeakyReLU: 3-19              [1, 256, 26, 26]          --\n",
       "==========================================================================================\n",
       "Total params: 8,852,366\n",
       "Trainable params: 8,852,366\n",
       "Non-trainable params: 0\n",
       "Total mult-adds (M): 872.20\n",
       "==========================================================================================\n",
       "Input size (MB): 2.08\n",
       "Forward/backward pass size (MB): 85.84\n",
       "Params size (MB): 1.57\n",
       "Estimated Total Size (MB): 89.48\n",
       "=========================================================================================="
      ]
     },
     "execution_count": 32,
     "metadata": {},
     "output_type": "execute_result"
    }
   ],
   "source": [
    "x = torch.randn(1, 3, 416, 416)\n",
    "x_q = torch.quantize_per_tensor(x, scale=0.1, zero_point=128, dtype=torch.quint8)\n",
    "\n",
    "summary(model_int8, input_size=(1, 3, 416, 416))"
   ]
  }
 ],
 "metadata": {
  "kernelspec": {
   "display_name": "pytorch",
   "language": "python",
   "name": "python3"
  },
  "language_info": {
   "codemirror_mode": {
    "name": "ipython",
    "version": 3
   },
   "file_extension": ".py",
   "mimetype": "text/x-python",
   "name": "python",
   "nbconvert_exporter": "python",
   "pygments_lexer": "ipython3",
   "version": "3.8.18"
  }
 },
 "nbformat": 4,
 "nbformat_minor": 5
}
