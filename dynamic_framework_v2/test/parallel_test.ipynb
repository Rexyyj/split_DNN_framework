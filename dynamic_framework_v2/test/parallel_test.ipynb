{
 "cells": [
  {
   "cell_type": "code",
   "execution_count": 66,
   "metadata": {},
   "outputs": [],
   "source": [
    "import torch\n",
    "import multiprocessing\n",
    "import tensorly as tl\n",
    "import time\n",
    "import numpy as np"
   ]
  },
  {
   "cell_type": "code",
   "execution_count": 36,
   "metadata": {},
   "outputs": [],
   "source": [
    "tl.set_backend('pytorch')"
   ]
  },
  {
   "cell_type": "code",
   "execution_count": 68,
   "metadata": {},
   "outputs": [],
   "source": [
    "tensor = torch.rand([128,26,26],device=\"cpu\")"
   ]
  },
  {
   "cell_type": "code",
   "execution_count": 65,
   "metadata": {},
   "outputs": [
    {
     "name": "stdout",
     "output_type": "stream",
     "text": [
      "4960.1738\n"
     ]
    }
   ],
   "source": [
    "begin_time = time.time_ns()\n",
    "for i in range(tensor.shape[0]):\n",
    "    ft = tl.decomposition.parafac(tensor[i], rank=5)\n",
    "\n",
    "print((time.time_ns()-begin_time)/1e6)"
   ]
  },
  {
   "cell_type": "code",
   "execution_count": 62,
   "metadata": {},
   "outputs": [],
   "source": [
    "def decomposition_worker(x):\n",
    "    ft = tl.decomposition.parafac(x, rank=5)\n",
    "    return ft"
   ]
  },
  {
   "cell_type": "code",
   "execution_count": 63,
   "metadata": {},
   "outputs": [
    {
     "name": "stdout",
     "output_type": "stream",
     "text": [
      "2787.527727\n"
     ]
    }
   ],
   "source": [
    "begin = time.time_ns()\n",
    "with multiprocessing.Pool(processes=3) as pool:\n",
    "    results = pool.map(decomposition_worker, tensor)  # Parallel execution\n",
    "\n",
    "print((time.time_ns()-begin)/1e6)"
   ]
  },
  {
   "cell_type": "code",
   "execution_count": null,
   "metadata": {},
   "outputs": [],
   "source": []
  },
  {
   "cell_type": "code",
   "execution_count": 86,
   "metadata": {},
   "outputs": [
    {
     "name": "stdout",
     "output_type": "stream",
     "text": [
      "120.407761\n"
     ]
    }
   ],
   "source": [
    "begin = time.time_ns()\n",
    "for i in range(tensor.shape[0]):\n",
    "    x_raw = np.arange(0,26*26)    \n",
    "    t = tensor[i].reshape(26*26)\n",
    "    mask = t!=0\n",
    "    y = abs(t[mask])\n",
    "    x=x_raw[mask]\n",
    "    m = np.polyfit(x,y,6)\n",
    "\n",
    "print((time.time_ns()-begin)/1e6)"
   ]
  },
  {
   "cell_type": "code",
   "execution_count": 87,
   "metadata": {},
   "outputs": [],
   "source": [
    "def regression_worker(temp):\n",
    "    x_raw = np.arange(0,26*26)    \n",
    "    t = temp.reshape(26*26)\n",
    "    mask = t!=0\n",
    "    y = abs(t[mask])\n",
    "    x=x_raw[mask]\n",
    "    m = np.polyfit(x,y,6)\n",
    "    return m"
   ]
  },
  {
   "cell_type": "code",
   "execution_count": 88,
   "metadata": {},
   "outputs": [
    {
     "name": "stdout",
     "output_type": "stream",
     "text": [
      "182.238108\n"
     ]
    }
   ],
   "source": [
    "begin = time.time_ns()\n",
    "with multiprocessing.Pool(processes=3) as pool:\n",
    "    results = pool.map(regression_worker, tensor)  # Parallel execution\n",
    "\n",
    "print((time.time_ns()-begin)/1e6)"
   ]
  },
  {
   "cell_type": "code",
   "execution_count": 22,
   "metadata": {},
   "outputs": [],
   "source": [
    "def worker_function(x):\n",
    "    time.sleep(0.04)\n",
    "    return x * x  # Example computation"
   ]
  },
  {
   "cell_type": "code",
   "execution_count": 32,
   "metadata": {},
   "outputs": [
    {
     "name": "stdout",
     "output_type": "stream",
     "text": [
      "222.019714\n"
     ]
    }
   ],
   "source": [
    "num_cores = multiprocessing.cpu_count()  # Get available CPU cores\n",
    "begin = time.time_ns()\n",
    "with multiprocessing.Pool(processes=10) as pool:\n",
    "    results = pool.map(worker_function, [1,2,3,4,5,6,7,8,9,10])  # Parallel execution\n",
    "\n",
    "print((time.time_ns()-begin)/1e6)\n",
    "# print(results)  # Output: [0, 1, 4, 9, 16, 25, 36, 49, 64, 81]\n"
   ]
  },
  {
   "cell_type": "code",
   "execution_count": 24,
   "metadata": {},
   "outputs": [
    {
     "name": "stdout",
     "output_type": "stream",
     "text": [
      "5132.171664\n"
     ]
    }
   ],
   "source": [
    "begin = time.time_ns()\n",
    "for i in range(128):\n",
    "    temp = worker_function(i)\n",
    "print((time.time_ns()-begin)/1e6)"
   ]
  },
  {
   "cell_type": "code",
   "execution_count": null,
   "metadata": {},
   "outputs": [
    {
     "data": {
      "text/plain": [
       "range(0, 10)"
      ]
     },
     "execution_count": 31,
     "metadata": {},
     "output_type": "execute_result"
    }
   ],
   "source": []
  }
 ],
 "metadata": {
  "kernelspec": {
   "display_name": "pytorch",
   "language": "python",
   "name": "python3"
  },
  "language_info": {
   "codemirror_mode": {
    "name": "ipython",
    "version": 3
   },
   "file_extension": ".py",
   "mimetype": "text/x-python",
   "name": "python",
   "nbconvert_exporter": "python",
   "pygments_lexer": "ipython3",
   "version": "3.10.0"
  }
 },
 "nbformat": 4,
 "nbformat_minor": 2
}
