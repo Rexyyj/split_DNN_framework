{
 "cells": [
  {
   "cell_type": "code",
   "execution_count": 208,
   "id": "24f246a5",
   "metadata": {},
   "outputs": [],
   "source": [
    "import numpy as np\n",
    "import matplotlib.pyplot as plt\n",
    "import pandas as pd"
   ]
  },
  {
   "cell_type": "code",
   "execution_count": 209,
   "id": "3ed1d3f8",
   "metadata": {},
   "outputs": [],
   "source": [
    "plt.rcParams.update({\"text.usetex\": False,\n",
    "                     \"font.size\": 20,\n",
    "                     \"pdf.fonttype\": 42,\n",
    "                     \"ps.fonttype\": 42})"
   ]
  },
  {
   "cell_type": "code",
   "execution_count": 210,
   "id": "25c5fa7b",
   "metadata": {},
   "outputs": [],
   "source": [
    "target_latency = 160"
   ]
  },
  {
   "cell_type": "code",
   "execution_count": 211,
   "id": "3d839061",
   "metadata": {},
   "outputs": [],
   "source": [
    "# local_df = pd.read_csv(\"../measurements/local_long/map.csv\")\n",
    "# root_folder = \"../measurements/static_test_50/\"\n",
    "# mag_folder = \"../measurements/real_bw_test_15fps/\"\n",
    "\n",
    "# local_df = pd.read_csv(\"../measurements_vidvrd/local_test/map.csv\")\n",
    "# root_folder = \"../measurements_vidvrd/static_test_50/\"\n",
    "# mag_folder = \"../measurements_vidvrd/test_ltl_15/\"\n",
    "\n",
    "local_df = pd.read_csv(\"../measurements_bev/local_test/map.csv\")\n",
    "root_folder = \"../measurements_bev/static_test_50/\"\n",
    "mag_folder = \"../measurements_bev/test_ltl_15/\"\n",
    "\n",
    "\n",
    "map_df = pd.read_csv(root_folder+\"map.csv\")\n",
    "cha_df = pd.read_csv(root_folder+\"characteristic.csv\")\n",
    "mag_df = pd.read_csv(mag_folder+\"manager.csv\")\n",
    "tim_df = pd.read_csv(root_folder+\"time.csv\")\n",
    "\n",
    "cal_time = []\n",
    "for i in range(len(tim_df)):\n",
    "    if tim_df[\"technique\"][i] == 2:\n",
    "        cal_time.append(tim_df[\"compression_time\"][i]/32)\n",
    "    elif tim_df[\"technique\"][i] == 3:\n",
    "        cal_time.append(tim_df[\"compression_time\"][i]-50)\n",
    "    else:\n",
    "        cal_time.append(tim_df[\"compression_time\"][i])\n",
    "tim_df[\"compression_time\"] = cal_time\n",
    "\n",
    "tim_df[\"transmission_time\"] = cha_df[\"datasize_est\"]*8/cha_df[\"consumed_bw\"]*1000\n",
    "tim_df[\"overall_est\"] = tim_df[\"model_head_time\"]*10+tim_df[\"model_tail_time\"]+tim_df[\"framework_head_time\"]+tim_df[\"framework_tail_time\"] + tim_df[\"compression_time\"]+tim_df[\"decompression_time\"]+ tim_df[\"transmission_time\"]"
   ]
  },
  {
   "cell_type": "code",
   "execution_count": 212,
   "id": "08c3d1bf",
   "metadata": {},
   "outputs": [],
   "source": [
    "drops = []\n",
    "\n",
    "for i in range(400):\n",
    "    try:\n",
    "        d = mag_df[mag_df[\"frame_id\"]==i+1][\"drop\"].tolist()[0]\n",
    "        if d >0.4:\n",
    "            d=0.4\n",
    "        drops.append(d)\n",
    "    except:\n",
    "        drops.append(drops[-1])\n",
    "\n",
    "\n",
    "df = pd.DataFrame()\n",
    "df[\"traget_drops\"] = drops"
   ]
  },
  {
   "cell_type": "code",
   "execution_count": 213,
   "id": "a0f082fb",
   "metadata": {},
   "outputs": [],
   "source": [
    "df[\"map_drop\"] = local_df[\"map\"] - map_df[\"map\"]\n",
    "df[\"sen_drop\"] = local_df[\"sensitivity\"] - map_df[\"sensitivity\"]"
   ]
  },
  {
   "cell_type": "code",
   "execution_count": 214,
   "id": "c8790e1b",
   "metadata": {},
   "outputs": [],
   "source": [
    "df[\"bandwidth\"] = cha_df[\"bandwidth\"]\n",
    "df[\"bw_com\"] = cha_df[\"consumed_bw\"]\n",
    "df[\"overall_time\"] = tim_df[\"overall_est\"]"
   ]
  },
  {
   "cell_type": "code",
   "execution_count": 215,
   "id": "9b397bac",
   "metadata": {},
   "outputs": [],
   "source": [
    "df = df[200:]"
   ]
  },
  {
   "cell_type": "code",
   "execution_count": 216,
   "id": "7dd666d0",
   "metadata": {},
   "outputs": [
    {
     "data": {
      "text/html": [
       "<div>\n",
       "<style scoped>\n",
       "    .dataframe tbody tr th:only-of-type {\n",
       "        vertical-align: middle;\n",
       "    }\n",
       "\n",
       "    .dataframe tbody tr th {\n",
       "        vertical-align: top;\n",
       "    }\n",
       "\n",
       "    .dataframe thead th {\n",
       "        text-align: right;\n",
       "    }\n",
       "</style>\n",
       "<table border=\"1\" class=\"dataframe\">\n",
       "  <thead>\n",
       "    <tr style=\"text-align: right;\">\n",
       "      <th></th>\n",
       "      <th>traget_drops</th>\n",
       "      <th>map_drop</th>\n",
       "      <th>sen_drop</th>\n",
       "      <th>bandwidth</th>\n",
       "      <th>bw_com</th>\n",
       "      <th>overall_time</th>\n",
       "    </tr>\n",
       "  </thead>\n",
       "  <tbody>\n",
       "    <tr>\n",
       "      <th>200</th>\n",
       "      <td>0.4</td>\n",
       "      <td>0.156952</td>\n",
       "      <td>0.000000</td>\n",
       "      <td>8880000.0</td>\n",
       "      <td>1.038071e+06</td>\n",
       "      <td>164.488845</td>\n",
       "    </tr>\n",
       "    <tr>\n",
       "      <th>201</th>\n",
       "      <td>0.4</td>\n",
       "      <td>0.225259</td>\n",
       "      <td>0.238095</td>\n",
       "      <td>8880000.0</td>\n",
       "      <td>1.518776e+06</td>\n",
       "      <td>164.798379</td>\n",
       "    </tr>\n",
       "    <tr>\n",
       "      <th>202</th>\n",
       "      <td>0.4</td>\n",
       "      <td>0.021453</td>\n",
       "      <td>0.000000</td>\n",
       "      <td>8880000.0</td>\n",
       "      <td>1.566635e+06</td>\n",
       "      <td>164.357838</td>\n",
       "    </tr>\n",
       "    <tr>\n",
       "      <th>203</th>\n",
       "      <td>0.4</td>\n",
       "      <td>0.692582</td>\n",
       "      <td>0.357143</td>\n",
       "      <td>8880000.0</td>\n",
       "      <td>9.799059e+05</td>\n",
       "      <td>164.857513</td>\n",
       "    </tr>\n",
       "    <tr>\n",
       "      <th>204</th>\n",
       "      <td>0.4</td>\n",
       "      <td>0.203515</td>\n",
       "      <td>0.117647</td>\n",
       "      <td>8880000.0</td>\n",
       "      <td>1.005176e+06</td>\n",
       "      <td>165.192266</td>\n",
       "    </tr>\n",
       "    <tr>\n",
       "      <th>...</th>\n",
       "      <td>...</td>\n",
       "      <td>...</td>\n",
       "      <td>...</td>\n",
       "      <td>...</td>\n",
       "      <td>...</td>\n",
       "      <td>...</td>\n",
       "    </tr>\n",
       "    <tr>\n",
       "      <th>395</th>\n",
       "      <td>0.4</td>\n",
       "      <td>0.561229</td>\n",
       "      <td>0.166667</td>\n",
       "      <td>6000000.0</td>\n",
       "      <td>1.050776e+06</td>\n",
       "      <td>163.436679</td>\n",
       "    </tr>\n",
       "    <tr>\n",
       "      <th>396</th>\n",
       "      <td>0.4</td>\n",
       "      <td>0.016224</td>\n",
       "      <td>-0.133333</td>\n",
       "      <td>6000000.0</td>\n",
       "      <td>1.148894e+06</td>\n",
       "      <td>163.021615</td>\n",
       "    </tr>\n",
       "    <tr>\n",
       "      <th>397</th>\n",
       "      <td>0.4</td>\n",
       "      <td>0.120367</td>\n",
       "      <td>0.000000</td>\n",
       "      <td>6000000.0</td>\n",
       "      <td>1.035247e+06</td>\n",
       "      <td>163.395561</td>\n",
       "    </tr>\n",
       "    <tr>\n",
       "      <th>398</th>\n",
       "      <td>0.4</td>\n",
       "      <td>0.142602</td>\n",
       "      <td>0.000000</td>\n",
       "      <td>6000000.0</td>\n",
       "      <td>1.017882e+06</td>\n",
       "      <td>162.871982</td>\n",
       "    </tr>\n",
       "    <tr>\n",
       "      <th>399</th>\n",
       "      <td>0.4</td>\n",
       "      <td>0.077718</td>\n",
       "      <td>0.000000</td>\n",
       "      <td>6000000.0</td>\n",
       "      <td>1.646682e+06</td>\n",
       "      <td>162.915721</td>\n",
       "    </tr>\n",
       "  </tbody>\n",
       "</table>\n",
       "<p>200 rows × 6 columns</p>\n",
       "</div>"
      ],
      "text/plain": [
       "     traget_drops  map_drop  sen_drop  bandwidth        bw_com  overall_time\n",
       "200           0.4  0.156952  0.000000  8880000.0  1.038071e+06    164.488845\n",
       "201           0.4  0.225259  0.238095  8880000.0  1.518776e+06    164.798379\n",
       "202           0.4  0.021453  0.000000  8880000.0  1.566635e+06    164.357838\n",
       "203           0.4  0.692582  0.357143  8880000.0  9.799059e+05    164.857513\n",
       "204           0.4  0.203515  0.117647  8880000.0  1.005176e+06    165.192266\n",
       "..            ...       ...       ...        ...           ...           ...\n",
       "395           0.4  0.561229  0.166667  6000000.0  1.050776e+06    163.436679\n",
       "396           0.4  0.016224 -0.133333  6000000.0  1.148894e+06    163.021615\n",
       "397           0.4  0.120367  0.000000  6000000.0  1.035247e+06    163.395561\n",
       "398           0.4  0.142602  0.000000  6000000.0  1.017882e+06    162.871982\n",
       "399           0.4  0.077718  0.000000  6000000.0  1.646682e+06    162.915721\n",
       "\n",
       "[200 rows x 6 columns]"
      ]
     },
     "execution_count": 216,
     "metadata": {},
     "output_type": "execute_result"
    }
   ],
   "source": [
    "df"
   ]
  },
  {
   "cell_type": "code",
   "execution_count": 217,
   "id": "b3544a15",
   "metadata": {},
   "outputs": [],
   "source": [
    "good_df = df[df[\"map_drop\"]<df[\"traget_drops\"]]\n",
    "good_df= good_df[good_df[\"sen_drop\"]<good_df[\"traget_drops\"]]\n",
    "good_df= good_df[good_df[\"bw_com\"]<good_df[\"bandwidth\"]]\n",
    "# good_df= good_df[good_df[\"overall_time\"]<target_latency]"
   ]
  },
  {
   "cell_type": "code",
   "execution_count": 218,
   "id": "9de87e2a",
   "metadata": {},
   "outputs": [
    {
     "data": {
      "text/plain": [
       "0.705"
      ]
     },
     "execution_count": 218,
     "metadata": {},
     "output_type": "execute_result"
    }
   ],
   "source": [
    "len(good_df)/200"
   ]
  }
 ],
 "metadata": {
  "kernelspec": {
   "display_name": "pytorch",
   "language": "python",
   "name": "python3"
  },
  "language_info": {
   "codemirror_mode": {
    "name": "ipython",
    "version": 3
   },
   "file_extension": ".py",
   "mimetype": "text/x-python",
   "name": "python",
   "nbconvert_exporter": "python",
   "pygments_lexer": "ipython3",
   "version": "3.10.0"
  }
 },
 "nbformat": 4,
 "nbformat_minor": 5
}
