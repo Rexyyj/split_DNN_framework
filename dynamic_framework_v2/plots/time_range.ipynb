{
 "cells": [
  {
   "cell_type": "code",
   "execution_count": 21,
   "id": "24f246a5",
   "metadata": {},
   "outputs": [],
   "source": [
    "import numpy as np\n",
    "import matplotlib.pyplot as plt\n",
    "import pandas as pd"
   ]
  },
  {
   "cell_type": "code",
   "execution_count": 22,
   "id": "3ed1d3f8",
   "metadata": {},
   "outputs": [],
   "source": [
    "plt.rcParams.update({\"text.usetex\": False,\n",
    "                     \"font.size\": 20,\n",
    "                     \"pdf.fonttype\": 42,\n",
    "                     \"ps.fonttype\": 42})"
   ]
  },
  {
   "cell_type": "code",
   "execution_count": 23,
   "id": "25c5fa7b",
   "metadata": {},
   "outputs": [],
   "source": [
    "target_latency = 140"
   ]
  },
  {
   "cell_type": "code",
   "execution_count": 24,
   "id": "3d839061",
   "metadata": {},
   "outputs": [],
   "source": [
    "# local_df = pd.read_csv(\"../measurements/local_long/map.csv\")\n",
    "# root_folder = \"../measurements/direct_split_quantize/\"\n",
    "# mag_folder = \"../measurements_vidvrd/test_ltl_15/\"\n",
    "\n",
    "local_df = pd.read_csv(\"../measurements_vidvrd/local_test/map.csv\")\n",
    "root_folder = \"../measurements_vidvrd/direct_split_quantize/\"\n",
    "mag_folder = \"../measurements_vidvrd/test_ltl_15/\"\n",
    "\n",
    "# local_df = pd.read_csv(\"../measurements_bev/local_test/map.csv\")\n",
    "# root_folder = \"../measurements_bev/direct_split_quantize/\"\n",
    "# mag_folder = \"../measurements_bev/test_ltl_15/\"\n",
    "\n",
    "\n",
    "map_df = pd.read_csv(root_folder+\"map.csv\")\n",
    "cha_df = pd.read_csv(mag_folder+\"characteristic.csv\")\n",
    "mag_df = pd.read_csv(mag_folder+\"manager.csv\")\n",
    "tim_df = pd.read_csv(root_folder+\"time.csv\")"
   ]
  },
  {
   "cell_type": "code",
   "execution_count": 25,
   "id": "9b179a9c",
   "metadata": {},
   "outputs": [
    {
     "data": {
      "text/html": [
       "<div>\n",
       "<style scoped>\n",
       "    .dataframe tbody tr th:only-of-type {\n",
       "        vertical-align: middle;\n",
       "    }\n",
       "\n",
       "    .dataframe tbody tr th {\n",
       "        vertical-align: top;\n",
       "    }\n",
       "\n",
       "    .dataframe thead th {\n",
       "        text-align: right;\n",
       "    }\n",
       "</style>\n",
       "<table border=\"1\" class=\"dataframe\">\n",
       "  <thead>\n",
       "    <tr style=\"text-align: right;\">\n",
       "      <th></th>\n",
       "      <th>frame_id</th>\n",
       "      <th>head_time</th>\n",
       "      <th>serialize_time</th>\n",
       "      <th>tail_time</th>\n",
       "    </tr>\n",
       "  </thead>\n",
       "  <tbody>\n",
       "    <tr>\n",
       "      <th>0</th>\n",
       "      <td>1</td>\n",
       "      <td>242.832031</td>\n",
       "      <td>68.167458</td>\n",
       "      <td>1944.066772</td>\n",
       "    </tr>\n",
       "    <tr>\n",
       "      <th>1</th>\n",
       "      <td>2</td>\n",
       "      <td>10.671840</td>\n",
       "      <td>3.011136</td>\n",
       "      <td>14.581824</td>\n",
       "    </tr>\n",
       "    <tr>\n",
       "      <th>2</th>\n",
       "      <td>3</td>\n",
       "      <td>10.552640</td>\n",
       "      <td>2.475840</td>\n",
       "      <td>12.389568</td>\n",
       "    </tr>\n",
       "    <tr>\n",
       "      <th>3</th>\n",
       "      <td>4</td>\n",
       "      <td>10.413312</td>\n",
       "      <td>2.173504</td>\n",
       "      <td>11.973856</td>\n",
       "    </tr>\n",
       "    <tr>\n",
       "      <th>4</th>\n",
       "      <td>5</td>\n",
       "      <td>10.459680</td>\n",
       "      <td>2.693024</td>\n",
       "      <td>16.027937</td>\n",
       "    </tr>\n",
       "    <tr>\n",
       "      <th>...</th>\n",
       "      <td>...</td>\n",
       "      <td>...</td>\n",
       "      <td>...</td>\n",
       "      <td>...</td>\n",
       "    </tr>\n",
       "    <tr>\n",
       "      <th>395</th>\n",
       "      <td>396</td>\n",
       "      <td>10.295936</td>\n",
       "      <td>1.906848</td>\n",
       "      <td>11.630432</td>\n",
       "    </tr>\n",
       "    <tr>\n",
       "      <th>396</th>\n",
       "      <td>397</td>\n",
       "      <td>10.354592</td>\n",
       "      <td>1.985184</td>\n",
       "      <td>11.752608</td>\n",
       "    </tr>\n",
       "    <tr>\n",
       "      <th>397</th>\n",
       "      <td>398</td>\n",
       "      <td>10.271104</td>\n",
       "      <td>1.817472</td>\n",
       "      <td>11.560096</td>\n",
       "    </tr>\n",
       "    <tr>\n",
       "      <th>398</th>\n",
       "      <td>399</td>\n",
       "      <td>10.232768</td>\n",
       "      <td>1.845024</td>\n",
       "      <td>11.602368</td>\n",
       "    </tr>\n",
       "    <tr>\n",
       "      <th>399</th>\n",
       "      <td>400</td>\n",
       "      <td>10.255520</td>\n",
       "      <td>1.895584</td>\n",
       "      <td>11.727424</td>\n",
       "    </tr>\n",
       "  </tbody>\n",
       "</table>\n",
       "<p>400 rows × 4 columns</p>\n",
       "</div>"
      ],
      "text/plain": [
       "     frame_id   head_time  serialize_time    tail_time\n",
       "0           1  242.832031       68.167458  1944.066772\n",
       "1           2   10.671840        3.011136    14.581824\n",
       "2           3   10.552640        2.475840    12.389568\n",
       "3           4   10.413312        2.173504    11.973856\n",
       "4           5   10.459680        2.693024    16.027937\n",
       "..        ...         ...             ...          ...\n",
       "395       396   10.295936        1.906848    11.630432\n",
       "396       397   10.354592        1.985184    11.752608\n",
       "397       398   10.271104        1.817472    11.560096\n",
       "398       399   10.232768        1.845024    11.602368\n",
       "399       400   10.255520        1.895584    11.727424\n",
       "\n",
       "[400 rows x 4 columns]"
      ]
     },
     "execution_count": 25,
     "metadata": {},
     "output_type": "execute_result"
    }
   ],
   "source": [
    "tim_df"
   ]
  },
  {
   "cell_type": "code",
   "execution_count": 26,
   "id": "08c3d1bf",
   "metadata": {},
   "outputs": [],
   "source": [
    "drops = []\n",
    "\n",
    "for i in range(400):\n",
    "    try:\n",
    "        d = mag_df[mag_df[\"frame_id\"]==i+1][\"drop\"].tolist()[0]\n",
    "        if d >0.4:\n",
    "            d=0.4\n",
    "        drops.append(d)\n",
    "    except:\n",
    "        drops.append(drops[-1])\n",
    "\n",
    "\n",
    "df = pd.DataFrame()\n",
    "df[\"traget_drops\"] = drops"
   ]
  },
  {
   "cell_type": "code",
   "execution_count": 27,
   "id": "c1cd54c7",
   "metadata": {},
   "outputs": [],
   "source": [
    "tim_df[\"head_est\"] = tim_df[\"head_time\"]*10\n",
    "tim_df[\"ser_est\"] = tim_df[\"serialize_time\"]*10\n",
    "tim_df[\"uav\"] = tim_df[\"head_est\"]+tim_df[\"ser_est\"] "
   ]
  },
  {
   "cell_type": "code",
   "execution_count": 29,
   "id": "5d5482fa",
   "metadata": {},
   "outputs": [
    {
     "data": {
      "text/plain": [
       "frame_id          400.000000\n",
       "head_time          10.807776\n",
       "serialize_time      3.124672\n",
       "tail_time          16.109247\n",
       "head_est          108.077765\n",
       "ser_est            31.246719\n",
       "uav               134.466562\n",
       "dtype: float64"
      ]
     },
     "execution_count": 29,
     "metadata": {},
     "output_type": "execute_result"
    }
   ],
   "source": [
    "tim_df[200:].max()"
   ]
  },
  {
   "cell_type": "code",
   "execution_count": null,
   "id": "9e5fcf08",
   "metadata": {},
   "outputs": [],
   "source": []
  },
  {
   "cell_type": "code",
   "execution_count": 40,
   "id": "fc499515",
   "metadata": {},
   "outputs": [],
   "source": [
    "# test_df = pd.read_csv(\"../measurements/real_bw_test_15fps/characteristic.csv\")\n",
    "test_df = pd.read_csv(\"../measurements_bev/static_test_50/characteristic.csv\")"
   ]
  },
  {
   "cell_type": "code",
   "execution_count": 42,
   "id": "d6d97cd4",
   "metadata": {},
   "outputs": [
    {
     "data": {
      "text/plain": [
       "12711"
      ]
     },
     "execution_count": 42,
     "metadata": {},
     "output_type": "execute_result"
    }
   ],
   "source": [
    "test_df[200:][\"datasize_est\"].max()"
   ]
  }
 ],
 "metadata": {
  "kernelspec": {
   "display_name": "pytorch",
   "language": "python",
   "name": "python3"
  },
  "language_info": {
   "codemirror_mode": {
    "name": "ipython",
    "version": 3
   },
   "file_extension": ".py",
   "mimetype": "text/x-python",
   "name": "python",
   "nbconvert_exporter": "python",
   "pygments_lexer": "ipython3",
   "version": "3.10.0"
  }
 },
 "nbformat": 4,
 "nbformat_minor": 5
}
