{
 "cells": [
  {
   "cell_type": "code",
   "execution_count": 128,
   "id": "24f246a5",
   "metadata": {},
   "outputs": [],
   "source": [
    "import numpy as np\n",
    "import matplotlib.pyplot as plt\n",
    "import pandas as pd"
   ]
  },
  {
   "cell_type": "code",
   "execution_count": 129,
   "id": "3ed1d3f8",
   "metadata": {},
   "outputs": [],
   "source": [
    "plt.rcParams.update({\"text.usetex\": False,\n",
    "                     \"font.size\": 20,\n",
    "                     \"pdf.fonttype\": 42,\n",
    "                     \"ps.fonttype\": 42})"
   ]
  },
  {
   "cell_type": "code",
   "execution_count": 130,
   "id": "25c5fa7b",
   "metadata": {},
   "outputs": [],
   "source": [
    "target_latency = 160"
   ]
  },
  {
   "cell_type": "code",
   "execution_count": null,
   "id": "3d839061",
   "metadata": {},
   "outputs": [],
   "source": [
    "local_df = pd.read_csv(\"../measurements/local_long/map.csv\")\n",
    "\n",
    "root_folder = \"../measurements/real_bw_test_15fps/\"\n",
    "\n",
    "map_df = pd.read_csv(root_folder+\"map.csv\")\n",
    "cha_df = pd.read_csv(root_folder+\"characteristic.csv\")\n",
    "mag_df = pd.read_csv(root_folder+\"manager.csv\")\n",
    "tim_df = pd.read_csv(root_folder+\"time.csv\")\n",
    "\n",
    "cal_time = []\n",
    "for i in range(len(tim_df)):\n",
    "    if tim_df[\"technique\"][i] == 2:\n",
    "        cal_time.append(tim_df[\"compression_time\"][i]/32)\n",
    "    elif tim_df[\"technique\"][i] == 3:\n",
    "        cal_time.append(tim_df[\"compression_time\"][i]-50)\n",
    "    else:\n",
    "        cal_time.append(tim_df[\"compression_time\"][i])\n",
    "tim_df[\"compression_time\"] = cal_time\n",
    "\n",
    "tim_df[\"transmission_time\"] = cha_df[\"datasize_est\"]*8/cha_df[\"consumed_bw\"]*1000\n",
    "tim_df[\"overall_est\"] = tim_df[\"model_head_time\"]*10+tim_df[\"model_tail_time\"]+tim_df[\"framework_head_time\"]+tim_df[\"framework_tail_time\"] + tim_df[\"compression_time\"]+tim_df[\"decompression_time\"]+ tim_df[\"transmission_time\"]"
   ]
  },
  {
   "cell_type": "code",
   "execution_count": 132,
   "id": "08c3d1bf",
   "metadata": {},
   "outputs": [
    {
     "ename": "IndexError",
     "evalue": "list index out of range",
     "output_type": "error",
     "traceback": [
      "\u001b[0;31m---------------------------------------------------------------------------\u001b[0m",
      "\u001b[0;31mIndexError\u001b[0m                                Traceback (most recent call last)",
      "Cell \u001b[0;32mIn[132], line 5\u001b[0m\n\u001b[1;32m      4\u001b[0m \u001b[38;5;28;01mtry\u001b[39;00m:\n\u001b[0;32m----> 5\u001b[0m     d \u001b[38;5;241m=\u001b[39m \u001b[43mmag_df\u001b[49m\u001b[43m[\u001b[49m\u001b[43mmag_df\u001b[49m\u001b[43m[\u001b[49m\u001b[38;5;124;43m\"\u001b[39;49m\u001b[38;5;124;43mframe_id\u001b[39;49m\u001b[38;5;124;43m\"\u001b[39;49m\u001b[43m]\u001b[49m\u001b[38;5;241;43m==\u001b[39;49m\u001b[43mi\u001b[49m\u001b[38;5;241;43m+\u001b[39;49m\u001b[38;5;241;43m1\u001b[39;49m\u001b[43m]\u001b[49m\u001b[43m[\u001b[49m\u001b[38;5;124;43m\"\u001b[39;49m\u001b[38;5;124;43mdrop\u001b[39;49m\u001b[38;5;124;43m\"\u001b[39;49m\u001b[43m]\u001b[49m\u001b[38;5;241;43m.\u001b[39;49m\u001b[43mtolist\u001b[49m\u001b[43m(\u001b[49m\u001b[43m)\u001b[49m\u001b[43m[\u001b[49m\u001b[38;5;241;43m0\u001b[39;49m\u001b[43m]\u001b[49m\n\u001b[1;32m      6\u001b[0m     \u001b[38;5;28;01mif\u001b[39;00m d \u001b[38;5;241m>\u001b[39m\u001b[38;5;241m0.4\u001b[39m:\n",
      "\u001b[0;31mIndexError\u001b[0m: list index out of range",
      "\nDuring handling of the above exception, another exception occurred:\n",
      "\u001b[0;31mIndexError\u001b[0m                                Traceback (most recent call last)",
      "Cell \u001b[0;32mIn[132], line 10\u001b[0m\n\u001b[1;32m      8\u001b[0m         drops\u001b[38;5;241m.\u001b[39mappend(d)\n\u001b[1;32m      9\u001b[0m     \u001b[38;5;28;01mexcept\u001b[39;00m:\n\u001b[0;32m---> 10\u001b[0m         drops\u001b[38;5;241m.\u001b[39mappend(\u001b[43mdrops\u001b[49m\u001b[43m[\u001b[49m\u001b[38;5;241;43m-\u001b[39;49m\u001b[38;5;241;43m1\u001b[39;49m\u001b[43m]\u001b[49m)\n\u001b[1;32m     13\u001b[0m df \u001b[38;5;241m=\u001b[39m pd\u001b[38;5;241m.\u001b[39mDataFrame()\n\u001b[1;32m     14\u001b[0m df[\u001b[38;5;124m\"\u001b[39m\u001b[38;5;124mtraget_drops\u001b[39m\u001b[38;5;124m\"\u001b[39m] \u001b[38;5;241m=\u001b[39m drops\n",
      "\u001b[0;31mIndexError\u001b[0m: list index out of range"
     ]
    }
   ],
   "source": [
    "drops = []\n",
    "\n",
    "for i in range(400):\n",
    "    try:\n",
    "        d = mag_df[mag_df[\"frame_id\"]==i+1][\"drop\"].tolist()[0]\n",
    "        if d >0.4:\n",
    "            d=0.4\n",
    "        drops.append(d)\n",
    "    except:\n",
    "        drops.append(drops[-1])\n",
    "\n",
    "\n",
    "df = pd.DataFrame()\n",
    "df[\"traget_drops\"] = drops"
   ]
  },
  {
   "cell_type": "code",
   "execution_count": null,
   "id": "a0f082fb",
   "metadata": {},
   "outputs": [],
   "source": [
    "df[\"map_drop\"] = local_df[\"map\"] - map_df[\"map\"]\n",
    "df[\"sen_drop\"] = local_df[\"sensitivity\"] - map_df[\"sensitivity\"]"
   ]
  },
  {
   "cell_type": "code",
   "execution_count": null,
   "id": "c8790e1b",
   "metadata": {},
   "outputs": [],
   "source": [
    "df[\"bandwidth\"] = cha_df[\"bandwidth\"]\n",
    "df[\"bw_com\"] = cha_df[\"consumed_bw\"]\n",
    "df[\"overall_time\"] = tim_df[\"overall_est\"]"
   ]
  },
  {
   "cell_type": "code",
   "execution_count": null,
   "id": "9b397bac",
   "metadata": {},
   "outputs": [],
   "source": [
    "df = df[200:]"
   ]
  },
  {
   "cell_type": "code",
   "execution_count": null,
   "id": "7dd666d0",
   "metadata": {},
   "outputs": [
    {
     "data": {
      "text/html": [
       "<div>\n",
       "<style scoped>\n",
       "    .dataframe tbody tr th:only-of-type {\n",
       "        vertical-align: middle;\n",
       "    }\n",
       "\n",
       "    .dataframe tbody tr th {\n",
       "        vertical-align: top;\n",
       "    }\n",
       "\n",
       "    .dataframe thead th {\n",
       "        text-align: right;\n",
       "    }\n",
       "</style>\n",
       "<table border=\"1\" class=\"dataframe\">\n",
       "  <thead>\n",
       "    <tr style=\"text-align: right;\">\n",
       "      <th></th>\n",
       "      <th>traget_drops</th>\n",
       "      <th>map_drop</th>\n",
       "      <th>sen_drop</th>\n",
       "      <th>bandwidth</th>\n",
       "      <th>bw_com</th>\n",
       "      <th>overall_time</th>\n",
       "    </tr>\n",
       "  </thead>\n",
       "  <tbody>\n",
       "    <tr>\n",
       "      <th>200</th>\n",
       "      <td>0.4</td>\n",
       "      <td>0.166667</td>\n",
       "      <td>0.333333</td>\n",
       "      <td>6000000.0</td>\n",
       "      <td>333442.622951</td>\n",
       "      <td>147.859531</td>\n",
       "    </tr>\n",
       "    <tr>\n",
       "      <th>201</th>\n",
       "      <td>0.4</td>\n",
       "      <td>0.229167</td>\n",
       "      <td>0.333333</td>\n",
       "      <td>6000000.0</td>\n",
       "      <td>396000.000000</td>\n",
       "      <td>148.874602</td>\n",
       "    </tr>\n",
       "    <tr>\n",
       "      <th>202</th>\n",
       "      <td>0.4</td>\n",
       "      <td>0.055556</td>\n",
       "      <td>0.200000</td>\n",
       "      <td>6000000.0</td>\n",
       "      <td>345836.065574</td>\n",
       "      <td>148.232429</td>\n",
       "    </tr>\n",
       "    <tr>\n",
       "      <th>203</th>\n",
       "      <td>0.4</td>\n",
       "      <td>0.187500</td>\n",
       "      <td>0.000000</td>\n",
       "      <td>6000000.0</td>\n",
       "      <td>768983.606557</td>\n",
       "      <td>148.976043</td>\n",
       "    </tr>\n",
       "    <tr>\n",
       "      <th>204</th>\n",
       "      <td>0.4</td>\n",
       "      <td>0.178571</td>\n",
       "      <td>0.000000</td>\n",
       "      <td>6000000.0</td>\n",
       "      <td>386754.098361</td>\n",
       "      <td>147.673004</td>\n",
       "    </tr>\n",
       "    <tr>\n",
       "      <th>...</th>\n",
       "      <td>...</td>\n",
       "      <td>...</td>\n",
       "      <td>...</td>\n",
       "      <td>...</td>\n",
       "      <td>...</td>\n",
       "      <td>...</td>\n",
       "    </tr>\n",
       "    <tr>\n",
       "      <th>395</th>\n",
       "      <td>0.4</td>\n",
       "      <td>0.100000</td>\n",
       "      <td>0.142857</td>\n",
       "      <td>6000000.0</td>\n",
       "      <td>325377.049180</td>\n",
       "      <td>149.787179</td>\n",
       "    </tr>\n",
       "    <tr>\n",
       "      <th>396</th>\n",
       "      <td>0.4</td>\n",
       "      <td>0.037500</td>\n",
       "      <td>0.142857</td>\n",
       "      <td>6000000.0</td>\n",
       "      <td>333836.065574</td>\n",
       "      <td>152.086218</td>\n",
       "    </tr>\n",
       "    <tr>\n",
       "      <th>397</th>\n",
       "      <td>0.4</td>\n",
       "      <td>0.350000</td>\n",
       "      <td>0.285714</td>\n",
       "      <td>6000000.0</td>\n",
       "      <td>343278.688525</td>\n",
       "      <td>150.172107</td>\n",
       "    </tr>\n",
       "    <tr>\n",
       "      <th>398</th>\n",
       "      <td>0.4</td>\n",
       "      <td>0.200000</td>\n",
       "      <td>0.200000</td>\n",
       "      <td>6000000.0</td>\n",
       "      <td>338360.655738</td>\n",
       "      <td>150.541318</td>\n",
       "    </tr>\n",
       "    <tr>\n",
       "      <th>399</th>\n",
       "      <td>0.4</td>\n",
       "      <td>0.200000</td>\n",
       "      <td>0.200000</td>\n",
       "      <td>6000000.0</td>\n",
       "      <td>328327.868852</td>\n",
       "      <td>150.429738</td>\n",
       "    </tr>\n",
       "  </tbody>\n",
       "</table>\n",
       "<p>200 rows × 6 columns</p>\n",
       "</div>"
      ],
      "text/plain": [
       "     traget_drops  map_drop  sen_drop  bandwidth         bw_com  overall_time\n",
       "200           0.4  0.166667  0.333333  6000000.0  333442.622951    147.859531\n",
       "201           0.4  0.229167  0.333333  6000000.0  396000.000000    148.874602\n",
       "202           0.4  0.055556  0.200000  6000000.0  345836.065574    148.232429\n",
       "203           0.4  0.187500  0.000000  6000000.0  768983.606557    148.976043\n",
       "204           0.4  0.178571  0.000000  6000000.0  386754.098361    147.673004\n",
       "..            ...       ...       ...        ...            ...           ...\n",
       "395           0.4  0.100000  0.142857  6000000.0  325377.049180    149.787179\n",
       "396           0.4  0.037500  0.142857  6000000.0  333836.065574    152.086218\n",
       "397           0.4  0.350000  0.285714  6000000.0  343278.688525    150.172107\n",
       "398           0.4  0.200000  0.200000  6000000.0  338360.655738    150.541318\n",
       "399           0.4  0.200000  0.200000  6000000.0  328327.868852    150.429738\n",
       "\n",
       "[200 rows x 6 columns]"
      ]
     },
     "execution_count": 120,
     "metadata": {},
     "output_type": "execute_result"
    }
   ],
   "source": [
    "df"
   ]
  },
  {
   "cell_type": "code",
   "execution_count": null,
   "id": "b3544a15",
   "metadata": {},
   "outputs": [],
   "source": [
    "good_df = df[df[\"map_drop\"]<df[\"traget_drops\"]]\n",
    "good_df= good_df[good_df[\"sen_drop\"]<good_df[\"traget_drops\"]]\n",
    "good_df= good_df[good_df[\"bw_com\"]<good_df[\"bandwidth\"]]\n",
    "good_df= good_df[good_df[\"overall_time\"]<target_latency]"
   ]
  },
  {
   "cell_type": "code",
   "execution_count": null,
   "id": "9de87e2a",
   "metadata": {},
   "outputs": [
    {
     "data": {
      "text/plain": [
       "0.96"
      ]
     },
     "execution_count": 122,
     "metadata": {},
     "output_type": "execute_result"
    }
   ],
   "source": [
    "len(good_df)/200"
   ]
  }
 ],
 "metadata": {
  "kernelspec": {
   "display_name": "pytorch",
   "language": "python",
   "name": "python3"
  },
  "language_info": {
   "codemirror_mode": {
    "name": "ipython",
    "version": 3
   },
   "file_extension": ".py",
   "mimetype": "text/x-python",
   "name": "python",
   "nbconvert_exporter": "python",
   "pygments_lexer": "ipython3",
   "version": "3.10.0"
  }
 },
 "nbformat": 4,
 "nbformat_minor": 5
}
