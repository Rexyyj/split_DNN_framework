{
 "cells": [
  {
   "cell_type": "code",
   "execution_count": 6,
   "metadata": {},
   "outputs": [],
   "source": [
    "import cv2"
   ]
  },
  {
   "cell_type": "code",
   "execution_count": 2,
   "metadata": {},
   "outputs": [],
   "source": [
    "image_path = \"../pytorchyolo/data/custom/images/\"\n",
    "label_path = \"../pytorchyolo/data/custom/labels/\""
   ]
  },
  {
   "cell_type": "code",
   "execution_count": 7,
   "metadata": {},
   "outputs": [],
   "source": [
    "image = cv2.imread(image_path+\"2015-02-21-18-00Chelsea1-1Burnley1_720p_frame29640_png.rf.9efaa6ddeb7fb16caff5b4bff8ecc4bf.jpg\")"
   ]
  },
  {
   "cell_type": "code",
   "execution_count": 8,
   "metadata": {},
   "outputs": [
    {
     "data": {
      "text/plain": [
       "(640, 640, 3)"
      ]
     },
     "execution_count": 8,
     "metadata": {},
     "output_type": "execute_result"
    }
   ],
   "source": [
    "image.shape"
   ]
  },
  {
   "cell_type": "code",
   "execution_count": 3,
   "metadata": {},
   "outputs": [],
   "source": [
    "test_file = open(label_path+\"2015-02-21-18-00Chelsea1-1Burnley1_720p_frame29640_png.rf.9efaa6ddeb7fb16caff5b4bff8ecc4bf.txt\")\n",
    "labels = test_file.readlines()"
   ]
  },
  {
   "cell_type": "code",
   "execution_count": 5,
   "metadata": {},
   "outputs": [
    {
     "name": "stdout",
     "output_type": "stream",
     "text": [
      "[0.0, 272.675, 316.22499999999997, 8.775, 15.925]\n",
      "[832.0, 144.29999999999998, 180.04999999999998, 15.925, 40.300000000000004]\n",
      "[416.0, 408.84999999999997, 111.8, 14.3, 38.675000000000004]\n",
      "[1248.0, 118.3, 129.025, 18.525000000000002, 38.675000000000004]\n",
      "[1248.0, 111.15, 224.575, 21.775000000000002, 53.95]\n",
      "[1248.0, 123.175, 341.25, 22.425, 71.175]\n",
      "[1248.0, 218.075, 237.575, 13.975, 52.65]\n",
      "[1248.0, 196.95000000000002, 106.925, 13.975, 39.0]\n",
      "[1248.0, 253.5, 132.275, 17.224999999999998, 44.85]\n",
      "[1248.0, 297.7, 169.0, 17.55, 43.550000000000004]\n",
      "[1248.0, 335.075, 185.25, 10.725, 48.1]\n",
      "[1248.0, 406.90000000000003, 229.775, 15.275, 53.95]\n",
      "[1248.0, 405.925, 174.20000000000002, 17.55, 52.0]\n",
      "[1248.0, 346.45, 147.225, 14.3, 39.0]\n",
      "[1248.0, 304.2, 113.425, 12.025, 35.425000000000004]\n",
      "[1248.0, 11.049999999999999, 85.47500000000001, 16.25, 30.875]\n"
     ]
    }
   ],
   "source": [
    "for gt in labels:\n",
    "    temp = [float(elem)*416 for elem in gt.replace(\"\\n\",\"\").split(\" \")]\n",
    "    print(temp)"
   ]
  }
 ],
 "metadata": {
  "kernelspec": {
   "display_name": "pytorch",
   "language": "python",
   "name": "python3"
  },
  "language_info": {
   "codemirror_mode": {
    "name": "ipython",
    "version": 3
   },
   "file_extension": ".py",
   "mimetype": "text/x-python",
   "name": "python",
   "nbconvert_exporter": "python",
   "pygments_lexer": "ipython3",
   "version": "3.10.0"
  }
 },
 "nbformat": 4,
 "nbformat_minor": 2
}
