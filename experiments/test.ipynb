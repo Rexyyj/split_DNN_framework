{
 "cells": [
  {
   "cell_type": "code",
   "execution_count": 1,
   "metadata": {},
   "outputs": [],
   "source": [
    "import sys\n",
    "# setting path\n",
    "sys.path.append('../')"
   ]
  },
  {
   "cell_type": "code",
   "execution_count": 21,
   "metadata": {},
   "outputs": [],
   "source": [
    "from torch.profiler import profile, record_function, ProfilerActivity\n",
    "import time"
   ]
  },
  {
   "cell_type": "code",
   "execution_count": 22,
   "metadata": {},
   "outputs": [
    {
     "name": "stderr",
     "output_type": "stream",
     "text": [
      "WARNING:2024-06-17 17:12:54 285763:285763 init.cpp:155] function cbapi->getCuptiStatus() failed with error CUPTI_ERROR_INSUFFICIENT_PRIVILEGES (35)\n",
      "WARNING:2024-06-17 17:12:54 285763:285763 init.cpp:156] CUPTI initialization failed - CUDA profiler activities will be missing\n",
      "INFO:2024-06-17 17:12:54 285763:285763 init.cpp:158] If you see CUPTI_ERROR_INSUFFICIENT_PRIVILEGES, refer to https://developer.nvidia.com/nvidia-development-tools-solutions-err-nvgpuctrperm-cupti\n",
      "ERROR: External init callback must run in same thread as registerClient (-2105715008 != -567680736)\n",
      "STAGE:2024-06-17 17:12:55 285763:285763 ActivityProfilerController.cpp:312] Completed Stage: Warm Up\n",
      "STAGE:2024-06-17 17:12:56 285763:285763 ActivityProfilerController.cpp:318] Completed Stage: Collection\n",
      "STAGE:2024-06-17 17:12:56 285763:285763 ActivityProfilerController.cpp:322] Completed Stage: Post Processing\n"
     ]
    }
   ],
   "source": [
    "with profile(activities=[ProfilerActivity.CPU, ProfilerActivity.CUDA], profile_memory=True) as prof:\n",
    "    with record_function(\"model_inference\"):\n",
    "        time.sleep(1)"
   ]
  },
  {
   "cell_type": "code",
   "execution_count": 26,
   "metadata": {},
   "outputs": [],
   "source": [
    "resource_mea = prof.key_averages().table(sort_by=\"cuda_time_total\", row_limit=1)\n",
    "                "
   ]
  },
  {
   "cell_type": "code",
   "execution_count": 24,
   "metadata": {},
   "outputs": [
    {
     "data": {
      "text/plain": [
       "'-------------------  ------------  ------------  ------------  ------------  ------------  ------------  ------------  ------------  \\n               Name    Self CPU %      Self CPU   CPU total %     CPU total  CPU time avg       CPU Mem  Self CPU Mem    # of Calls  \\n-------------------  ------------  ------------  ------------  ------------  ------------  ------------  ------------  ------------  \\n    model_inference       100.00%        1.004s       100.00%        1.004s        1.004s           0 b           0 b             1  \\n-------------------  ------------  ------------  ------------  ------------  ------------  ------------  ------------  ------------  \\nSelf CPU time total: 1.004s\\n'"
      ]
     },
     "execution_count": 24,
     "metadata": {},
     "output_type": "execute_result"
    }
   ],
   "source": [
    "resource_mea"
   ]
  },
  {
   "cell_type": "code",
   "execution_count": 27,
   "metadata": {},
   "outputs": [],
   "source": [
    "mea=list(filter(None,resource_mea.split('\\n')[3].split(\" \")) ) "
   ]
  },
  {
   "cell_type": "code",
   "execution_count": 28,
   "metadata": {},
   "outputs": [
    {
     "data": {
      "text/plain": [
       "['model_inference',\n",
       " '100.00%',\n",
       " '1.004s',\n",
       " '100.00%',\n",
       " '1.004s',\n",
       " '1.004s',\n",
       " '0',\n",
       " 'b',\n",
       " '0',\n",
       " 'b',\n",
       " '1']"
      ]
     },
     "execution_count": 28,
     "metadata": {},
     "output_type": "execute_result"
    }
   ],
   "source": [
    "mea"
   ]
  },
  {
   "cell_type": "code",
   "execution_count": 34,
   "metadata": {},
   "outputs": [],
   "source": [
    "test_string = \"\"\"abc\\\n",
    "dfd\\\n",
    "dfdf\"\"\""
   ]
  },
  {
   "cell_type": "code",
   "execution_count": 35,
   "metadata": {},
   "outputs": [
    {
     "name": "stdout",
     "output_type": "stream",
     "text": [
      "abcdfddfdf\n"
     ]
    }
   ],
   "source": [
    "print(test_string)"
   ]
  }
 ],
 "metadata": {
  "kernelspec": {
   "display_name": "Python 3",
   "language": "python",
   "name": "python3"
  },
  "language_info": {
   "codemirror_mode": {
    "name": "ipython",
    "version": 3
   },
   "file_extension": ".py",
   "mimetype": "text/x-python",
   "name": "python",
   "nbconvert_exporter": "python",
   "pygments_lexer": "ipython3",
   "version": "3.10.12"
  }
 },
 "nbformat": 4,
 "nbformat_minor": 2
}
