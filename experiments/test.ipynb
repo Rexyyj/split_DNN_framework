{
 "cells": [
  {
   "cell_type": "code",
   "execution_count": 1,
   "metadata": {},
   "outputs": [],
   "source": [
    "import sys\n",
    "# setting path\n",
    "sys.path.append('../')"
   ]
  },
  {
   "cell_type": "code",
   "execution_count": 4,
   "metadata": {},
   "outputs": [],
   "source": [
    "import cv2\n",
    "import os"
   ]
  },
  {
   "cell_type": "code",
   "execution_count": 2,
   "metadata": {},
   "outputs": [],
   "source": [
    "def load_video_frames(video_dir, video_name, samples_number=-1): #samples_number = -1 to load all frames\n",
    "    video_path = video_dir +video_name\n",
    "\n",
    "    test_frames = []\n",
    "\n",
    "    cap = cv2.VideoCapture(video_path) # origin frame rate is 30 fps\n",
    "    exist_flag = True\n",
    "    counter = 0\n",
    "    while exist_flag and (samples_number==-1 or counter<samples_number):\n",
    "        ret, frame = cap.read()\n",
    "        if ret:\n",
    "            test_frames.append(cv2.resize(frame,(416,416),interpolation = cv2.INTER_AREA))\n",
    "            counter+=1\n",
    "        \n",
    "        if ret:\n",
    "            exist_flag = True\n",
    "        else:\n",
    "            exist_flag = False\n",
    "        \n",
    "    cap.release()\n",
    "\n",
    "    print(\"Load total number of video frames: \", len(test_frames))\n",
    "    return test_frames"
   ]
  },
  {
   "cell_type": "code",
   "execution_count": 5,
   "metadata": {},
   "outputs": [],
   "source": [
    "video_path = \"../dataset/test/\"\n",
    "label_path = \"../dataset/test_label/\"\n",
    "video_files = os.listdir(video_path)\n",
    "video_names = [name.replace('.mov','') for name in video_files]"
   ]
  },
  {
   "cell_type": "code",
   "execution_count": null,
   "metadata": {},
   "outputs": [],
   "source": [
    "video"
   ]
  }
 ],
 "metadata": {
  "kernelspec": {
   "display_name": "Python 3",
   "language": "python",
   "name": "python3"
  },
  "language_info": {
   "codemirror_mode": {
    "name": "ipython",
    "version": 3
   },
   "file_extension": ".py",
   "mimetype": "text/x-python",
   "name": "python",
   "nbconvert_exporter": "python",
   "pygments_lexer": "ipython3",
   "version": "3.10.12"
  }
 },
 "nbformat": 4,
 "nbformat_minor": 2
}
