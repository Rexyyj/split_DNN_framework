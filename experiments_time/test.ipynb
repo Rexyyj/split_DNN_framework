{
 "cells": [
  {
   "cell_type": "code",
   "execution_count": 1,
   "metadata": {},
   "outputs": [],
   "source": [
    "import sys\n",
    "# setting path\n",
    "sys.path.append('../')"
   ]
  },
  {
   "cell_type": "code",
   "execution_count": 4,
   "metadata": {},
   "outputs": [],
   "source": [
    "import torch\n",
    "import numpy as np"
   ]
  },
  {
   "cell_type": "code",
   "execution_count": 5,
   "metadata": {},
   "outputs": [],
   "source": [
    "def encode_tensor_to_bytes(tensor: torch.Tensor) -> bytes:\n",
    "    # Ensure the tensor is a 1D boolean tensor\n",
    "    assert tensor.dim() == 1 and tensor.dtype == torch.bool, \"Input must be a 1D boolean tensor\"\n",
    "    \n",
    "    # Convert the tensor to a NumPy array\n",
    "    numpy_array = tensor.numpy().astype(np.bool_)\n",
    "    \n",
    "    # Pack the NumPy array into bytes\n",
    "    encoded_bytes = np.packbits(numpy_array).tobytes()\n",
    "    \n",
    "    return encoded_bytes\n",
    "\n",
    "def decode_bytes_to_tensor(encoded_bytes: bytes, length: int) -> torch.Tensor:\n",
    "    # Decode the bytes back to a NumPy array\n",
    "    unpacked_array = np.unpackbits(np.frombuffer(encoded_bytes, dtype=np.uint8))\n",
    "    \n",
    "    # Truncate the array to the original length (if necessary)\n",
    "    unpacked_array = unpacked_array[:length]\n",
    "    \n",
    "    # Convert the NumPy array back to a PyTorch boolean tensor\n",
    "    decoded_tensor = torch.tensor(unpacked_array, dtype=torch.bool)\n",
    "    \n",
    "    return decoded_tensor"
   ]
  },
  {
   "cell_type": "code",
   "execution_count": 11,
   "metadata": {},
   "outputs": [],
   "source": [
    "original_tensor = torch.tensor([True, False, True, False, True, True], dtype=torch.bool)\n",
    "encoded_bytes = encode_tensor_to_bytes(original_tensor)\n",
    "decoded_tensor = decode_bytes_to_tensor(encoded_bytes, len(original_tensor))"
   ]
  },
  {
   "cell_type": "code",
   "execution_count": 10,
   "metadata": {},
   "outputs": [
    {
     "data": {
      "text/plain": [
       "tensor([ True, False,  True, False,  True])"
      ]
     },
     "execution_count": 10,
     "metadata": {},
     "output_type": "execute_result"
    }
   ],
   "source": [
    "decoded_tensor"
   ]
  },
  {
   "cell_type": "code",
   "execution_count": 8,
   "metadata": {},
   "outputs": [
    {
     "data": {
      "text/plain": [
       "b'\\xa8'"
      ]
     },
     "execution_count": 8,
     "metadata": {},
     "output_type": "execute_result"
    }
   ],
   "source": [
    "encoded_bytes"
   ]
  },
  {
   "cell_type": "code",
   "execution_count": 15,
   "metadata": {},
   "outputs": [],
   "source": [
    "original_tensor=original_tensor.reshape(6)"
   ]
  },
  {
   "cell_type": "code",
   "execution_count": 16,
   "metadata": {},
   "outputs": [
    {
     "data": {
      "text/plain": [
       "torch.Size([6])"
      ]
     },
     "execution_count": 16,
     "metadata": {},
     "output_type": "execute_result"
    }
   ],
   "source": [
    "original_tensor.shape"
   ]
  }
 ],
 "metadata": {
  "kernelspec": {
   "display_name": "Python 3",
   "language": "python",
   "name": "python3"
  },
  "language_info": {
   "codemirror_mode": {
    "name": "ipython",
    "version": 3
   },
   "file_extension": ".py",
   "mimetype": "text/x-python",
   "name": "python",
   "nbconvert_exporter": "python",
   "pygments_lexer": "ipython3",
   "version": "3.10.12"
  }
 },
 "nbformat": 4,
 "nbformat_minor": 2
}
