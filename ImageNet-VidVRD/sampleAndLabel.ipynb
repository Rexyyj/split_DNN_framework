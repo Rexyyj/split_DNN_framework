{
 "cells": [
  {
   "cell_type": "code",
   "execution_count": 28,
   "metadata": {},
   "outputs": [],
   "source": [
    "import pandas as pd\n",
    "import numpy as np\n",
    "import matplotlib.pyplot as plt\n",
    "import os\n",
    "import cv2"
   ]
  },
  {
   "cell_type": "code",
   "execution_count": 29,
   "metadata": {},
   "outputs": [],
   "source": [
    "MAIN_PATH = '/media/matteo/New Volume/ImageNet-VidVRD/'"
   ]
  },
  {
   "cell_type": "code",
   "execution_count": 30,
   "metadata": {},
   "outputs": [],
   "source": [
    "def read_json_as_dict(json_path):\n",
    "    import json\n",
    "    with open(json_path, 'r') as f:\n",
    "        return json.load(f)"
   ]
  },
  {
   "cell_type": "code",
   "execution_count": 31,
   "metadata": {},
   "outputs": [],
   "source": [
    "def find_class_ids(root_dir, dataset_portion, file_lists, class_ids = {}):\n",
    "    for annotation_file_name in file_lists:\n",
    "        annotation_file_path = root_dir + dataset_portion + annotation_file_name \n",
    "        _dict = read_json_as_dict(annotation_file_path)\n",
    "\n",
    "        for subject in _dict['subject/objects']:\n",
    "            if subject['category'] not in class_ids:\n",
    "                class_ids[subject['category']] = len(class_ids)\n",
    "    \n",
    "    return class_ids"
   ]
  },
  {
   "cell_type": "code",
   "execution_count": 32,
   "metadata": {},
   "outputs": [],
   "source": [
    "def save_list_to_file(file_path, file_lists):\n",
    "    images_folder = \"/home/matteo/Documents/postDoc/RexTorino/split_DNN_framework/pytorchyolo/data/custom/images/\"\n",
    "    # get all files in the folder\n",
    "    files = os.listdir(images_folder)\n",
    "    with open(file_path, 'w') as f:\n",
    "        for annotation_file_name in file_lists:\n",
    "            for file in files:\n",
    "                if annotation_file_name.split('.')[0] in file:\n",
    "                    f.write(images_folder + file + '\\n')"
   ]
  },
  {
   "cell_type": "code",
   "execution_count": 33,
   "metadata": {},
   "outputs": [],
   "source": [
    "def create_pytorchYoloAnnotationFromFileNames(root_dir, dataset_portion, file_lists, classes):\n",
    "    for annotation_file_name in file_lists:\n",
    "        annotation_file_path = root_dir + dataset_portion + annotation_file_name \n",
    "        _dict = read_json_as_dict(annotation_file_path)\n",
    "\n",
    "        original_width = _dict['width']\n",
    "        original_height = _dict['height']\n",
    "\n",
    "        scaled_width = 416\n",
    "        scaled_height = 416\n",
    "\n",
    "        width_ratio = scaled_width / original_width\n",
    "        height_ratio = scaled_height / original_height\n",
    "        \n",
    "        for index_trajectory, trajectory in enumerate(_dict['trajectories']):\n",
    "            found_labels = False\n",
    "            for object in trajectory:\n",
    "                label_idx_file = object['tid']\n",
    "                label_file = None\n",
    "\n",
    "                for subject in _dict['subject/objects']:\n",
    "                    if subject['tid'] == label_idx_file:\n",
    "                        label_file = subject['category']\n",
    "                        break\n",
    "\n",
    "                if label_file is not None:\n",
    "                    found_labels = True\n",
    "                    label_idx = classes[label_file]\n",
    "                    xmin = object['bbox']['xmin'] * width_ratio\n",
    "                    ymin = object['bbox']['ymin'] * height_ratio\n",
    "                    xmax = object['bbox']['xmax'] * width_ratio\n",
    "                    ymax = object['bbox']['ymax'] * height_ratio\n",
    "\n",
    "                    x_center = (xmin + xmax) / 2 / scaled_width\n",
    "                    y_center = (ymin + ymax) / 2 / scaled_height\n",
    "                    width = (xmax - xmin) / scaled_width\n",
    "                    height = (ymax - ymin) / scaled_height\n",
    "\n",
    "                    save_path = f\"/home/matteo/Documents/postDoc/RexTorino/split_DNN_framework/pytorchyolo/data/custom/labels/{annotation_file_name.split('.json')[0]}_{index_trajectory}.txt\"\n",
    "                    with open(save_path, 'a') as f:\n",
    "                        f.write(f\"{label_idx} {x_center} {y_center} {width} {height}\\n\")\n",
    "            if not found_labels:\n",
    "                # Create an empty label file if no object is found.\n",
    "                save_path = f\"/home/matteo/Documents/postDoc/RexTorino/split_DNN_framework/pytorchyolo/data/custom/labels/{annotation_file_name.split('.json')[0]}_{index_trajectory}.txt\"\n",
    "                open(save_path, 'w').close()\n",
    "\n",
    "        video_file_location = root_dir + 'videos/' + annotation_file_name.split(\".json\")[0] + '.mp4'\n",
    "        cap = cv2.VideoCapture(video_file_location) \n",
    "        actual_fps = cap.get(cv2.CAP_PROP_FPS)\n",
    "        target_fps = _dict[\"fps\"]\n",
    "        frame_count = _dict[\"frame_count\"]\n",
    "        frame_interval = int(actual_fps / target_fps)\n",
    "\n",
    "        frame_idx = 0\n",
    "        test_frames_count = 0\n",
    "        while cap.isOpened():\n",
    "            ret, frame = cap.read()\n",
    "\n",
    "            if not ret or frame_idx >= frame_count:\n",
    "                break\n",
    "\n",
    "            if frame_idx % frame_interval == 0:\n",
    "                frame_resized = cv2.resize(frame,(scaled_width,scaled_height),interpolation = cv2.INTER_AREA)\n",
    "                # save frame_resized\n",
    "                save_path = \"/home/matteo/Documents/postDoc/RexTorino/split_DNN_framework/pytorchyolo/data/custom/images/\" + annotation_file_name.split(\".json\")[0] + \"_\" + str(test_frames_count) + \".jpg\" \n",
    "                cv2.imwrite(save_path, frame_resized)\n",
    "                test_frames_count += 1\n",
    "\n",
    "            frame_idx += 1\n",
    "                            \n",
    "            \n",
    "        cap.release()\n"
   ]
  },
  {
   "cell_type": "code",
   "execution_count": 34,
   "metadata": {},
   "outputs": [],
   "source": [
    "# list of all files in MAIN_PATH/test with only file names\n",
    "annotations_test_path = os.listdir(MAIN_PATH + 'test')\n",
    "annotations_train_path = os.listdir(MAIN_PATH + 'train')"
   ]
  },
  {
   "cell_type": "code",
   "execution_count": 35,
   "metadata": {},
   "outputs": [],
   "source": [
    "classes = find_class_ids(MAIN_PATH, 'test/', annotations_test_path)\n",
    "classes = find_class_ids(MAIN_PATH, 'train/', annotations_train_path, classes)\n",
    "\n",
    "# clean /home/matteo/Documents/postDoc/RexTorino/split_DNN_framework/pytorchyolo/data/custom/classes.names\n",
    "open(\"/home/matteo/Documents/postDoc/RexTorino/split_DNN_framework/pytorchyolo/data/custom/classes.names\", 'w').close()\n",
    "\n",
    "# save classes to file /home/matteo/Documents/postDoc/RexTorino/split_DNN_framework/pytorchyolo/data/custom/classes.names \n",
    "with open(\"/home/matteo/Documents/postDoc/RexTorino/split_DNN_framework/pytorchyolo/data/custom/classes.names\", 'a') as f:\n",
    "    for key in classes:\n",
    "        f.write(key + \"\\n\")"
   ]
  },
  {
   "cell_type": "code",
   "execution_count": 36,
   "metadata": {},
   "outputs": [],
   "source": [
    "create_pytorchYoloAnnotationFromFileNames(MAIN_PATH, 'test/', annotations_test_path, classes)"
   ]
  },
  {
   "cell_type": "code",
   "execution_count": 37,
   "metadata": {},
   "outputs": [
    {
     "ename": "KeyboardInterrupt",
     "evalue": "",
     "output_type": "error",
     "traceback": [
      "\u001b[0;31m---------------------------------------------------------------------------\u001b[0m",
      "\u001b[0;31mKeyboardInterrupt\u001b[0m                         Traceback (most recent call last)",
      "Cell \u001b[0;32mIn[37], line 1\u001b[0m\n\u001b[0;32m----> 1\u001b[0m \u001b[43mcreate_pytorchYoloAnnotationFromFileNames\u001b[49m\u001b[43m(\u001b[49m\u001b[43mMAIN_PATH\u001b[49m\u001b[43m,\u001b[49m\u001b[43m \u001b[49m\u001b[38;5;124;43m'\u001b[39;49m\u001b[38;5;124;43mtrain/\u001b[39;49m\u001b[38;5;124;43m'\u001b[39;49m\u001b[43m,\u001b[49m\u001b[43m \u001b[49m\u001b[43mannotations_train_path\u001b[49m\u001b[43m,\u001b[49m\u001b[43m \u001b[49m\u001b[43mclasses\u001b[49m\u001b[43m)\u001b[49m\n",
      "Cell \u001b[0;32mIn[33], line 63\u001b[0m, in \u001b[0;36mcreate_pytorchYoloAnnotationFromFileNames\u001b[0;34m(root_dir, dataset_portion, file_lists, classes)\u001b[0m\n\u001b[1;32m     60\u001b[0m     \u001b[38;5;28;01mbreak\u001b[39;00m\n\u001b[1;32m     62\u001b[0m \u001b[38;5;28;01mif\u001b[39;00m frame_idx \u001b[38;5;241m%\u001b[39m frame_interval \u001b[38;5;241m==\u001b[39m \u001b[38;5;241m0\u001b[39m:\n\u001b[0;32m---> 63\u001b[0m     frame_resized \u001b[38;5;241m=\u001b[39m \u001b[43mcv2\u001b[49m\u001b[38;5;241;43m.\u001b[39;49m\u001b[43mresize\u001b[49m\u001b[43m(\u001b[49m\u001b[43mframe\u001b[49m\u001b[43m,\u001b[49m\u001b[43m(\u001b[49m\u001b[43mscaled_width\u001b[49m\u001b[43m,\u001b[49m\u001b[43mscaled_height\u001b[49m\u001b[43m)\u001b[49m\u001b[43m,\u001b[49m\u001b[43minterpolation\u001b[49m\u001b[43m \u001b[49m\u001b[38;5;241;43m=\u001b[39;49m\u001b[43m \u001b[49m\u001b[43mcv2\u001b[49m\u001b[38;5;241;43m.\u001b[39;49m\u001b[43mINTER_AREA\u001b[49m\u001b[43m)\u001b[49m\n\u001b[1;32m     64\u001b[0m     \u001b[38;5;66;03m# save frame_resized\u001b[39;00m\n\u001b[1;32m     65\u001b[0m     save_path \u001b[38;5;241m=\u001b[39m \u001b[38;5;124m\"\u001b[39m\u001b[38;5;124m/home/matteo/Documents/postDoc/RexTorino/split_DNN_framework/pytorchyolo/data/custom/images/\u001b[39m\u001b[38;5;124m\"\u001b[39m \u001b[38;5;241m+\u001b[39m annotation_file_name\u001b[38;5;241m.\u001b[39msplit(\u001b[38;5;124m\"\u001b[39m\u001b[38;5;124m.json\u001b[39m\u001b[38;5;124m\"\u001b[39m)[\u001b[38;5;241m0\u001b[39m] \u001b[38;5;241m+\u001b[39m \u001b[38;5;124m\"\u001b[39m\u001b[38;5;124m_\u001b[39m\u001b[38;5;124m\"\u001b[39m \u001b[38;5;241m+\u001b[39m \u001b[38;5;28mstr\u001b[39m(test_frames_count) \u001b[38;5;241m+\u001b[39m \u001b[38;5;124m\"\u001b[39m\u001b[38;5;124m.jpg\u001b[39m\u001b[38;5;124m\"\u001b[39m \n",
      "\u001b[0;31mKeyboardInterrupt\u001b[0m: "
     ]
    }
   ],
   "source": [
    "create_pytorchYoloAnnotationFromFileNames(MAIN_PATH, 'train/', annotations_train_path, classes)"
   ]
  },
  {
   "cell_type": "code",
   "execution_count": null,
   "metadata": {},
   "outputs": [],
   "source": [
    "save_list_to_file('/home/matteo/Documents/postDoc/RexTorino/split_DNN_framework/pytorchyolo/data/custom/test.txt', annotations_test_path)\n",
    "save_list_to_file('/home/matteo/Documents/postDoc/RexTorino/split_DNN_framework/pytorchyolo/data/custom/train.txt', annotations_train_path)"
   ]
  },
  {
   "cell_type": "code",
   "execution_count": null,
   "metadata": {},
   "outputs": [],
   "source": [
    "# some images do not have labels, remove them\n",
    "import os\n",
    "import glob\n",
    "\n",
    "# for file in glob.glob(\"/home/matteo/Documents/postDoc/RexTorino/split_DNN_framework/pytorchyolo/data/custom/labels/*.txt\"):\n",
    "#     os.remove(file)\n",
    "\n",
    "# for file in glob.glob(\"/home/matteo/Documents/postDoc/RexTorino/split_DNN_framework/pytorchyolo/data/custom/images/*.jpg\"):\n",
    "#     os.remove(file)\n",
    "\n",
    "# for file in glob.glob(\"/home/matteo/Documents/postDoc/RexTorino/split_DNN_framework/pytorchyolo/data/custom/images/*.jpg\"):\n",
    "#     label_file = file.split(\".jpg\")[0] + \".txt\"\n",
    "#     label_file = label_file.replace(\"images\", \"labels\")\n",
    "#     if not os.path.exists(label_file):\n",
    "#         os.remove(file)\n",
    "\n",
    "# remove non existing images from '/home/matteo/Documents/postDoc/RexTorino/split_DNN_framework/pytorchyolo/data/custom/test.txt'\n",
    "files = os.listdir(\"/home/matteo/Documents/postDoc/RexTorino/split_DNN_framework/pytorchyolo/data/custom/images/\")\n",
    "with open(\"/home/matteo/Documents/postDoc/RexTorino/split_DNN_framework/pytorchyolo/data/custom/test.txt\", 'r') as f:\n",
    "    lines = f.readlines()\n",
    "    with open(\"/home/matteo/Documents/postDoc/RexTorino/split_DNN_framework/pytorchyolo/data/custom/test.txt\", 'w') as f:\n",
    "        for line in lines:\n",
    "            if line.split(\"/\")[-1].strip() in files:\n",
    "                f.write(line)\n",
    "\n",
    "\n",
    "files = os.listdir(\"/home/matteo/Documents/postDoc/RexTorino/split_DNN_framework/pytorchyolo/data/custom/images/\")\n",
    "with open(\"/home/matteo/Documents/postDoc/RexTorino/split_DNN_framework/pytorchyolo/data/custom/train.txt\", 'r') as f:\n",
    "    lines = f.readlines()\n",
    "    with open(\"/home/matteo/Documents/postDoc/RexTorino/split_DNN_framework/pytorchyolo/data/custom/train.txt\", 'w') as f:\n",
    "        for line in lines:\n",
    "            if line.split(\"/\")[-1].strip() in files:\n",
    "                f.write(line)"
   ]
  }
 ],
 "metadata": {
  "kernelspec": {
   "display_name": "eneaFL",
   "language": "python",
   "name": "python3"
  },
  "language_info": {
   "codemirror_mode": {
    "name": "ipython",
    "version": 3
   },
   "file_extension": ".py",
   "mimetype": "text/x-python",
   "name": "python",
   "nbconvert_exporter": "python",
   "pygments_lexer": "ipython3",
   "version": "3.12.1"
  }
 },
 "nbformat": 4,
 "nbformat_minor": 2
}
