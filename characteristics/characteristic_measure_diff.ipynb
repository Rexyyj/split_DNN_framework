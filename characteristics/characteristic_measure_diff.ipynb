{
 "cells": [
  {
   "cell_type": "code",
   "execution_count": 7,
   "metadata": {},
   "outputs": [],
   "source": [
    "import torch\n",
    "import matplotlib.pyplot as plt\n",
    "import torch_dct as dct\n",
    "from lib.tools import *\n",
    "from lib.decomposition import *\n",
    "from lib.jpeg import *\n",
    "from lib.sketchml import *\n",
    "from lib.regression import *\n",
    "import os\n",
    "import pandas as pd"
   ]
  },
  {
   "cell_type": "code",
   "execution_count": 8,
   "metadata": {},
   "outputs": [],
   "source": [
    "# tensor_dir = \"../experiments_football/tensors/\"\n",
    "tensor_dir = \"./test_tensors/yolov3_tiny_direct/layer8/\"\n",
    "output_dir = \"./measurements/diff/\"\n",
    "layer = 8\n",
    "\n",
    "test_tensors = os.listdir(tensor_dir)"
   ]
  },
  {
   "cell_type": "code",
   "execution_count": 9,
   "metadata": {},
   "outputs": [],
   "source": [
    "def sort_fun(tensor_name):\n",
    "    return int(tensor_name.split(\"_\")[2].split(\".\")[0])\n",
    "\n",
    "test_tensors.sort(key=sort_fun)"
   ]
  },
  {
   "cell_type": "code",
   "execution_count": 10,
   "metadata": {},
   "outputs": [],
   "source": [
    "## Measurements\n",
    "split_layer = []\n",
    "\n",
    "tensor_rank=[]\n",
    "tensor_sparsity=[]\n",
    "tensor_regularity=[]\n",
    "tensor_pictoriality=[]\n",
    "tensor_decomposability=[]\n",
    "\n",
    "jpeg_ratio=[]\n",
    "jpeg_snr=[]\n",
    "jpeg_mse=[]\n",
    "decomposition_ratio=[]\n",
    "decomposition_snr=[]\n",
    "decomposition_mse=[]\n",
    "regression_ratio=[]\n",
    "regression_snr=[]\n",
    "regression_mse=[]\n",
    "sketchml_ratio=[]\n",
    "sketchml_snr=[]\n",
    "sketchml_mse=[]"
   ]
  },
  {
   "cell_type": "code",
   "execution_count": 11,
   "metadata": {},
   "outputs": [
    {
     "name": "stdout",
     "output_type": "stream",
     "text": [
      "************* Testing tensor: 0***************\n",
      "Rank: 14.296875, Sparsity: 0.900356, Picoriality: 0.725458, Regularity: 0.502741, Decomposability: -0.099760\n",
      "Doing JPEG compression\n",
      "Ratio: 5.376581, SNR: 25.761187, MSE: 0.000000\n",
      "Doing Decomposition compression\n",
      "Ratio: 0.909290, SNR: 135.739355, MSE: 0.000000\n",
      "Doing Regression compression\n",
      "Ratio: 16.484664, SNR: 9.876090, MSE: 0.000014\n",
      "Doing SketchML compression\n",
      "Ratio: 31.914431, SNR: 8.376811, MSE: 0.000020\n",
      "************* Testing tensor: 1***************\n"
     ]
    },
    {
     "name": "stderr",
     "output_type": "stream",
     "text": [
      "/home/rex/gitRepo/split_DNN_framework/characteristics/lib/regression.py:20: RankWarning: Polyfit may be poorly conditioned\n",
      "  m = np.polyfit(x,y,polynominal)\n",
      "/home/rex/gitRepo/split_DNN_framework/characteristics/lib/regression.py:20: RankWarning: Polyfit may be poorly conditioned\n",
      "  m = np.polyfit(x,y,polynominal)\n",
      "/home/rex/gitRepo/split_DNN_framework/characteristics/lib/regression.py:20: RankWarning: Polyfit may be poorly conditioned\n",
      "  m = np.polyfit(x,y,polynominal)\n"
     ]
    },
    {
     "name": "stdout",
     "output_type": "stream",
     "text": [
      "Rank: 12.851562, Sparsity: 0.916917, Picoriality: 0.723161, Regularity: 0.508701, Decomposability: 0.011418\n",
      "Doing JPEG compression\n",
      "Ratio: 5.598253, SNR: 24.843535, MSE: 0.000000\n",
      "Doing Decomposition compression\n",
      "Ratio: 1.011550, SNR: 136.064625, MSE: 0.000000\n",
      "Doing Regression compression\n",
      "Ratio: 16.628009, SNR: 9.920002, MSE: 0.000011\n",
      "Doing SketchML compression\n",
      "Ratio: 36.223129, SNR: 8.269746, MSE: 0.000016\n",
      "************* Testing tensor: 2***************\n"
     ]
    },
    {
     "name": "stderr",
     "output_type": "stream",
     "text": [
      "/home/rex/gitRepo/split_DNN_framework/characteristics/lib/regression.py:20: RankWarning: Polyfit may be poorly conditioned\n",
      "  m = np.polyfit(x,y,polynominal)\n",
      "/home/rex/gitRepo/split_DNN_framework/characteristics/lib/regression.py:20: RankWarning: Polyfit may be poorly conditioned\n",
      "  m = np.polyfit(x,y,polynominal)\n",
      "/home/rex/gitRepo/split_DNN_framework/characteristics/lib/regression.py:20: RankWarning: Polyfit may be poorly conditioned\n",
      "  m = np.polyfit(x,y,polynominal)\n",
      "/home/rex/gitRepo/split_DNN_framework/characteristics/lib/regression.py:20: RankWarning: Polyfit may be poorly conditioned\n",
      "  m = np.polyfit(x,y,polynominal)\n"
     ]
    },
    {
     "name": "stdout",
     "output_type": "stream",
     "text": [
      "Rank: 11.187500, Sparsity: 0.935651, Picoriality: 0.702720, Regularity: 0.514000, Decomposability: 0.139423\n",
      "Doing JPEG compression\n",
      "Ratio: 6.012333, SNR: 23.525262, MSE: 0.000000\n",
      "Doing Decomposition compression\n",
      "Ratio: 1.162011, SNR: 136.966038, MSE: 0.000000\n",
      "Doing Regression compression\n",
      "Ratio: 17.073402, SNR: 10.223963, MSE: 0.000008\n",
      "Doing SketchML compression\n",
      "Ratio: 42.777407, SNR: 8.454603, MSE: 0.000012\n",
      "************* Testing tensor: 3***************\n"
     ]
    },
    {
     "name": "stderr",
     "output_type": "stream",
     "text": [
      "/home/rex/gitRepo/split_DNN_framework/characteristics/lib/regression.py:20: RankWarning: Polyfit may be poorly conditioned\n",
      "  m = np.polyfit(x,y,polynominal)\n",
      "/home/rex/gitRepo/split_DNN_framework/characteristics/lib/regression.py:20: RankWarning: Polyfit may be poorly conditioned\n",
      "  m = np.polyfit(x,y,polynominal)\n",
      "/home/rex/gitRepo/split_DNN_framework/characteristics/lib/regression.py:20: RankWarning: Polyfit may be poorly conditioned\n",
      "  m = np.polyfit(x,y,polynominal)\n",
      "/home/rex/gitRepo/split_DNN_framework/characteristics/lib/regression.py:20: RankWarning: Polyfit may be poorly conditioned\n",
      "  m = np.polyfit(x,y,polynominal)\n",
      "/home/rex/gitRepo/split_DNN_framework/characteristics/lib/regression.py:20: RankWarning: Polyfit may be poorly conditioned\n",
      "  m = np.polyfit(x,y,polynominal)\n"
     ]
    },
    {
     "name": "stdout",
     "output_type": "stream",
     "text": [
      "Rank: 11.710938, Sparsity: 0.928243, Picoriality: 0.700539, Regularity: 0.496760, Decomposability: 0.099159\n",
      "Doing JPEG compression\n",
      "Ratio: 5.503976, SNR: 22.976151, MSE: 0.000000\n",
      "Doing Decomposition compression\n",
      "Ratio: 1.110073, SNR: 136.712542, MSE: 0.000000\n",
      "Doing Regression compression\n",
      "Ratio: 16.628009, SNR: 9.922729, MSE: 0.000009\n",
      "Doing SketchML compression\n",
      "Ratio: 39.911439, SNR: 8.568034, MSE: 0.000012\n",
      "************* Testing tensor: 4***************\n"
     ]
    },
    {
     "name": "stderr",
     "output_type": "stream",
     "text": [
      "/home/rex/gitRepo/split_DNN_framework/characteristics/lib/regression.py:20: RankWarning: Polyfit may be poorly conditioned\n",
      "  m = np.polyfit(x,y,polynominal)\n",
      "/home/rex/gitRepo/split_DNN_framework/characteristics/lib/regression.py:20: RankWarning: Polyfit may be poorly conditioned\n",
      "  m = np.polyfit(x,y,polynominal)\n"
     ]
    },
    {
     "name": "stdout",
     "output_type": "stream",
     "text": [
      "Rank: 12.281250, Sparsity: 0.921817, Picoriality: 0.717642, Regularity: 0.493864, Decomposability: 0.055288\n",
      "Doing JPEG compression\n",
      "Ratio: 5.184655, SNR: 21.147053, MSE: 0.000001\n",
      "Doing Decomposition compression\n",
      "Ratio: 1.058524, SNR: 136.423340, MSE: 0.000000\n",
      "Doing Regression compression\n",
      "Ratio: 16.484664, SNR: 9.799258, MSE: 0.000010\n",
      "Doing SketchML compression\n",
      "Ratio: 37.743948, SNR: 8.490496, MSE: 0.000014\n",
      "************* Testing tensor: 5***************\n"
     ]
    },
    {
     "name": "stderr",
     "output_type": "stream",
     "text": [
      "/home/rex/gitRepo/split_DNN_framework/characteristics/lib/regression.py:20: RankWarning: Polyfit may be poorly conditioned\n",
      "  m = np.polyfit(x,y,polynominal)\n",
      "/home/rex/gitRepo/split_DNN_framework/characteristics/lib/regression.py:20: RankWarning: Polyfit may be poorly conditioned\n",
      "  m = np.polyfit(x,y,polynominal)\n",
      "/home/rex/gitRepo/split_DNN_framework/characteristics/lib/regression.py:20: RankWarning: Polyfit may be poorly conditioned\n",
      "  m = np.polyfit(x,y,polynominal)\n",
      "/home/rex/gitRepo/split_DNN_framework/characteristics/lib/regression.py:20: RankWarning: Polyfit may be poorly conditioned\n",
      "  m = np.polyfit(x,y,polynominal)\n"
     ]
    },
    {
     "name": "stdout",
     "output_type": "stream",
     "text": [
      "Rank: 12.382812, Sparsity: 0.912976, Picoriality: 0.726035, Regularity: 0.511193, Decomposability: 0.047476\n",
      "Doing JPEG compression\n",
      "Ratio: 5.171176, SNR: 22.650325, MSE: 0.000001\n",
      "Doing Decomposition compression\n",
      "Ratio: 1.049842, SNR: 136.358995, MSE: 0.000000\n",
      "Doing Regression compression\n",
      "Ratio: 16.628009, SNR: 10.202879, MSE: 0.000010\n",
      "Doing SketchML compression\n",
      "Ratio: 35.131141, SNR: 8.833890, MSE: 0.000014\n",
      "************* Testing tensor: 6***************\n"
     ]
    },
    {
     "name": "stderr",
     "output_type": "stream",
     "text": [
      "/home/rex/gitRepo/split_DNN_framework/characteristics/lib/regression.py:20: RankWarning: Polyfit may be poorly conditioned\n",
      "  m = np.polyfit(x,y,polynominal)\n",
      "/home/rex/gitRepo/split_DNN_framework/characteristics/lib/regression.py:20: RankWarning: Polyfit may be poorly conditioned\n",
      "  m = np.polyfit(x,y,polynominal)\n",
      "/home/rex/gitRepo/split_DNN_framework/characteristics/lib/regression.py:20: RankWarning: Polyfit may be poorly conditioned\n",
      "  m = np.polyfit(x,y,polynominal)\n",
      "/home/rex/gitRepo/split_DNN_framework/characteristics/lib/regression.py:20: RankWarning: Polyfit may be poorly conditioned\n",
      "  m = np.polyfit(x,y,polynominal)\n",
      "/home/rex/gitRepo/split_DNN_framework/characteristics/lib/regression.py:20: RankWarning: Polyfit may be poorly conditioned\n",
      "  m = np.polyfit(x,y,polynominal)\n",
      "/home/rex/gitRepo/split_DNN_framework/characteristics/lib/regression.py:20: RankWarning: Polyfit may be poorly conditioned\n",
      "  m = np.polyfit(x,y,polynominal)\n"
     ]
    },
    {
     "name": "stdout",
     "output_type": "stream",
     "text": [
      "Rank: 10.921875, Sparsity: 0.943903, Picoriality: 0.666387, Regularity: 0.516750, Decomposability: 0.159856\n",
      "Doing JPEG compression\n",
      "Ratio: 5.710948, SNR: 20.370433, MSE: 0.000001\n",
      "Doing Decomposition compression\n",
      "Ratio: 1.190272, SNR: 136.790724, MSE: 0.000000\n",
      "Doing Regression compression\n",
      "Ratio: 16.773868, SNR: 9.621416, MSE: 0.000008\n",
      "Doing SketchML compression\n",
      "Ratio: 46.464223, SNR: 7.897474, MSE: 0.000012\n",
      "************* Testing tensor: 7***************\n"
     ]
    },
    {
     "name": "stderr",
     "output_type": "stream",
     "text": [
      "/home/rex/gitRepo/split_DNN_framework/characteristics/lib/regression.py:20: RankWarning: Polyfit may be poorly conditioned\n",
      "  m = np.polyfit(x,y,polynominal)\n",
      "/home/rex/gitRepo/split_DNN_framework/characteristics/lib/regression.py:20: RankWarning: Polyfit may be poorly conditioned\n",
      "  m = np.polyfit(x,y,polynominal)\n",
      "/home/rex/gitRepo/split_DNN_framework/characteristics/lib/regression.py:20: RankWarning: Polyfit may be poorly conditioned\n",
      "  m = np.polyfit(x,y,polynominal)\n",
      "/home/rex/gitRepo/split_DNN_framework/characteristics/lib/regression.py:20: RankWarning: Polyfit may be poorly conditioned\n",
      "  m = np.polyfit(x,y,polynominal)\n"
     ]
    },
    {
     "name": "stdout",
     "output_type": "stream",
     "text": [
      "Rank: 12.414062, Sparsity: 0.918373, Picoriality: 0.709281, Regularity: 0.498533, Decomposability: 0.045072\n",
      "Doing JPEG compression\n",
      "Ratio: 5.167393, SNR: 20.020669, MSE: 0.000001\n",
      "Doing Decomposition compression\n",
      "Ratio: 1.047199, SNR: 136.426134, MSE: 0.000000\n",
      "Doing Regression compression\n",
      "Ratio: 16.628009, SNR: 9.939827, MSE: 0.000012\n",
      "Doing SketchML compression\n",
      "Ratio: 36.683837, SNR: 7.875245, MSE: 0.000019\n",
      "************* Testing tensor: 8***************\n"
     ]
    },
    {
     "name": "stderr",
     "output_type": "stream",
     "text": [
      "/home/rex/gitRepo/split_DNN_framework/characteristics/lib/regression.py:20: RankWarning: Polyfit may be poorly conditioned\n",
      "  m = np.polyfit(x,y,polynominal)\n",
      "/home/rex/gitRepo/split_DNN_framework/characteristics/lib/regression.py:20: RankWarning: Polyfit may be poorly conditioned\n",
      "  m = np.polyfit(x,y,polynominal)\n",
      "/home/rex/gitRepo/split_DNN_framework/characteristics/lib/regression.py:20: RankWarning: Polyfit may be poorly conditioned\n",
      "  m = np.polyfit(x,y,polynominal)\n"
     ]
    },
    {
     "name": "stdout",
     "output_type": "stream",
     "text": [
      "Rank: 14.601562, Sparsity: 0.901315, Picoriality: 0.722550, Regularity: 0.493842, Decomposability: -0.123197\n",
      "Doing JPEG compression\n",
      "Ratio: 4.532516, SNR: 19.371459, MSE: 0.000002\n",
      "Doing Decomposition compression\n",
      "Ratio: 0.890316, SNR: 135.651321, MSE: 0.000000\n",
      "Doing Regression compression\n",
      "Ratio: 16.628009, SNR: 9.834267, MSE: 0.000014\n",
      "Doing SketchML compression\n",
      "Ratio: 32.145630, SNR: 8.447702, MSE: 0.000019\n",
      "************* Testing tensor: 9***************\n"
     ]
    },
    {
     "name": "stderr",
     "output_type": "stream",
     "text": [
      "/home/rex/gitRepo/split_DNN_framework/characteristics/lib/regression.py:20: RankWarning: Polyfit may be poorly conditioned\n",
      "  m = np.polyfit(x,y,polynominal)\n"
     ]
    },
    {
     "name": "stdout",
     "output_type": "stream",
     "text": [
      "Rank: 14.804688, Sparsity: 0.912179, Picoriality: 0.697582, Regularity: 0.474289, Decomposability: -0.138822\n",
      "Doing JPEG compression\n",
      "Ratio: 4.923007, SNR: 19.702418, MSE: 0.000001\n",
      "Doing Decomposition compression\n",
      "Ratio: 0.878100, SNR: 135.935431, MSE: 0.000000\n",
      "Doing Regression compression\n",
      "Ratio: 16.773868, SNR: 9.205786, MSE: 0.000015\n",
      "Doing SketchML compression\n",
      "Ratio: 34.907917, SNR: 7.709471, MSE: 0.000021\n"
     ]
    }
   ],
   "source": [
    "for i in range(10):\n",
    "    print(\"************* Testing tensor: \"+str(i)+\"***************\")\n",
    "    split_layer.append(layer)\n",
    "    tensor1 = torch.load(tensor_dir+test_tensors[i])\n",
    "    tensor2 = torch.load(tensor_dir+test_tensors[i+1])\n",
    "    tensor = tensor2 - tensor1\n",
    "    tensor = tensor * (abs(tensor)>0.02)\n",
    "    tensor = abs(tensor[0])\n",
    "\n",
    "\n",
    "     # tensor_rank.append(calculate_cp_rank(tensor.numpy(),max_rank=10,tol=1e-4))\n",
    "    tensor_rank.append(calculate_slice_avg_rank(tensor))\n",
    "    tensor_sparsity.append(calculate_sparsity(tensor.numpy()))\n",
    "    tensor_pictoriality.append(get_tensor_pictoriality(tensor))\n",
    "    tensor_regularity.append(get_tensor_regularity(tensor))\n",
    "    tensor_decomposability.append(get_tensor_decomposability(tensor))\n",
    "\n",
    "    print(\"Rank: %f, Sparsity: %f, Picoriality: %f, Regularity: %f, Decomposability: %f\" % (tensor_rank[-1],tensor_sparsity[-1],tensor_pictoriality[-1],tensor_regularity[-1],tensor_decomposability[-1]))\n",
    "\n",
    "    ## Jpeg compression\n",
    "    try:\n",
    "        print(\"Doing JPEG compression\")\n",
    "        normalize_base, scale,zero_point, encoded_data, compressed_size_jpeg = compressor_jpeg_gray(tensor, 100)\n",
    "        reconstructed_tensor_jpeg = decompressor_jpeg_gray(tensor.shape,normalize_base, scale,zero_point, encoded_data )\n",
    "        ratio_jpeg = tensor.numel()*4/compressed_size_jpeg\n",
    "        snr_jpeg = calculate_snr(tensor.size(),tensor.numpy(), reconstructed_tensor_jpeg.numpy())\n",
    "        mse_jpeg = calculate_mse(tensor.numpy(), reconstructed_tensor_jpeg.numpy())\n",
    "        jpeg_ratio.append(ratio_jpeg)\n",
    "        jpeg_snr.append(snr_jpeg)\n",
    "        jpeg_mse.append(mse_jpeg)\n",
    "        print(\"Ratio: %f, SNR: %f, MSE: %f\" % (ratio_jpeg,snr_jpeg,mse_jpeg))\n",
    "    except:\n",
    "        jpeg_ratio.append(-1)\n",
    "        jpeg_snr.append(-1)\n",
    "        jpeg_mse.append(-1)\n",
    "\n",
    "    try:\n",
    "        print(\"Doing Decomposition compression\")\n",
    "        factors, compressed_size_decomposition = compressor_decomposition_slice(tensor)\n",
    "        reconstructed_tensor_decomposition = decompressor_decomposition_slice(tensor.shape,factors)\n",
    "        snr_decomposition = calculate_snr(tensor.size(),tensor.numpy(), reconstructed_tensor_decomposition.numpy())\n",
    "        mse_decomposition = calculate_mse(tensor.numpy(), reconstructed_tensor_decomposition.numpy())\n",
    "        ratio_decomposition= tensor.numel()*4/compressed_size_decomposition\n",
    "        decomposition_ratio.append(ratio_decomposition)\n",
    "        decomposition_snr.append(snr_decomposition)\n",
    "        decomposition_mse.append(mse_decomposition)\n",
    "        print(\"Ratio: %f, SNR: %f, MSE: %f\" % (ratio_decomposition,snr_decomposition,mse_decomposition))\n",
    "    except:\n",
    "        decomposition_ratio.append(-1)\n",
    "        decomposition_snr.append(-1)\n",
    "        decomposition_mse.append(-1)\n",
    "\n",
    "    try:\n",
    "        print(\"Doing Regression compression\")\n",
    "        factors, x_pos, x_neg, compressed_size_regression = compressor_regression(tensor, 3)\n",
    "        reconstructed_tensor_regression = decompressor_regression(tensor.shape, factors, x_pos,x_neg )\n",
    "        snr_regression = calculate_snr(tensor.size(),tensor.numpy(), reconstructed_tensor_regression.numpy())\n",
    "        mse_regression = calculate_mse(tensor.numpy(), reconstructed_tensor_regression.numpy())\n",
    "        ratio_regression = tensor.numel()*4 / compressed_size_regression\n",
    "        regression_ratio.append(ratio_regression)\n",
    "        regression_snr.append(snr_regression)\n",
    "        regression_mse.append(mse_regression)\n",
    "        print(\"Ratio: %f, SNR: %f, MSE: %f\" % (ratio_regression,snr_regression,mse_regression))\n",
    "    except:\n",
    "        regression_ratio.append(-1)\n",
    "        regression_snr.append(-1)\n",
    "        regression_mse.append(-1)\n",
    "\n",
    "    try:\n",
    "        print(\"Doing SketchML compression\")\n",
    "        minmaxsketch,bucket_means, keys, compressed_size_sketchml = compressor_sketchml(tensor,256,0.3,3)\n",
    "        reconstructed_tensor_sketchml = decompressor_sketchml(tensor.shape, minmaxsketch,bucket_means, keys)\n",
    "        snr_sketchml = calculate_snr(tensor.size(),tensor.numpy(), reconstructed_tensor_sketchml.numpy())\n",
    "        mse_sketchml = calculate_mse(tensor.numpy(), reconstructed_tensor_sketchml.numpy())\n",
    "        ratio_sketchml = tensor.numel() *4 / compressed_size_sketchml\n",
    "        sketchml_ratio.append(ratio_sketchml)\n",
    "        sketchml_snr.append(snr_sketchml)\n",
    "        sketchml_mse.append(mse_sketchml)\n",
    "        print(\"Ratio: %f, SNR: %f, MSE: %f\" % (ratio_sketchml,snr_sketchml,mse_sketchml))\n",
    "    except:\n",
    "        sketchml_ratio.append(-1)\n",
    "        sketchml_snr.append(-1)\n",
    "        sketchml_mse.append(-1)\n"
   ]
  },
  {
   "cell_type": "code",
   "execution_count": 12,
   "metadata": {},
   "outputs": [],
   "source": [
    "dict = {'split_layer':split_layer,\n",
    "        'rank': tensor_rank, \n",
    "        'sparsity': tensor_sparsity, \n",
    "        'regularity': tensor_regularity,\n",
    "        'pictoriality': tensor_pictoriality,\n",
    "        'jpeg_ratio':jpeg_ratio,\n",
    "        'jpeg_snr':jpeg_snr,\n",
    "        'jpeg_mse':jpeg_mse,\n",
    "        'decomposition_ratio':decomposition_ratio,\n",
    "        'decomposition_snr':decomposition_snr,\n",
    "        'decomposition_mse':decomposition_mse,\n",
    "        'regression_ratio':regression_ratio,\n",
    "        'regression_snr':regression_snr,\n",
    "        'regression_mse':regression_mse,\n",
    "        'sketchml_ratio':sketchml_ratio,\n",
    "        'sketchml_snr':sketchml_snr,\n",
    "        'sketchml_mse':sketchml_mse\n",
    "        } \n",
    "   \n",
    "df = pd.DataFrame(dict)"
   ]
  },
  {
   "cell_type": "code",
   "execution_count": 13,
   "metadata": {},
   "outputs": [],
   "source": [
    "df.to_csv(output_dir+\"layer\"+str(layer)+\"_diff.csv\",index=False, header=True)"
   ]
  }
 ],
 "metadata": {
  "kernelspec": {
   "display_name": "pytorch",
   "language": "python",
   "name": "python3"
  },
  "language_info": {
   "codemirror_mode": {
    "name": "ipython",
    "version": 3
   },
   "file_extension": ".py",
   "mimetype": "text/x-python",
   "name": "python",
   "nbconvert_exporter": "python",
   "pygments_lexer": "ipython3",
   "version": "3.10.0"
  }
 },
 "nbformat": 4,
 "nbformat_minor": 2
}
