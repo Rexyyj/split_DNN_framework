{
 "cells": [
  {
   "cell_type": "code",
   "execution_count": 1,
   "metadata": {},
   "outputs": [],
   "source": [
    "import torch\n",
    "import matplotlib.pyplot as plt\n",
    "import torch_dct as dct\n",
    "from lib.tools import *\n",
    "from lib.decomposition import *\n",
    "from lib.jpeg import *\n",
    "from lib.sketchml import *\n",
    "from lib.regression import *\n",
    "import os\n",
    "import pandas as pd"
   ]
  },
  {
   "cell_type": "code",
   "execution_count": 2,
   "metadata": {},
   "outputs": [],
   "source": [
    "# tensor_dir = \"../experiments_football/tensors/\"\n",
    "tensor_dir = \"./test_tensors/layer8/\"\n",
    "output_dir = \"./measurements/\"\n",
    "layer = 8\n",
    "\n",
    "test_tensors = os.listdir(tensor_dir)"
   ]
  },
  {
   "cell_type": "code",
   "execution_count": 3,
   "metadata": {},
   "outputs": [],
   "source": [
    "## Measurements\n",
    "split_layer = []\n",
    "\n",
    "tensor_rank=[]\n",
    "tensor_sparsity=[]\n",
    "tensor_regularity=[]\n",
    "tensor_pictoriality=[]\n",
    "tensor_decomposability=[]\n",
    "\n",
    "jpeg_ratio=[]\n",
    "jpeg_snr=[]\n",
    "jpeg_mse=[]\n",
    "decomposition_ratio=[]\n",
    "decomposition_snr=[]\n",
    "decomposition_mse=[]\n",
    "regression_ratio=[]\n",
    "regression_snr=[]\n",
    "regression_mse=[]\n",
    "sketchml_ratio=[]\n",
    "sketchml_snr=[]\n",
    "sketchml_mse=[]"
   ]
  },
  {
   "cell_type": "code",
   "execution_count": 4,
   "metadata": {},
   "outputs": [
    {
     "name": "stdout",
     "output_type": "stream",
     "text": [
      "************* Testing tensor: 0***************\n",
      "Rank: 17.851562, Sparsity: 0.813193, Picoriality: 0.932078, Regularity: 0.990802, Decomposability: 0.656701\n",
      "Doing JPEG compression\n",
      "Ratio: 6.196062, SNR: 29.966273, MSE: 0.000000\n",
      "Doing Decomposition compression\n",
      "Ratio: 0.728228, SNR: 135.219021, MSE: 0.000000\n",
      "Doing Regression compression\n",
      "Ratio: 16.628009, SNR: 7.735867, MSE: 0.000021\n",
      "Doing SketchML compression\n"
     ]
    },
    {
     "name": "stderr",
     "output_type": "stream",
     "text": [
      "/home/rex/gitRepo/split_DNN_framework/characteristics/lib/sketchml.py:185: RuntimeWarning: Mean of empty slice.\n",
      "  bucket_means[k] = values[bucket_mask].mean()\n",
      "/home/rex/archiconda3/envs/pytorch/lib/python3.10/site-packages/numpy/core/_methods.py:129: RuntimeWarning: invalid value encountered in divide\n",
      "  ret = ret.dtype.type(ret / rcount)\n"
     ]
    },
    {
     "name": "stdout",
     "output_type": "stream",
     "text": [
      "Ratio: 19.617525, SNR: 1.183305, MSE: 0.000093\n",
      "************* Testing tensor: 1***************\n",
      "Rank: 17.710938, Sparsity: 0.855319, Picoriality: 0.944861, Regularity: 0.994798, Decomposability: 0.659405\n",
      "Doing JPEG compression\n",
      "Ratio: 5.787439, SNR: 29.226568, MSE: 0.000000\n",
      "Doing Decomposition compression\n",
      "Ratio: 0.734010, SNR: 135.559425, MSE: 0.000000\n",
      "Doing Regression compression\n",
      "Ratio: 16.484664, SNR: 7.098190, MSE: 0.000018\n",
      "Doing SketchML compression\n",
      "Ratio: 24.070659, SNR: 1.222394, MSE: 0.000071\n",
      "************* Testing tensor: 2***************\n"
     ]
    },
    {
     "name": "stderr",
     "output_type": "stream",
     "text": [
      "/home/rex/gitRepo/split_DNN_framework/characteristics/lib/regression.py:20: RankWarning: Polyfit may be poorly conditioned\n",
      "  m = np.polyfit(x,y,polynominal)\n",
      "/home/rex/gitRepo/split_DNN_framework/characteristics/lib/regression.py:20: RankWarning: Polyfit may be poorly conditioned\n",
      "  m = np.polyfit(x,y,polynominal)\n",
      "/home/rex/gitRepo/split_DNN_framework/characteristics/lib/sketchml.py:185: RuntimeWarning: Mean of empty slice.\n",
      "  bucket_means[k] = values[bucket_mask].mean()\n",
      "/home/rex/archiconda3/envs/pytorch/lib/python3.10/site-packages/numpy/core/_methods.py:129: RuntimeWarning: invalid value encountered in divide\n",
      "  ret = ret.dtype.type(ret / rcount)\n"
     ]
    },
    {
     "name": "stdout",
     "output_type": "stream",
     "text": [
      "Rank: 17.460938, Sparsity: 0.853885, Picoriality: 0.948384, Regularity: 0.996358, Decomposability: 0.664213\n",
      "Doing JPEG compression\n",
      "Ratio: 6.272531, SNR: 28.224385, MSE: 0.000000\n",
      "Doing Decomposition compression\n",
      "Ratio: 0.744519, SNR: 135.309248, MSE: 0.000000\n",
      "Doing Regression compression\n",
      "Ratio: 16.484664, SNR: 6.972793, MSE: 0.000020\n",
      "Doing SketchML compression\n",
      "Ratio: 23.920934, SNR: 1.283505, MSE: 0.000076\n",
      "************* Testing tensor: 3***************\n",
      "Rank: 17.640625, Sparsity: 0.859537, Picoriality: 0.949545, Regularity: 0.996708, Decomposability: 0.660757\n",
      "Doing JPEG compression\n",
      "Ratio: 6.248299, SNR: 27.668681, MSE: 0.000000\n",
      "Doing Decomposition compression\n",
      "Ratio: 0.736935, SNR: 135.554781, MSE: 0.000000\n",
      "Doing Regression compression\n",
      "Ratio: 16.484664, SNR: 6.894786, MSE: 0.000019\n",
      "Doing SketchML compression\n",
      "Ratio: 24.683497, SNR: 1.317379, MSE: 0.000069\n",
      "************* Testing tensor: 4***************\n",
      "Rank: 17.820312, Sparsity: 0.836804, Picoriality: 0.952294, Regularity: 0.997255, Decomposability: 0.657302\n",
      "Doing JPEG compression\n",
      "Ratio: 5.691883, SNR: 30.478992, MSE: 0.000000\n",
      "Doing Decomposition compression\n",
      "Ratio: 0.729505, SNR: 135.242643, MSE: 0.000000\n",
      "Doing Regression compression\n",
      "Ratio: 16.484664, SNR: 7.116715, MSE: 0.000021\n",
      "Doing SketchML compression\n",
      "Ratio: 21.890583, SNR: 1.246253, MSE: 0.000083\n",
      "************* Testing tensor: 5***************\n",
      "Rank: 18.937500, Sparsity: 0.815632, Picoriality: 0.934063, Regularity: 0.991322, Decomposability: 0.635817\n",
      "Doing JPEG compression\n",
      "Ratio: 5.453159, SNR: 31.639001, MSE: 0.000000\n",
      "Doing Decomposition compression\n",
      "Ratio: 0.686469, SNR: 135.191078, MSE: 0.000000\n",
      "Doing Regression compression\n",
      "Ratio: 16.484664, SNR: 7.383020, MSE: 0.000023\n",
      "Doing SketchML compression\n",
      "Ratio: 19.837909, SNR: 1.378533, MSE: 0.000093\n",
      "************* Testing tensor: 6***************\n",
      "Rank: 17.687500, Sparsity: 0.804468, Picoriality: 0.922018, Regularity: 0.987914, Decomposability: 0.659856\n",
      "Doing JPEG compression\n",
      "Ratio: 5.615055, SNR: 31.544836, MSE: 0.000000\n",
      "Doing Decomposition compression\n",
      "Ratio: 0.734982, SNR: 135.212584, MSE: 0.000000\n",
      "Doing Regression compression\n",
      "Ratio: 16.484664, SNR: 7.848171, MSE: 0.000023\n",
      "Doing SketchML compression\n",
      "Ratio: 18.885360, SNR: 1.471798, MSE: 0.000100\n",
      "************* Testing tensor: 7***************\n",
      "Rank: 16.953125, Sparsity: 0.847934, Picoriality: 0.935283, Regularity: 0.993114, Decomposability: 0.673978\n",
      "Doing JPEG compression\n",
      "Ratio: 6.008263, SNR: 30.581367, MSE: 0.000000\n",
      "Doing Decomposition compression\n",
      "Ratio: 0.766820, SNR: 135.332203, MSE: 0.000000\n",
      "Doing Regression compression\n",
      "Ratio: 16.484664, SNR: 7.621709, MSE: 0.000018\n",
      "Doing SketchML compression\n",
      "Ratio: 23.171453, SNR: 1.303356, MSE: 0.000077\n",
      "************* Testing tensor: 8***************\n"
     ]
    },
    {
     "name": "stderr",
     "output_type": "stream",
     "text": [
      "/home/rex/gitRepo/split_DNN_framework/characteristics/lib/regression.py:20: RankWarning: Polyfit may be poorly conditioned\n",
      "  m = np.polyfit(x,y,polynominal)\n",
      "/home/rex/gitRepo/split_DNN_framework/characteristics/lib/regression.py:20: RankWarning: Polyfit may be poorly conditioned\n",
      "  m = np.polyfit(x,y,polynominal)\n"
     ]
    },
    {
     "name": "stdout",
     "output_type": "stream",
     "text": [
      "Rank: 19.523438, Sparsity: 0.774316, Picoriality: 0.925289, Regularity: 0.991748, Decomposability: 0.624549\n",
      "Doing JPEG compression\n",
      "Ratio: 5.209784, SNR: 31.657751, MSE: 0.000000\n",
      "Doing Decomposition compression\n",
      "Ratio: 0.665866, SNR: 135.015955, MSE: 0.000000\n",
      "Doing Regression compression\n",
      "Ratio: 16.484664, SNR: 7.393275, MSE: 0.000031\n",
      "Doing SketchML compression\n"
     ]
    },
    {
     "name": "stderr",
     "output_type": "stream",
     "text": [
      "/home/rex/gitRepo/split_DNN_framework/characteristics/lib/regression.py:20: RankWarning: Polyfit may be poorly conditioned\n",
      "  m = np.polyfit(x,y,polynominal)\n"
     ]
    },
    {
     "name": "stdout",
     "output_type": "stream",
     "text": [
      "Ratio: 16.734939, SNR: 1.202150, MSE: 0.000131\n",
      "************* Testing tensor: 9***************\n",
      "Rank: 19.773438, Sparsity: 0.774027, Picoriality: 0.924201, Regularity: 0.991338, Decomposability: 0.619742\n",
      "Doing JPEG compression\n",
      "Ratio: 5.286655, SNR: 31.003358, MSE: 0.000000\n",
      "Doing Decomposition compression\n",
      "Ratio: 0.657448, SNR: 135.097208, MSE: 0.000000\n",
      "Doing Regression compression\n",
      "Ratio: 16.484664, SNR: 7.312987, MSE: 0.000032\n",
      "Doing SketchML compression\n",
      "Ratio: 16.737366, SNR: 1.178684, MSE: 0.000130\n"
     ]
    }
   ],
   "source": [
    "for i in range(10):\n",
    "    print(\"************* Testing tensor: \"+str(i)+\"***************\")\n",
    "    split_layer.append(layer)\n",
    "    tensor1 = torch.load(tensor_dir+test_tensors[i])\n",
    "    tensor2 = torch.load(tensor_dir+test_tensors[i+1])\n",
    "    tensor = tensor2 - tensor1\n",
    "    tensor = tensor * (abs(tensor)>0.01)\n",
    "    tensor = tensor[0]\n",
    "\n",
    "     # tensor_rank.append(calculate_cp_rank(tensor.numpy(),max_rank=10,tol=1e-4))\n",
    "    tensor_rank.append(calculate_slice_avg_rank(tensor))\n",
    "    tensor_sparsity.append(calculate_sparsity(tensor.numpy()))\n",
    "    tensor_pictoriality.append(1-get_tensor_pictoriality(tensor)/(tensor.numel()*4))\n",
    "    tensor_regularity.append(1-get_tensor_regularity(tensor)/(tensor.numel()*4))\n",
    "    tensor_decomposability.append(1-((tensor_rank[-1]*tensor.shape[1]+tensor_rank[-1]*tensor.shape[2])*tensor.shape[0])/(tensor.numel()*4))\n",
    "    print(\"Rank: %f, Sparsity: %f, Picoriality: %f, Regularity: %f, Decomposability: %f\" % (tensor_rank[-1],tensor_sparsity[-1],tensor_pictoriality[-1],tensor_regularity[-1],tensor_decomposability[-1]))\n",
    "\n",
    "    ## Jpeg compression\n",
    "    print(\"Doing JPEG compression\")\n",
    "    normalize_base, scale,zero_point, encoded_data, compressed_size_jpeg = compressor_jpeg_gray(tensor, 100)\n",
    "    reconstructed_tensor_jpeg = decompressor_jpeg_gray(tensor.shape,normalize_base, scale,zero_point, encoded_data )\n",
    "    ratio_jpeg = tensor.numel()*4/compressed_size_jpeg\n",
    "    snr_jpeg = calculate_snr(tensor.size(),tensor.numpy(), reconstructed_tensor_jpeg.numpy())\n",
    "    mse_jpeg = calculate_mse(tensor.numpy(), reconstructed_tensor_jpeg.numpy())\n",
    "    jpeg_ratio.append(ratio_jpeg)\n",
    "    jpeg_snr.append(snr_jpeg)\n",
    "    jpeg_mse.append(mse_jpeg)\n",
    "    print(\"Ratio: %f, SNR: %f, MSE: %f\" % (ratio_jpeg,snr_jpeg,mse_jpeg))\n",
    "\n",
    "    print(\"Doing Decomposition compression\")\n",
    "    # factors, compressed_size_decomposition = compressor_decomposition(tensor, tensor_rank[-1])\n",
    "    # reconstructed_tensor_decomposition = decompressor_decomposition(factors)\n",
    "    factors, compressed_size_decomposition = compressor_decomposition_slice(tensor)\n",
    "    reconstructed_tensor_decomposition = decompressor_decomposition_slice(tensor.shape,factors)\n",
    "    snr_decomposition = calculate_snr(tensor.size(),tensor.numpy(), reconstructed_tensor_decomposition.numpy())\n",
    "    mse_decomposition = calculate_mse(tensor.numpy(), reconstructed_tensor_decomposition.numpy())\n",
    "    ratio_decomposition= tensor.numel()*4/compressed_size_decomposition\n",
    "    decomposition_ratio.append(ratio_decomposition)\n",
    "    decomposition_snr.append(snr_decomposition)\n",
    "    decomposition_mse.append(mse_decomposition)\n",
    "    print(\"Ratio: %f, SNR: %f, MSE: %f\" % (ratio_decomposition,snr_decomposition,mse_decomposition))\n",
    "\n",
    "    print(\"Doing Regression compression\")\n",
    "    factors, x_pos, x_neg, compressed_size_regression = compressor_regression(tensor, 3)\n",
    "    reconstructed_tensor_regression = decompressor_regression(tensor.shape, factors, x_pos,x_neg )\n",
    "    snr_regression = calculate_snr(tensor.size(),tensor.numpy(), reconstructed_tensor_regression.numpy())\n",
    "    mse_regression = calculate_mse(tensor.numpy(), reconstructed_tensor_regression.numpy())\n",
    "    ratio_regression = tensor.numel()*4 / compressed_size_regression\n",
    "    regression_ratio.append(ratio_regression)\n",
    "    regression_snr.append(snr_regression)\n",
    "    regression_mse.append(mse_regression)\n",
    "    print(\"Ratio: %f, SNR: %f, MSE: %f\" % (ratio_regression,snr_regression,mse_regression))\n",
    "\n",
    "    print(\"Doing SketchML compression\")\n",
    "    minmaxsketch,bucket_means, keys, compressed_size_sketchml = compressor_sketchml(tensor,256,0.3,3)\n",
    "    reconstructed_tensor_sketchml = decompressor_sketchml(tensor.shape, minmaxsketch,bucket_means, keys)\n",
    "    snr_sketchml = calculate_snr(tensor.size(),tensor.numpy(), reconstructed_tensor_sketchml.numpy())\n",
    "    mse_sketchml = calculate_mse(tensor.numpy(), reconstructed_tensor_sketchml.numpy())\n",
    "    ratio_sketchml = tensor.numel() *4 / compressed_size_sketchml\n",
    "    sketchml_ratio.append(ratio_sketchml)\n",
    "    sketchml_snr.append(snr_sketchml)\n",
    "    sketchml_mse.append(mse_sketchml)\n",
    "    print(\"Ratio: %f, SNR: %f, MSE: %f\" % (ratio_sketchml,snr_sketchml,mse_sketchml))\n"
   ]
  },
  {
   "cell_type": "code",
   "execution_count": 5,
   "metadata": {},
   "outputs": [],
   "source": [
    "dict = {'split_layer':split_layer,\n",
    "        'rank': tensor_rank, \n",
    "        'sparsity': tensor_sparsity, \n",
    "        'regularity': tensor_regularity,\n",
    "        'pictoriality': tensor_pictoriality,\n",
    "        'jpeg_ratio':jpeg_ratio,\n",
    "        'jpeg_snr':jpeg_snr,\n",
    "        'jpeg_mse':jpeg_mse,\n",
    "        'decomposition_ratio':decomposition_ratio,\n",
    "        'decomposition_snr':decomposition_snr,\n",
    "        'decomposition_mse':decomposition_mse,\n",
    "        'regression_ratio':regression_ratio,\n",
    "        'regression_snr':regression_snr,\n",
    "        'regression_mse':regression_mse,\n",
    "        'sketchml_ratio':sketchml_ratio,\n",
    "        'sketchml_snr':sketchml_snr,\n",
    "        'sketchml_mse':sketchml_mse\n",
    "        } \n",
    "   \n",
    "df = pd.DataFrame(dict)"
   ]
  },
  {
   "cell_type": "code",
   "execution_count": 6,
   "metadata": {},
   "outputs": [],
   "source": [
    "df.to_csv(output_dir+\"layer\"+str(layer)+\"_diff.csv\",index=False, header=True)"
   ]
  }
 ],
 "metadata": {
  "kernelspec": {
   "display_name": "pytorch",
   "language": "python",
   "name": "python3"
  },
  "language_info": {
   "codemirror_mode": {
    "name": "ipython",
    "version": 3
   },
   "file_extension": ".py",
   "mimetype": "text/x-python",
   "name": "python",
   "nbconvert_exporter": "python",
   "pygments_lexer": "ipython3",
   "version": "3.10.0"
  }
 },
 "nbformat": 4,
 "nbformat_minor": 2
}
