{
 "cells": [
  {
   "cell_type": "code",
   "execution_count": 1,
   "metadata": {},
   "outputs": [],
   "source": [
    "import torch\n",
    "import matplotlib.pyplot as plt\n",
    "import torch_dct as dct\n",
    "from lib.tools import *\n",
    "from lib.decomposition import *\n",
    "from lib.jpeg import *\n",
    "from lib.sketchml import *\n",
    "from lib.regression import *\n",
    "import os\n",
    "import pandas as pd"
   ]
  },
  {
   "cell_type": "code",
   "execution_count": 2,
   "metadata": {},
   "outputs": [],
   "source": [
    "# tensor_dir = \"../experiments_football/tensors/\"\n",
    "tensor_dir = \"./test_tensors/layer8/\"\n",
    "output_dir = \"./measurements/\"\n",
    "layer = 2\n",
    "\n",
    "test_tensors = os.listdir(tensor_dir)"
   ]
  },
  {
   "cell_type": "code",
   "execution_count": 3,
   "metadata": {},
   "outputs": [],
   "source": [
    "def sort_fun(tensor_name):\n",
    "    return int(tensor_name.split(\"_\")[2].split(\".\")[0])\n",
    "\n",
    "test_tensors.sort(key=sort_fun)"
   ]
  },
  {
   "cell_type": "code",
   "execution_count": 4,
   "metadata": {},
   "outputs": [],
   "source": [
    "## Measurements\n",
    "split_layer = []\n",
    "\n",
    "tensor_rank=[]\n",
    "tensor_sparsity=[]\n",
    "tensor_regularity=[]\n",
    "tensor_pictoriality=[]\n",
    "tensor_decomposability=[]\n",
    "\n",
    "jpeg_ratio=[]\n",
    "jpeg_snr=[]\n",
    "jpeg_mse=[]\n",
    "decomposition_ratio=[]\n",
    "decomposition_snr=[]\n",
    "decomposition_mse=[]\n",
    "regression_ratio=[]\n",
    "regression_snr=[]\n",
    "regression_mse=[]\n",
    "sketchml_ratio=[]\n",
    "sketchml_snr=[]\n",
    "sketchml_mse=[]"
   ]
  },
  {
   "cell_type": "code",
   "execution_count": 5,
   "metadata": {},
   "outputs": [
    {
     "name": "stdout",
     "output_type": "stream",
     "text": [
      "************* Testing tensor: 0***************\n",
      "Rank: 14.296875, Sparsity: 0.900356, Picoriality: 0.628865, Regularity: 0.502741, Decomposability: -0.099760\n",
      "Doing JPEG compression\n",
      "Ratio: 5.376581, SNR: 25.761187, MSE: 0.000000\n",
      "Doing Decomposition compression\n",
      "Ratio: 0.909290, SNR: 135.739355, MSE: 0.000000\n",
      "Doing Regression compression\n",
      "Ratio: 16.484664, SNR: 9.876090, MSE: 0.000014\n",
      "Doing SketchML compression\n"
     ]
    },
    {
     "name": "stderr",
     "output_type": "stream",
     "text": [
      "/home/rex/gitRepo/split_DNN_framework/characteristics/lib/regression.py:20: RankWarning: Polyfit may be poorly conditioned\n",
      "  m = np.polyfit(x,y,polynominal)\n",
      "/home/rex/gitRepo/split_DNN_framework/characteristics/lib/regression.py:20: RankWarning: Polyfit may be poorly conditioned\n",
      "  m = np.polyfit(x,y,polynominal)\n",
      "/home/rex/gitRepo/split_DNN_framework/characteristics/lib/regression.py:20: RankWarning: Polyfit may be poorly conditioned\n",
      "  m = np.polyfit(x,y,polynominal)\n"
     ]
    },
    {
     "name": "stdout",
     "output_type": "stream",
     "text": [
      "Ratio: 31.905605, SNR: 8.380872, MSE: 0.000020\n",
      "************* Testing tensor: 1***************\n",
      "Rank: 12.851562, Sparsity: 0.916917, Picoriality: 0.594202, Regularity: 0.508701, Decomposability: 0.011418\n",
      "Doing JPEG compression\n",
      "Ratio: 5.598253, SNR: 24.843535, MSE: 0.000000\n",
      "Doing Decomposition compression\n",
      "Ratio: 1.011550, SNR: 136.064625, MSE: 0.000000\n",
      "Doing Regression compression\n",
      "Ratio: 16.628009, SNR: 9.920002, MSE: 0.000011\n",
      "Doing SketchML compression\n",
      "Ratio: 36.200397, SNR: 8.413856, MSE: 0.000016\n",
      "************* Testing tensor: 2***************\n"
     ]
    },
    {
     "name": "stderr",
     "output_type": "stream",
     "text": [
      "/home/rex/gitRepo/split_DNN_framework/characteristics/lib/regression.py:20: RankWarning: Polyfit may be poorly conditioned\n",
      "  m = np.polyfit(x,y,polynominal)\n",
      "/home/rex/gitRepo/split_DNN_framework/characteristics/lib/regression.py:20: RankWarning: Polyfit may be poorly conditioned\n",
      "  m = np.polyfit(x,y,polynominal)\n",
      "/home/rex/gitRepo/split_DNN_framework/characteristics/lib/regression.py:20: RankWarning: Polyfit may be poorly conditioned\n",
      "  m = np.polyfit(x,y,polynominal)\n",
      "/home/rex/gitRepo/split_DNN_framework/characteristics/lib/regression.py:20: RankWarning: Polyfit may be poorly conditioned\n",
      "  m = np.polyfit(x,y,polynominal)\n",
      "/home/rex/gitRepo/split_DNN_framework/characteristics/lib/sketchml.py:185: RuntimeWarning: Mean of empty slice.\n",
      "  bucket_means[k] = values[bucket_mask].mean()\n",
      "/home/rex/archiconda3/envs/pytorch/lib/python3.10/site-packages/numpy/core/_methods.py:129: RuntimeWarning: invalid value encountered in divide\n",
      "  ret = ret.dtype.type(ret / rcount)\n"
     ]
    },
    {
     "name": "stdout",
     "output_type": "stream",
     "text": [
      "Rank: 11.187500, Sparsity: 0.935651, Picoriality: 0.560194, Regularity: 0.514000, Decomposability: 0.139423\n",
      "Doing JPEG compression\n",
      "Ratio: 6.012333, SNR: 23.525262, MSE: 0.000000\n",
      "Doing Decomposition compression\n",
      "Ratio: 1.162011, SNR: 136.966038, MSE: 0.000000\n",
      "Doing Regression compression\n",
      "Ratio: 17.073402, SNR: 10.223963, MSE: 0.000008\n",
      "Doing SketchML compression\n",
      "Ratio: 42.793274, SNR: 8.539641, MSE: 0.000012\n",
      "************* Testing tensor: 3***************\n"
     ]
    },
    {
     "name": "stderr",
     "output_type": "stream",
     "text": [
      "/home/rex/gitRepo/split_DNN_framework/characteristics/lib/regression.py:20: RankWarning: Polyfit may be poorly conditioned\n",
      "  m = np.polyfit(x,y,polynominal)\n",
      "/home/rex/gitRepo/split_DNN_framework/characteristics/lib/regression.py:20: RankWarning: Polyfit may be poorly conditioned\n",
      "  m = np.polyfit(x,y,polynominal)\n",
      "/home/rex/gitRepo/split_DNN_framework/characteristics/lib/regression.py:20: RankWarning: Polyfit may be poorly conditioned\n",
      "  m = np.polyfit(x,y,polynominal)\n",
      "/home/rex/gitRepo/split_DNN_framework/characteristics/lib/regression.py:20: RankWarning: Polyfit may be poorly conditioned\n",
      "  m = np.polyfit(x,y,polynominal)\n",
      "/home/rex/gitRepo/split_DNN_framework/characteristics/lib/regression.py:20: RankWarning: Polyfit may be poorly conditioned\n",
      "  m = np.polyfit(x,y,polynominal)\n"
     ]
    },
    {
     "name": "stdout",
     "output_type": "stream",
     "text": [
      "Rank: 11.710938, Sparsity: 0.928243, Picoriality: 0.590050, Regularity: 0.496760, Decomposability: 0.099159\n",
      "Doing JPEG compression\n",
      "Ratio: 5.503976, SNR: 22.976151, MSE: 0.000000\n",
      "Doing Decomposition compression\n",
      "Ratio: 1.110073, SNR: 136.712542, MSE: 0.000000\n",
      "Doing Regression compression\n",
      "Ratio: 16.628009, SNR: 9.922729, MSE: 0.000009\n",
      "Doing SketchML compression\n",
      "Ratio: 39.920646, SNR: 8.645609, MSE: 0.000012\n",
      "************* Testing tensor: 4***************\n"
     ]
    },
    {
     "name": "stderr",
     "output_type": "stream",
     "text": [
      "/home/rex/gitRepo/split_DNN_framework/characteristics/lib/regression.py:20: RankWarning: Polyfit may be poorly conditioned\n",
      "  m = np.polyfit(x,y,polynominal)\n",
      "/home/rex/gitRepo/split_DNN_framework/characteristics/lib/regression.py:20: RankWarning: Polyfit may be poorly conditioned\n",
      "  m = np.polyfit(x,y,polynominal)\n"
     ]
    },
    {
     "name": "stdout",
     "output_type": "stream",
     "text": [
      "Rank: 12.281250, Sparsity: 0.921817, Picoriality: 0.552626, Regularity: 0.493864, Decomposability: 0.055288\n",
      "Doing JPEG compression\n",
      "Ratio: 5.184655, SNR: 21.147053, MSE: 0.000001\n",
      "Doing Decomposition compression\n",
      "Ratio: 1.058524, SNR: 136.423340, MSE: 0.000000\n",
      "Doing Regression compression\n",
      "Ratio: 16.484664, SNR: 9.799258, MSE: 0.000010\n",
      "Doing SketchML compression\n",
      "Ratio: 37.727491, SNR: 8.419824, MSE: 0.000014\n",
      "************* Testing tensor: 5***************\n"
     ]
    },
    {
     "name": "stderr",
     "output_type": "stream",
     "text": [
      "/home/rex/gitRepo/split_DNN_framework/characteristics/lib/regression.py:20: RankWarning: Polyfit may be poorly conditioned\n",
      "  m = np.polyfit(x,y,polynominal)\n",
      "/home/rex/gitRepo/split_DNN_framework/characteristics/lib/regression.py:20: RankWarning: Polyfit may be poorly conditioned\n",
      "  m = np.polyfit(x,y,polynominal)\n",
      "/home/rex/gitRepo/split_DNN_framework/characteristics/lib/regression.py:20: RankWarning: Polyfit may be poorly conditioned\n",
      "  m = np.polyfit(x,y,polynominal)\n",
      "/home/rex/gitRepo/split_DNN_framework/characteristics/lib/regression.py:20: RankWarning: Polyfit may be poorly conditioned\n",
      "  m = np.polyfit(x,y,polynominal)\n"
     ]
    },
    {
     "name": "stdout",
     "output_type": "stream",
     "text": [
      "Rank: 12.382812, Sparsity: 0.912976, Picoriality: 0.626316, Regularity: 0.511193, Decomposability: 0.047476\n",
      "Doing JPEG compression\n",
      "Ratio: 5.171176, SNR: 22.650325, MSE: 0.000001\n",
      "Doing Decomposition compression\n",
      "Ratio: 1.049842, SNR: 136.358995, MSE: 0.000000\n",
      "Doing Regression compression\n",
      "Ratio: 16.628009, SNR: 10.202879, MSE: 0.000010\n",
      "Doing SketchML compression\n",
      "Ratio: 35.088402, SNR: 8.770183, MSE: 0.000014\n",
      "************* Testing tensor: 6***************\n"
     ]
    },
    {
     "name": "stderr",
     "output_type": "stream",
     "text": [
      "/home/rex/gitRepo/split_DNN_framework/characteristics/lib/regression.py:20: RankWarning: Polyfit may be poorly conditioned\n",
      "  m = np.polyfit(x,y,polynominal)\n",
      "/home/rex/gitRepo/split_DNN_framework/characteristics/lib/regression.py:20: RankWarning: Polyfit may be poorly conditioned\n",
      "  m = np.polyfit(x,y,polynominal)\n",
      "/home/rex/gitRepo/split_DNN_framework/characteristics/lib/regression.py:20: RankWarning: Polyfit may be poorly conditioned\n",
      "  m = np.polyfit(x,y,polynominal)\n",
      "/home/rex/gitRepo/split_DNN_framework/characteristics/lib/regression.py:20: RankWarning: Polyfit may be poorly conditioned\n",
      "  m = np.polyfit(x,y,polynominal)\n",
      "/home/rex/gitRepo/split_DNN_framework/characteristics/lib/regression.py:20: RankWarning: Polyfit may be poorly conditioned\n",
      "  m = np.polyfit(x,y,polynominal)\n",
      "/home/rex/gitRepo/split_DNN_framework/characteristics/lib/regression.py:20: RankWarning: Polyfit may be poorly conditioned\n",
      "  m = np.polyfit(x,y,polynominal)\n"
     ]
    },
    {
     "name": "stdout",
     "output_type": "stream",
     "text": [
      "Rank: 10.921875, Sparsity: 0.943903, Picoriality: 0.579965, Regularity: 0.516750, Decomposability: 0.159856\n",
      "Doing JPEG compression\n",
      "Ratio: 5.710948, SNR: 20.370433, MSE: 0.000001\n",
      "Doing Decomposition compression\n",
      "Ratio: 1.190272, SNR: 136.790724, MSE: 0.000000\n",
      "Doing Regression compression\n",
      "Ratio: 16.773868, SNR: 9.621416, MSE: 0.000008\n",
      "Doing SketchML compression\n",
      "Ratio: 46.426828, SNR: 8.502547, MSE: 0.000010\n",
      "************* Testing tensor: 7***************\n"
     ]
    },
    {
     "name": "stderr",
     "output_type": "stream",
     "text": [
      "/home/rex/gitRepo/split_DNN_framework/characteristics/lib/regression.py:20: RankWarning: Polyfit may be poorly conditioned\n",
      "  m = np.polyfit(x,y,polynominal)\n",
      "/home/rex/gitRepo/split_DNN_framework/characteristics/lib/regression.py:20: RankWarning: Polyfit may be poorly conditioned\n",
      "  m = np.polyfit(x,y,polynominal)\n",
      "/home/rex/gitRepo/split_DNN_framework/characteristics/lib/regression.py:20: RankWarning: Polyfit may be poorly conditioned\n",
      "  m = np.polyfit(x,y,polynominal)\n",
      "/home/rex/gitRepo/split_DNN_framework/characteristics/lib/regression.py:20: RankWarning: Polyfit may be poorly conditioned\n",
      "  m = np.polyfit(x,y,polynominal)\n"
     ]
    },
    {
     "name": "stdout",
     "output_type": "stream",
     "text": [
      "Rank: 12.414062, Sparsity: 0.918373, Picoriality: 0.632741, Regularity: 0.498533, Decomposability: 0.045072\n",
      "Doing JPEG compression\n",
      "Ratio: 5.167393, SNR: 20.020669, MSE: 0.000001\n",
      "Doing Decomposition compression\n",
      "Ratio: 1.047199, SNR: 136.426134, MSE: 0.000000\n",
      "Doing Regression compression\n",
      "Ratio: 16.628009, SNR: 9.939827, MSE: 0.000012\n",
      "Doing SketchML compression\n",
      "Ratio: 36.707180, SNR: 7.934589, MSE: 0.000019\n",
      "************* Testing tensor: 8***************\n"
     ]
    },
    {
     "name": "stderr",
     "output_type": "stream",
     "text": [
      "/home/rex/gitRepo/split_DNN_framework/characteristics/lib/regression.py:20: RankWarning: Polyfit may be poorly conditioned\n",
      "  m = np.polyfit(x,y,polynominal)\n",
      "/home/rex/gitRepo/split_DNN_framework/characteristics/lib/regression.py:20: RankWarning: Polyfit may be poorly conditioned\n",
      "  m = np.polyfit(x,y,polynominal)\n",
      "/home/rex/gitRepo/split_DNN_framework/characteristics/lib/regression.py:20: RankWarning: Polyfit may be poorly conditioned\n",
      "  m = np.polyfit(x,y,polynominal)\n"
     ]
    },
    {
     "name": "stdout",
     "output_type": "stream",
     "text": [
      "Rank: 14.601562, Sparsity: 0.901315, Picoriality: 0.611968, Regularity: 0.493842, Decomposability: -0.123197\n",
      "Doing JPEG compression\n",
      "Ratio: 4.532516, SNR: 19.371459, MSE: 0.000002\n",
      "Doing Decomposition compression\n",
      "Ratio: 0.890316, SNR: 135.651321, MSE: 0.000000\n",
      "Doing Regression compression\n",
      "Ratio: 16.628009, SNR: 9.834267, MSE: 0.000014\n",
      "Doing SketchML compression\n",
      "Ratio: 32.154589, SNR: 8.335816, MSE: 0.000020\n",
      "************* Testing tensor: 9***************\n"
     ]
    },
    {
     "name": "stderr",
     "output_type": "stream",
     "text": [
      "/home/rex/gitRepo/split_DNN_framework/characteristics/lib/regression.py:20: RankWarning: Polyfit may be poorly conditioned\n",
      "  m = np.polyfit(x,y,polynominal)\n"
     ]
    },
    {
     "name": "stdout",
     "output_type": "stream",
     "text": [
      "Rank: 14.804688, Sparsity: 0.912179, Picoriality: 0.610816, Regularity: 0.474289, Decomposability: -0.138822\n",
      "Doing JPEG compression\n",
      "Ratio: 4.923007, SNR: 19.702418, MSE: 0.000001\n",
      "Doing Decomposition compression\n",
      "Ratio: 0.878100, SNR: 135.935431, MSE: 0.000000\n",
      "Doing Regression compression\n",
      "Ratio: 16.773868, SNR: 9.205786, MSE: 0.000015\n",
      "Doing SketchML compression\n",
      "Ratio: 34.876260, SNR: 7.882284, MSE: 0.000020\n",
      "************* Testing tensor: 10***************\n",
      "Rank: 13.382812, Sparsity: 0.911601, Picoriality: 0.610701, Regularity: 0.490249, Decomposability: -0.029447\n",
      "Doing JPEG compression\n",
      "Ratio: 5.011830, SNR: 20.935335, MSE: 0.000001\n",
      "Doing Decomposition compression\n",
      "Ratio: 0.971395, SNR: 136.170959, MSE: 0.000000\n",
      "Doing Regression compression\n",
      "Ratio: 16.628009, SNR: 9.738619, MSE: 0.000013\n",
      "Doing SketchML compression\n",
      "Ratio: 34.690989, SNR: 7.973827, MSE: 0.000020\n",
      "************* Testing tensor: 11***************\n"
     ]
    },
    {
     "name": "stderr",
     "output_type": "stream",
     "text": [
      "/home/rex/gitRepo/split_DNN_framework/characteristics/lib/regression.py:20: RankWarning: Polyfit may be poorly conditioned\n",
      "  m = np.polyfit(x,y,polynominal)\n",
      "/home/rex/gitRepo/split_DNN_framework/characteristics/lib/regression.py:20: RankWarning: Polyfit may be poorly conditioned\n",
      "  m = np.polyfit(x,y,polynominal)\n"
     ]
    },
    {
     "name": "stdout",
     "output_type": "stream",
     "text": [
      "Rank: 12.562500, Sparsity: 0.922384, Picoriality: 0.561654, Regularity: 0.496705, Decomposability: 0.033654\n",
      "Doing JPEG compression\n",
      "Ratio: 5.498729, SNR: 20.147846, MSE: 0.000001\n",
      "Doing Decomposition compression\n",
      "Ratio: 1.034826, SNR: 136.281090, MSE: 0.000000\n",
      "Doing Regression compression\n",
      "Ratio: 16.628009, SNR: 9.856871, MSE: 0.000010\n",
      "Doing SketchML compression\n",
      "Ratio: 37.963365, SNR: 8.471239, MSE: 0.000014\n",
      "************* Testing tensor: 12***************\n"
     ]
    },
    {
     "name": "stderr",
     "output_type": "stream",
     "text": [
      "/home/rex/gitRepo/split_DNN_framework/characteristics/lib/regression.py:20: RankWarning: Polyfit may be poorly conditioned\n",
      "  m = np.polyfit(x,y,polynominal)\n",
      "/home/rex/gitRepo/split_DNN_framework/characteristics/lib/regression.py:20: RankWarning: Polyfit may be poorly conditioned\n",
      "  m = np.polyfit(x,y,polynominal)\n",
      "/home/rex/gitRepo/split_DNN_framework/characteristics/lib/regression.py:20: RankWarning: Polyfit may be poorly conditioned\n",
      "  m = np.polyfit(x,y,polynominal)\n",
      "/home/rex/gitRepo/split_DNN_framework/characteristics/lib/regression.py:20: RankWarning: Polyfit may be poorly conditioned\n",
      "  m = np.polyfit(x,y,polynominal)\n"
     ]
    },
    {
     "name": "stdout",
     "output_type": "stream",
     "text": [
      "Rank: 12.414062, Sparsity: 0.922672, Picoriality: 0.611489, Regularity: 0.496826, Decomposability: 0.045072\n",
      "Doing JPEG compression\n",
      "Ratio: 5.673502, SNR: 20.560584, MSE: 0.000001\n",
      "Doing Decomposition compression\n",
      "Ratio: 1.047199, SNR: 136.901207, MSE: 0.000000\n",
      "Doing Regression compression\n",
      "Ratio: 16.773868, SNR: 9.983536, MSE: 0.000011\n",
      "Doing SketchML compression\n",
      "Ratio: 38.013399, SNR: 8.395624, MSE: 0.000015\n",
      "************* Testing tensor: 13***************\n"
     ]
    },
    {
     "name": "stderr",
     "output_type": "stream",
     "text": [
      "/home/rex/gitRepo/split_DNN_framework/characteristics/lib/regression.py:20: RankWarning: Polyfit may be poorly conditioned\n",
      "  m = np.polyfit(x,y,polynominal)\n",
      "/home/rex/gitRepo/split_DNN_framework/characteristics/lib/regression.py:20: RankWarning: Polyfit may be poorly conditioned\n",
      "  m = np.polyfit(x,y,polynominal)\n"
     ]
    },
    {
     "name": "stdout",
     "output_type": "stream",
     "text": [
      "Rank: 11.921875, Sparsity: 0.927549, Picoriality: 0.605895, Regularity: 0.503206, Decomposability: 0.082933\n",
      "Doing JPEG compression\n",
      "Ratio: 5.681978, SNR: 22.770014, MSE: 0.000001\n",
      "Doing Decomposition compression\n",
      "Ratio: 1.090433, SNR: 136.907673, MSE: 0.000000\n",
      "Doing Regression compression\n",
      "Ratio: 16.484664, SNR: 9.854822, MSE: 0.000011\n",
      "Doing SketchML compression\n",
      "Ratio: 39.714515, SNR: 7.827967, MSE: 0.000017\n",
      "************* Testing tensor: 14***************\n"
     ]
    },
    {
     "name": "stderr",
     "output_type": "stream",
     "text": [
      "/home/rex/gitRepo/split_DNN_framework/characteristics/lib/regression.py:20: RankWarning: Polyfit may be poorly conditioned\n",
      "  m = np.polyfit(x,y,polynominal)\n",
      "/home/rex/gitRepo/split_DNN_framework/characteristics/lib/regression.py:20: RankWarning: Polyfit may be poorly conditioned\n",
      "  m = np.polyfit(x,y,polynominal)\n",
      "/home/rex/gitRepo/split_DNN_framework/characteristics/lib/regression.py:20: RankWarning: Polyfit may be poorly conditioned\n",
      "  m = np.polyfit(x,y,polynominal)\n",
      "/home/rex/gitRepo/split_DNN_framework/characteristics/lib/regression.py:20: RankWarning: Polyfit may be poorly conditioned\n",
      "  m = np.polyfit(x,y,polynominal)\n"
     ]
    },
    {
     "name": "stdout",
     "output_type": "stream",
     "text": [
      "Rank: 11.796875, Sparsity: 0.929722, Picoriality: 0.601629, Regularity: 0.513215, Decomposability: 0.092548\n",
      "Doing JPEG compression\n",
      "Ratio: 5.630676, SNR: 23.429286, MSE: 0.000000\n",
      "Doing Decomposition compression\n",
      "Ratio: 1.101987, SNR: 136.790419, MSE: 0.000000\n",
      "Doing Regression compression\n",
      "Ratio: 16.484664, SNR: 10.113769, MSE: 0.000009\n",
      "Doing SketchML compression\n",
      "Ratio: 40.466737, SNR: 8.231320, MSE: 0.000014\n",
      "************* Testing tensor: 15***************\n"
     ]
    },
    {
     "name": "stderr",
     "output_type": "stream",
     "text": [
      "/home/rex/gitRepo/split_DNN_framework/characteristics/lib/regression.py:20: RankWarning: Polyfit may be poorly conditioned\n",
      "  m = np.polyfit(x,y,polynominal)\n",
      "/home/rex/gitRepo/split_DNN_framework/characteristics/lib/regression.py:20: RankWarning: Polyfit may be poorly conditioned\n",
      "  m = np.polyfit(x,y,polynominal)\n",
      "/home/rex/gitRepo/split_DNN_framework/characteristics/lib/regression.py:20: RankWarning: Polyfit may be poorly conditioned\n",
      "  m = np.polyfit(x,y,polynominal)\n",
      "/home/rex/gitRepo/split_DNN_framework/characteristics/lib/regression.py:20: RankWarning: Polyfit may be poorly conditioned\n",
      "  m = np.polyfit(x,y,polynominal)\n"
     ]
    },
    {
     "name": "stdout",
     "output_type": "stream",
     "text": [
      "Rank: 11.945312, Sparsity: 0.940701, Picoriality: 0.528256, Regularity: 0.516641, Decomposability: 0.081130\n",
      "Doing JPEG compression\n",
      "Ratio: 5.397542, SNR: 19.946152, MSE: 0.000001\n",
      "Doing Decomposition compression\n",
      "Ratio: 1.088293, SNR: 136.334190, MSE: 0.000000\n",
      "Doing Regression compression\n",
      "Ratio: 16.773868, SNR: 9.962122, MSE: 0.000008\n",
      "Doing SketchML compression\n",
      "Ratio: 44.949610, SNR: 8.371902, MSE: 0.000011\n",
      "************* Testing tensor: 16***************\n"
     ]
    },
    {
     "name": "stderr",
     "output_type": "stream",
     "text": [
      "/home/rex/gitRepo/split_DNN_framework/characteristics/lib/regression.py:20: RankWarning: Polyfit may be poorly conditioned\n",
      "  m = np.polyfit(x,y,polynominal)\n",
      "/home/rex/gitRepo/split_DNN_framework/characteristics/lib/regression.py:20: RankWarning: Polyfit may be poorly conditioned\n",
      "  m = np.polyfit(x,y,polynominal)\n",
      "/home/rex/gitRepo/split_DNN_framework/characteristics/lib/regression.py:20: RankWarning: Polyfit may be poorly conditioned\n",
      "  m = np.polyfit(x,y,polynominal)\n",
      "/home/rex/gitRepo/split_DNN_framework/characteristics/lib/regression.py:20: RankWarning: Polyfit may be poorly conditioned\n",
      "  m = np.polyfit(x,y,polynominal)\n",
      "/home/rex/gitRepo/split_DNN_framework/characteristics/lib/regression.py:20: RankWarning: Polyfit may be poorly conditioned\n",
      "  m = np.polyfit(x,y,polynominal)\n"
     ]
    },
    {
     "name": "stdout",
     "output_type": "stream",
     "text": [
      "Rank: 11.468750, Sparsity: 0.931456, Picoriality: 0.566623, Regularity: 0.497410, Decomposability: 0.117788\n",
      "Doing JPEG compression\n",
      "Ratio: 5.734224, SNR: 18.214684, MSE: 0.000001\n",
      "Doing Decomposition compression\n",
      "Ratio: 1.133515, SNR: 136.672459, MSE: 0.000000\n",
      "Doing Regression compression\n",
      "Ratio: 16.628009, SNR: 9.544896, MSE: 0.000011\n",
      "Doing SketchML compression\n",
      "Ratio: 41.086420, SNR: 8.034982, MSE: 0.000015\n",
      "************* Testing tensor: 17***************\n"
     ]
    },
    {
     "name": "stderr",
     "output_type": "stream",
     "text": [
      "/home/rex/gitRepo/split_DNN_framework/characteristics/lib/regression.py:20: RankWarning: Polyfit may be poorly conditioned\n",
      "  m = np.polyfit(x,y,polynominal)\n",
      "/home/rex/gitRepo/split_DNN_framework/characteristics/lib/regression.py:20: RankWarning: Polyfit may be poorly conditioned\n",
      "  m = np.polyfit(x,y,polynominal)\n",
      "/home/rex/gitRepo/split_DNN_framework/characteristics/lib/regression.py:20: RankWarning: Polyfit may be poorly conditioned\n",
      "  m = np.polyfit(x,y,polynominal)\n"
     ]
    },
    {
     "name": "stdout",
     "output_type": "stream",
     "text": [
      "Rank: 12.546875, Sparsity: 0.922476, Picoriality: 0.582311, Regularity: 0.501600, Decomposability: 0.034856\n",
      "Doing JPEG compression\n",
      "Ratio: 5.232309, SNR: 18.809780, MSE: 0.000001\n",
      "Doing Decomposition compression\n",
      "Ratio: 1.036115, SNR: 136.603727, MSE: 0.000000\n",
      "Doing Regression compression\n",
      "Ratio: 16.484664, SNR: 9.685141, MSE: 0.000011\n",
      "Doing SketchML compression\n",
      "Ratio: 37.988366, SNR: 8.142313, MSE: 0.000016\n",
      "************* Testing tensor: 18***************\n"
     ]
    },
    {
     "name": "stderr",
     "output_type": "stream",
     "text": [
      "/home/rex/gitRepo/split_DNN_framework/characteristics/lib/regression.py:20: RankWarning: Polyfit may be poorly conditioned\n",
      "  m = np.polyfit(x,y,polynominal)\n",
      "/home/rex/gitRepo/split_DNN_framework/characteristics/lib/regression.py:20: RankWarning: Polyfit may be poorly conditioned\n",
      "  m = np.polyfit(x,y,polynominal)\n",
      "/home/rex/gitRepo/split_DNN_framework/characteristics/lib/regression.py:20: RankWarning: Polyfit may be poorly conditioned\n",
      "  m = np.polyfit(x,y,polynominal)\n"
     ]
    },
    {
     "name": "stdout",
     "output_type": "stream",
     "text": [
      "Rank: 15.343750, Sparsity: 0.911578, Picoriality: 0.561780, Regularity: 0.488315, Decomposability: -0.180288\n",
      "Doing JPEG compression\n",
      "Ratio: 4.678896, SNR: 20.751123, MSE: 0.000001\n",
      "Doing Decomposition compression\n",
      "Ratio: 0.847251, SNR: 136.025600, MSE: 0.000000\n",
      "Doing Regression compression\n",
      "Ratio: 16.484664, SNR: 9.441991, MSE: 0.000014\n",
      "Doing SketchML compression\n",
      "Ratio: 34.708383, SNR: 8.065272, MSE: 0.000019\n",
      "************* Testing tensor: 19***************\n"
     ]
    },
    {
     "name": "stderr",
     "output_type": "stream",
     "text": [
      "/home/rex/gitRepo/split_DNN_framework/characteristics/lib/regression.py:20: RankWarning: Polyfit may be poorly conditioned\n",
      "  m = np.polyfit(x,y,polynominal)\n",
      "/home/rex/gitRepo/split_DNN_framework/characteristics/lib/regression.py:20: RankWarning: Polyfit may be poorly conditioned\n",
      "  m = np.polyfit(x,y,polynominal)\n",
      "/home/rex/gitRepo/split_DNN_framework/characteristics/lib/regression.py:20: RankWarning: Polyfit may be poorly conditioned\n",
      "  m = np.polyfit(x,y,polynominal)\n",
      "/home/rex/gitRepo/split_DNN_framework/characteristics/lib/regression.py:20: RankWarning: Polyfit may be poorly conditioned\n",
      "  m = np.polyfit(x,y,polynominal)\n"
     ]
    },
    {
     "name": "stdout",
     "output_type": "stream",
     "text": [
      "Rank: 14.507812, Sparsity: 0.920361, Picoriality: 0.553489, Regularity: 0.493819, Decomposability: -0.115986\n",
      "Doing JPEG compression\n",
      "Ratio: 4.719731, SNR: 19.551736, MSE: 0.000001\n",
      "Doing Decomposition compression\n",
      "Ratio: 0.896069, SNR: 136.068144, MSE: 0.000000\n",
      "Doing Regression compression\n",
      "Ratio: 16.484664, SNR: 9.286498, MSE: 0.000014\n",
      "Doing SketchML compression\n",
      "Ratio: 37.312635, SNR: 7.713321, MSE: 0.000019\n",
      "************* Testing tensor: 20***************\n"
     ]
    },
    {
     "name": "stderr",
     "output_type": "stream",
     "text": [
      "/home/rex/gitRepo/split_DNN_framework/characteristics/lib/regression.py:20: RankWarning: Polyfit may be poorly conditioned\n",
      "  m = np.polyfit(x,y,polynominal)\n",
      "/home/rex/gitRepo/split_DNN_framework/characteristics/lib/regression.py:20: RankWarning: Polyfit may be poorly conditioned\n",
      "  m = np.polyfit(x,y,polynominal)\n",
      "/home/rex/gitRepo/split_DNN_framework/characteristics/lib/regression.py:20: RankWarning: Polyfit may be poorly conditioned\n",
      "  m = np.polyfit(x,y,polynominal)\n"
     ]
    },
    {
     "name": "stdout",
     "output_type": "stream",
     "text": [
      "Rank: 12.296875, Sparsity: 0.934796, Picoriality: 0.535341, Regularity: 0.497072, Decomposability: 0.054087\n",
      "Doing JPEG compression\n",
      "Ratio: 5.022230, SNR: 17.348933, MSE: 0.000002\n",
      "Doing Decomposition compression\n",
      "Ratio: 1.057179, SNR: 136.452980, MSE: 0.000000\n",
      "Doing Regression compression\n",
      "Ratio: 16.628009, SNR: 9.539444, MSE: 0.000010\n",
      "Doing SketchML compression\n",
      "Ratio: 42.415686, SNR: 8.073334, MSE: 0.000013\n",
      "************* Testing tensor: 21***************\n"
     ]
    },
    {
     "name": "stderr",
     "output_type": "stream",
     "text": [
      "/home/rex/gitRepo/split_DNN_framework/characteristics/lib/regression.py:20: RankWarning: Polyfit may be poorly conditioned\n",
      "  m = np.polyfit(x,y,polynominal)\n",
      "/home/rex/gitRepo/split_DNN_framework/characteristics/lib/regression.py:20: RankWarning: Polyfit may be poorly conditioned\n",
      "  m = np.polyfit(x,y,polynominal)\n"
     ]
    },
    {
     "name": "stdout",
     "output_type": "stream",
     "text": [
      "Rank: 12.250000, Sparsity: 0.928682, Picoriality: 0.545660, Regularity: 0.496331, Decomposability: 0.057692\n",
      "Doing JPEG compression\n",
      "Ratio: 5.452472, SNR: 20.086803, MSE: 0.000001\n",
      "Doing Decomposition compression\n",
      "Ratio: 1.061224, SNR: 136.253252, MSE: 0.000000\n",
      "Doing Regression compression\n",
      "Ratio: 16.922310, SNR: 9.779274, MSE: 0.000010\n",
      "Doing SketchML compression\n",
      "Ratio: 40.059259, SNR: 8.139417, MSE: 0.000015\n",
      "************* Testing tensor: 22***************\n"
     ]
    },
    {
     "name": "stderr",
     "output_type": "stream",
     "text": [
      "/home/rex/gitRepo/split_DNN_framework/characteristics/lib/regression.py:20: RankWarning: Polyfit may be poorly conditioned\n",
      "  m = np.polyfit(x,y,polynominal)\n",
      "/home/rex/gitRepo/split_DNN_framework/characteristics/lib/regression.py:20: RankWarning: Polyfit may be poorly conditioned\n",
      "  m = np.polyfit(x,y,polynominal)\n",
      "/home/rex/gitRepo/split_DNN_framework/characteristics/lib/regression.py:20: RankWarning: Polyfit may be poorly conditioned\n",
      "  m = np.polyfit(x,y,polynominal)\n",
      "/home/rex/gitRepo/split_DNN_framework/characteristics/lib/regression.py:20: RankWarning: Polyfit may be poorly conditioned\n",
      "  m = np.polyfit(x,y,polynominal)\n"
     ]
    },
    {
     "name": "stdout",
     "output_type": "stream",
     "text": [
      "Rank: 11.468750, Sparsity: 0.919714, Picoriality: 0.650956, Regularity: 0.518412, Decomposability: 0.117788\n",
      "Doing JPEG compression\n",
      "Ratio: 5.856974, SNR: 21.788402, MSE: 0.000001\n",
      "Doing Decomposition compression\n",
      "Ratio: 1.133515, SNR: 136.771946, MSE: 0.000000\n",
      "Doing Regression compression\n",
      "Ratio: 16.628009, SNR: 10.368015, MSE: 0.000010\n",
      "Doing SketchML compression\n",
      "Ratio: 37.072836, SNR: 8.516259, MSE: 0.000015\n",
      "************* Testing tensor: 23***************\n"
     ]
    },
    {
     "name": "stderr",
     "output_type": "stream",
     "text": [
      "/home/rex/gitRepo/split_DNN_framework/characteristics/lib/regression.py:20: RankWarning: Polyfit may be poorly conditioned\n",
      "  m = np.polyfit(x,y,polynominal)\n",
      "/home/rex/gitRepo/split_DNN_framework/characteristics/lib/regression.py:20: RankWarning: Polyfit may be poorly conditioned\n",
      "  m = np.polyfit(x,y,polynominal)\n",
      "/home/rex/gitRepo/split_DNN_framework/characteristics/lib/regression.py:20: RankWarning: Polyfit may be poorly conditioned\n",
      "  m = np.polyfit(x,y,polynominal)\n",
      "/home/rex/gitRepo/split_DNN_framework/characteristics/lib/regression.py:20: RankWarning: Polyfit may be poorly conditioned\n",
      "  m = np.polyfit(x,y,polynominal)\n",
      "/home/rex/gitRepo/split_DNN_framework/characteristics/lib/regression.py:20: RankWarning: Polyfit may be poorly conditioned\n",
      "  m = np.polyfit(x,y,polynominal)\n"
     ]
    },
    {
     "name": "stdout",
     "output_type": "stream",
     "text": [
      "Rank: 11.203125, Sparsity: 0.929526, Picoriality: 0.632170, Regularity: 0.525488, Decomposability: 0.138221\n",
      "Doing JPEG compression\n",
      "Ratio: 5.740596, SNR: 21.910913, MSE: 0.000001\n",
      "Doing Decomposition compression\n",
      "Ratio: 1.160391, SNR: 136.475554, MSE: 0.000000\n",
      "Doing Regression compression\n",
      "Ratio: 16.484664, SNR: 10.627941, MSE: 0.000008\n",
      "Doing SketchML compression\n",
      "Ratio: 40.395892, SNR: 8.429375, MSE: 0.000013\n",
      "************* Testing tensor: 24***************\n"
     ]
    },
    {
     "name": "stderr",
     "output_type": "stream",
     "text": [
      "/home/rex/gitRepo/split_DNN_framework/characteristics/lib/regression.py:20: RankWarning: Polyfit may be poorly conditioned\n",
      "  m = np.polyfit(x,y,polynominal)\n",
      "/home/rex/gitRepo/split_DNN_framework/characteristics/lib/regression.py:20: RankWarning: Polyfit may be poorly conditioned\n",
      "  m = np.polyfit(x,y,polynominal)\n",
      "/home/rex/gitRepo/split_DNN_framework/characteristics/lib/regression.py:20: RankWarning: Polyfit may be poorly conditioned\n",
      "  m = np.polyfit(x,y,polynominal)\n",
      "/home/rex/gitRepo/split_DNN_framework/characteristics/lib/regression.py:20: RankWarning: Polyfit may be poorly conditioned\n",
      "  m = np.polyfit(x,y,polynominal)\n",
      "/home/rex/gitRepo/split_DNN_framework/characteristics/lib/regression.py:20: RankWarning: Polyfit may be poorly conditioned\n",
      "  m = np.polyfit(x,y,polynominal)\n"
     ]
    },
    {
     "name": "stdout",
     "output_type": "stream",
     "text": [
      "Rank: 13.289062, Sparsity: 0.913681, Picoriality: 0.641131, Regularity: 0.512789, Decomposability: -0.022236\n",
      "Doing JPEG compression\n",
      "Ratio: 4.987851, SNR: 21.471932, MSE: 0.000001\n",
      "Doing Decomposition compression\n",
      "Ratio: 0.978248, SNR: 136.210632, MSE: 0.000000\n",
      "Doing Regression compression\n",
      "Ratio: 16.484664, SNR: 10.483731, MSE: 0.000010\n",
      "Doing SketchML compression\n",
      "Ratio: 35.281549, SNR: 8.382204, MSE: 0.000017\n",
      "************* Testing tensor: 25***************\n"
     ]
    },
    {
     "name": "stderr",
     "output_type": "stream",
     "text": [
      "/home/rex/gitRepo/split_DNN_framework/characteristics/lib/regression.py:20: RankWarning: Polyfit may be poorly conditioned\n",
      "  m = np.polyfit(x,y,polynominal)\n",
      "/home/rex/gitRepo/split_DNN_framework/characteristics/lib/regression.py:20: RankWarning: Polyfit may be poorly conditioned\n",
      "  m = np.polyfit(x,y,polynominal)\n",
      "/home/rex/gitRepo/split_DNN_framework/characteristics/lib/regression.py:20: RankWarning: Polyfit may be poorly conditioned\n",
      "  m = np.polyfit(x,y,polynominal)\n"
     ]
    },
    {
     "name": "stdout",
     "output_type": "stream",
     "text": [
      "Rank: 14.523438, Sparsity: 0.901084, Picoriality: 0.638817, Regularity: 0.509210, Decomposability: -0.117188\n",
      "Doing JPEG compression\n",
      "Ratio: 4.912317, SNR: 23.226507, MSE: 0.000001\n",
      "Doing Decomposition compression\n",
      "Ratio: 0.895105, SNR: 136.062622, MSE: 0.000000\n",
      "Doing Regression compression\n",
      "Ratio: 16.628009, SNR: 10.538347, MSE: 0.000012\n",
      "Doing SketchML compression\n",
      "Ratio: 32.118782, SNR: 8.514596, MSE: 0.000019\n",
      "************* Testing tensor: 26***************\n"
     ]
    },
    {
     "name": "stderr",
     "output_type": "stream",
     "text": [
      "/home/rex/gitRepo/split_DNN_framework/characteristics/lib/regression.py:20: RankWarning: Polyfit may be poorly conditioned\n",
      "  m = np.polyfit(x,y,polynominal)\n",
      "/home/rex/gitRepo/split_DNN_framework/characteristics/lib/regression.py:20: RankWarning: Polyfit may be poorly conditioned\n",
      "  m = np.polyfit(x,y,polynominal)\n",
      "/home/rex/gitRepo/split_DNN_framework/characteristics/lib/regression.py:20: RankWarning: Polyfit may be poorly conditioned\n",
      "  m = np.polyfit(x,y,polynominal)\n",
      "/home/rex/gitRepo/split_DNN_framework/characteristics/lib/regression.py:20: RankWarning: Polyfit may be poorly conditioned\n",
      "  m = np.polyfit(x,y,polynominal)\n",
      "/home/rex/gitRepo/split_DNN_framework/characteristics/lib/regression.py:20: RankWarning: Polyfit may be poorly conditioned\n",
      "  m = np.polyfit(x,y,polynominal)\n"
     ]
    },
    {
     "name": "stdout",
     "output_type": "stream",
     "text": [
      "Rank: 15.750000, Sparsity: 0.890741, Picoriality: 0.610476, Regularity: 0.499738, Decomposability: -0.211538\n",
      "Doing JPEG compression\n",
      "Ratio: 4.506432, SNR: 22.843189, MSE: 0.000001\n",
      "Doing Decomposition compression\n",
      "Ratio: 0.825397, SNR: 135.762825, MSE: 0.000000\n",
      "Doing Regression compression\n",
      "Ratio: 16.628009, SNR: 10.009397, MSE: 0.000015\n",
      "Doing SketchML compression\n",
      "Ratio: 29.881033, SNR: 8.373327, MSE: 0.000022\n",
      "************* Testing tensor: 27***************\n"
     ]
    },
    {
     "name": "stderr",
     "output_type": "stream",
     "text": [
      "/home/rex/gitRepo/split_DNN_framework/characteristics/lib/regression.py:20: RankWarning: Polyfit may be poorly conditioned\n",
      "  m = np.polyfit(x,y,polynominal)\n",
      "/home/rex/gitRepo/split_DNN_framework/characteristics/lib/regression.py:20: RankWarning: Polyfit may be poorly conditioned\n",
      "  m = np.polyfit(x,y,polynominal)\n",
      "/home/rex/gitRepo/split_DNN_framework/characteristics/lib/regression.py:20: RankWarning: Polyfit may be poorly conditioned\n",
      "  m = np.polyfit(x,y,polynominal)\n"
     ]
    },
    {
     "name": "stdout",
     "output_type": "stream",
     "text": [
      "Rank: 14.476562, Sparsity: 0.900356, Picoriality: 0.604083, Regularity: 0.499424, Decomposability: -0.113582\n",
      "Doing JPEG compression\n",
      "Ratio: 4.745941, SNR: 20.473745, MSE: 0.000001\n",
      "Doing Decomposition compression\n",
      "Ratio: 0.898003, SNR: 135.981302, MSE: 0.000000\n",
      "Doing Regression compression\n",
      "Ratio: 16.628009, SNR: 9.654239, MSE: 0.000015\n",
      "Doing SketchML compression\n",
      "Ratio: 31.890906, SNR: 8.256130, MSE: 0.000020\n",
      "************* Testing tensor: 28***************\n"
     ]
    },
    {
     "name": "stderr",
     "output_type": "stream",
     "text": [
      "/home/rex/gitRepo/split_DNN_framework/characteristics/lib/regression.py:20: RankWarning: Polyfit may be poorly conditioned\n",
      "  m = np.polyfit(x,y,polynominal)\n",
      "/home/rex/gitRepo/split_DNN_framework/characteristics/lib/regression.py:20: RankWarning: Polyfit may be poorly conditioned\n",
      "  m = np.polyfit(x,y,polynominal)\n",
      "/home/rex/gitRepo/split_DNN_framework/characteristics/lib/regression.py:20: RankWarning: Polyfit may be poorly conditioned\n",
      "  m = np.polyfit(x,y,polynominal)\n"
     ]
    },
    {
     "name": "stdout",
     "output_type": "stream",
     "text": [
      "Rank: 12.757812, Sparsity: 0.923412, Picoriality: 0.547127, Regularity: 0.496281, Decomposability: 0.018630\n",
      "Doing JPEG compression\n",
      "Ratio: 5.076743, SNR: 20.051415, MSE: 0.000001\n",
      "Doing Decomposition compression\n",
      "Ratio: 1.018983, SNR: 136.423397, MSE: 0.000000\n",
      "Doing Regression compression\n",
      "Ratio: 16.773868, SNR: 9.723654, MSE: 0.000011\n",
      "Doing SketchML compression\n",
      "Ratio: 38.278257, SNR: 8.227320, MSE: 0.000015\n",
      "************* Testing tensor: 29***************\n"
     ]
    },
    {
     "name": "stderr",
     "output_type": "stream",
     "text": [
      "/home/rex/gitRepo/split_DNN_framework/characteristics/lib/regression.py:20: RankWarning: Polyfit may be poorly conditioned\n",
      "  m = np.polyfit(x,y,polynominal)\n",
      "/home/rex/gitRepo/split_DNN_framework/characteristics/lib/regression.py:20: RankWarning: Polyfit may be poorly conditioned\n",
      "  m = np.polyfit(x,y,polynominal)\n",
      "/home/rex/gitRepo/split_DNN_framework/characteristics/lib/regression.py:20: RankWarning: Polyfit may be poorly conditioned\n",
      "  m = np.polyfit(x,y,polynominal)\n"
     ]
    },
    {
     "name": "stdout",
     "output_type": "stream",
     "text": [
      "Rank: 13.085938, Sparsity: 0.930982, Picoriality: 0.517147, Regularity: 0.502415, Decomposability: -0.006611\n",
      "Doing JPEG compression\n",
      "Ratio: 5.002992, SNR: 20.655622, MSE: 0.000001\n",
      "Doing Decomposition compression\n",
      "Ratio: 0.993433, SNR: 136.082382, MSE: 0.000000\n",
      "Doing Regression compression\n",
      "Ratio: 16.628009, SNR: 9.811195, MSE: 0.000009\n",
      "Doing SketchML compression\n",
      "Ratio: 40.926097, SNR: 8.305568, MSE: 0.000013\n"
     ]
    },
    {
     "name": "stderr",
     "output_type": "stream",
     "text": [
      "/home/rex/gitRepo/split_DNN_framework/characteristics/lib/regression.py:20: RankWarning: Polyfit may be poorly conditioned\n",
      "  m = np.polyfit(x,y,polynominal)\n",
      "/home/rex/gitRepo/split_DNN_framework/characteristics/lib/regression.py:20: RankWarning: Polyfit may be poorly conditioned\n",
      "  m = np.polyfit(x,y,polynominal)\n",
      "/home/rex/gitRepo/split_DNN_framework/characteristics/lib/regression.py:20: RankWarning: Polyfit may be poorly conditioned\n",
      "  m = np.polyfit(x,y,polynominal)\n",
      "/home/rex/gitRepo/split_DNN_framework/characteristics/lib/regression.py:20: RankWarning: Polyfit may be poorly conditioned\n",
      "  m = np.polyfit(x,y,polynominal)\n"
     ]
    }
   ],
   "source": [
    "for i in range(30):\n",
    "    print(\"************* Testing tensor: \"+str(i)+\"***************\")\n",
    "    split_layer.append(layer)\n",
    "    tensor1 = torch.load(tensor_dir+test_tensors[i])\n",
    "    tensor2 = torch.load(tensor_dir+test_tensors[i+1])\n",
    "    tensor = tensor2 - tensor1\n",
    "    tensor = tensor * (abs(tensor)>0.02)\n",
    "    tensor = abs(tensor[0])\n",
    "\n",
    "\n",
    "     # tensor_rank.append(calculate_cp_rank(tensor.numpy(),max_rank=10,tol=1e-4))\n",
    "    tensor_rank.append(calculate_slice_avg_rank(tensor))\n",
    "    tensor_sparsity.append(calculate_sparsity(tensor.numpy()))\n",
    "    tensor_pictoriality.append(get_tensor_pictoriality(tensor))\n",
    "    tensor_regularity.append(get_tensor_regularity(tensor))\n",
    "    tensor_decomposability.append(get_tensor_decomposability(tensor))\n",
    "\n",
    "    print(\"Rank: %f, Sparsity: %f, Picoriality: %f, Regularity: %f, Decomposability: %f\" % (tensor_rank[-1],tensor_sparsity[-1],tensor_pictoriality[-1],tensor_regularity[-1],tensor_decomposability[-1]))\n",
    "\n",
    "    ## Jpeg compression\n",
    "    try:\n",
    "        print(\"Doing JPEG compression\")\n",
    "        normalize_base, scale,zero_point, encoded_data, compressed_size_jpeg = compressor_jpeg_gray(tensor, 100)\n",
    "        reconstructed_tensor_jpeg = decompressor_jpeg_gray(tensor.shape,normalize_base, scale,zero_point, encoded_data )\n",
    "        ratio_jpeg = tensor.numel()*4/compressed_size_jpeg\n",
    "        snr_jpeg = calculate_snr(tensor.size(),tensor.numpy(), reconstructed_tensor_jpeg.numpy())\n",
    "        mse_jpeg = calculate_mse(tensor.numpy(), reconstructed_tensor_jpeg.numpy())\n",
    "        jpeg_ratio.append(ratio_jpeg)\n",
    "        jpeg_snr.append(snr_jpeg)\n",
    "        jpeg_mse.append(mse_jpeg)\n",
    "        print(\"Ratio: %f, SNR: %f, MSE: %f\" % (ratio_jpeg,snr_jpeg,mse_jpeg))\n",
    "    except:\n",
    "        jpeg_ratio.append(-1)\n",
    "        jpeg_snr.append(-1)\n",
    "        jpeg_mse.append(-1)\n",
    "\n",
    "    try:\n",
    "        print(\"Doing Decomposition compression\")\n",
    "        factors, compressed_size_decomposition = compressor_decomposition_slice(tensor)\n",
    "        reconstructed_tensor_decomposition = decompressor_decomposition_slice(tensor.shape,factors)\n",
    "        snr_decomposition = calculate_snr(tensor.size(),tensor.numpy(), reconstructed_tensor_decomposition.numpy())\n",
    "        mse_decomposition = calculate_mse(tensor.numpy(), reconstructed_tensor_decomposition.numpy())\n",
    "        ratio_decomposition= tensor.numel()*4/compressed_size_decomposition\n",
    "        decomposition_ratio.append(ratio_decomposition)\n",
    "        decomposition_snr.append(snr_decomposition)\n",
    "        decomposition_mse.append(mse_decomposition)\n",
    "        print(\"Ratio: %f, SNR: %f, MSE: %f\" % (ratio_decomposition,snr_decomposition,mse_decomposition))\n",
    "    except:\n",
    "        decomposition_ratio.append(-1)\n",
    "        decomposition_snr.append(-1)\n",
    "        decomposition_mse.append(-1)\n",
    "\n",
    "    try:\n",
    "        print(\"Doing Regression compression\")\n",
    "        factors, x_pos, x_neg, compressed_size_regression = compressor_regression(tensor, 3)\n",
    "        reconstructed_tensor_regression = decompressor_regression(tensor.shape, factors, x_pos,x_neg )\n",
    "        snr_regression = calculate_snr(tensor.size(),tensor.numpy(), reconstructed_tensor_regression.numpy())\n",
    "        mse_regression = calculate_mse(tensor.numpy(), reconstructed_tensor_regression.numpy())\n",
    "        ratio_regression = tensor.numel()*4 / compressed_size_regression\n",
    "        regression_ratio.append(ratio_regression)\n",
    "        regression_snr.append(snr_regression)\n",
    "        regression_mse.append(mse_regression)\n",
    "        print(\"Ratio: %f, SNR: %f, MSE: %f\" % (ratio_regression,snr_regression,mse_regression))\n",
    "    except:\n",
    "        regression_ratio.append(-1)\n",
    "        regression_snr.append(-1)\n",
    "        regression_mse.append(-1)\n",
    "\n",
    "    try:\n",
    "        print(\"Doing SketchML compression\")\n",
    "        minmaxsketch,bucket_means, keys, compressed_size_sketchml = compressor_sketchml(tensor,256,0.3,3)\n",
    "        reconstructed_tensor_sketchml = decompressor_sketchml(tensor.shape, minmaxsketch,bucket_means, keys)\n",
    "        snr_sketchml = calculate_snr(tensor.size(),tensor.numpy(), reconstructed_tensor_sketchml.numpy())\n",
    "        mse_sketchml = calculate_mse(tensor.numpy(), reconstructed_tensor_sketchml.numpy())\n",
    "        ratio_sketchml = tensor.numel() *4 / compressed_size_sketchml\n",
    "        sketchml_ratio.append(ratio_sketchml)\n",
    "        sketchml_snr.append(snr_sketchml)\n",
    "        sketchml_mse.append(mse_sketchml)\n",
    "        print(\"Ratio: %f, SNR: %f, MSE: %f\" % (ratio_sketchml,snr_sketchml,mse_sketchml))\n",
    "    except:\n",
    "        sketchml_ratio.append(-1)\n",
    "        sketchml_snr.append(-1)\n",
    "        sketchml_mse.append(-1)\n"
   ]
  },
  {
   "cell_type": "code",
   "execution_count": 6,
   "metadata": {},
   "outputs": [],
   "source": [
    "dict = {'split_layer':split_layer,\n",
    "        'rank': tensor_rank, \n",
    "        'sparsity': tensor_sparsity, \n",
    "        'regularity': tensor_regularity,\n",
    "        'pictoriality': tensor_pictoriality,\n",
    "        'jpeg_ratio':jpeg_ratio,\n",
    "        'jpeg_snr':jpeg_snr,\n",
    "        'jpeg_mse':jpeg_mse,\n",
    "        'decomposition_ratio':decomposition_ratio,\n",
    "        'decomposition_snr':decomposition_snr,\n",
    "        'decomposition_mse':decomposition_mse,\n",
    "        'regression_ratio':regression_ratio,\n",
    "        'regression_snr':regression_snr,\n",
    "        'regression_mse':regression_mse,\n",
    "        'sketchml_ratio':sketchml_ratio,\n",
    "        'sketchml_snr':sketchml_snr,\n",
    "        'sketchml_mse':sketchml_mse\n",
    "        } \n",
    "   \n",
    "df = pd.DataFrame(dict)"
   ]
  },
  {
   "cell_type": "code",
   "execution_count": 7,
   "metadata": {},
   "outputs": [],
   "source": [
    "df.to_csv(output_dir+\"layer\"+str(layer)+\"_diff.csv\",index=False, header=True)"
   ]
  }
 ],
 "metadata": {
  "kernelspec": {
   "display_name": "pytorch",
   "language": "python",
   "name": "python3"
  },
  "language_info": {
   "codemirror_mode": {
    "name": "ipython",
    "version": 3
   },
   "file_extension": ".py",
   "mimetype": "text/x-python",
   "name": "python",
   "nbconvert_exporter": "python",
   "pygments_lexer": "ipython3",
   "version": "3.10.0"
  }
 },
 "nbformat": 4,
 "nbformat_minor": 2
}
