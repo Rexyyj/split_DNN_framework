{
 "cells": [
  {
   "cell_type": "code",
   "execution_count": 1,
   "metadata": {},
   "outputs": [],
   "source": [
    "import torch\n",
    "import matplotlib.pyplot as plt\n",
    "import torch_dct as dct\n",
    "from lib.tools import *\n",
    "from lib.decomposition import *\n",
    "from lib.jpeg import *\n",
    "from lib.sketchml import *\n",
    "from lib.regression import *\n",
    "import os\n",
    "import pandas as pd"
   ]
  },
  {
   "cell_type": "code",
   "execution_count": 2,
   "metadata": {},
   "outputs": [],
   "source": [
    "def get_measurements(tensor):\n",
    "    # tensor_rank.append(calculate_cp_rank(tensor.numpy(),max_rank=10,tol=1e-4))\n",
    "    tensor_rank= calculate_slice_avg_rank(tensor)\n",
    "    tensor_sparsity=calculate_sparsity(tensor.numpy())\n",
    "    tensor_pictoriality=get_tensor_pictoriality(tensor)\n",
    "    tensor_regularity=get_tensor_regularity(tensor)\n",
    "    tensor_decomposability= (tensor_rank*tensor.shape[1]+tensor_rank*tensor.shape[2])*tensor.shape[0]\n",
    "    # print(\"Rank: %f, Sparsity: %f, Picoriality: %f, Regularity: %f, Decomposability: %f\" % (tensor_rank,tensor_sparsity*1.5,1-tensor_pictoriality/(tensor.numel()),1-tensor_regularity/(tensor.numel()),1-tensor_decomposability/(tensor.numel()*4)))\n",
    "    print(\"Rank: %f, Sparsity: %f, Picoriality: %f, Regularity: %f, Decomposability: %f\" % (tensor_rank,tensor_sparsity,1-tensor_pictoriality,1-tensor_regularity,1-tensor_decomposability/(tensor.numel()*4)))\n",
    "    print(\"Rank: %f, Sparsity: %f, Picoriality: %f, Regularity: %f, Decomposability: %f\" % (tensor_rank,tensor_sparsity,tensor_pictoriality,tensor_regularity,tensor_decomposability))\n",
    "\n",
    "    ## Jpeg compression\n",
    "    print(\"Doing JPEG compression\")\n",
    "    normalize_base, scale,zero_point, encoded_data, compressed_size_jpeg = compressor_jpeg_gray(tensor, 100)\n",
    "    reconstructed_tensor_jpeg = decompressor_jpeg_gray(tensor.shape,normalize_base, scale,zero_point, encoded_data )\n",
    "    ratio_jpeg = tensor.numel()*4/compressed_size_jpeg\n",
    "    snr_jpeg = calculate_snr(tensor.size(),tensor.numpy(), reconstructed_tensor_jpeg.numpy())\n",
    "    mse_jpeg = calculate_mse(tensor.numpy(), reconstructed_tensor_jpeg.numpy())\n",
    "    print(\"Ratio: %f, SNR: %f, MSE: %f\" % (ratio_jpeg,snr_jpeg,mse_jpeg))\n",
    "\n",
    "    print(\"Doing Decomposition compression\")\n",
    "    # factors, compressed_size_decomposition = compressor_decomposition(tensor, tensor_rank[-1])\n",
    "    # reconstructed_tensor_decomposition = decompressor_decomposition(factors)\n",
    "    factors, compressed_size_decomposition = compressor_decomposition_slice(tensor)\n",
    "    reconstructed_tensor_decomposition = decompressor_decomposition_slice(tensor.shape,factors)\n",
    "    snr_decomposition = calculate_snr(tensor.size(),tensor.numpy(), reconstructed_tensor_decomposition.numpy())\n",
    "    mse_decomposition = calculate_mse(tensor.numpy(), reconstructed_tensor_decomposition.numpy())\n",
    "    ratio_decomposition= tensor.numel()*4/compressed_size_decomposition\n",
    "    print(\"Ratio: %f, SNR: %f, MSE: %f\" % (ratio_decomposition,snr_decomposition,mse_decomposition))\n",
    "\n",
    "    print(\"Doing Regression compression\")\n",
    "    factors, x_pos, x_neg, compressed_size_regression = compressor_regression(tensor, 3)\n",
    "    reconstructed_tensor_regression = decompressor_regression(tensor.shape, factors, x_pos,x_neg )\n",
    "    snr_regression = calculate_snr(tensor.size(),tensor.numpy(), reconstructed_tensor_regression.numpy())\n",
    "    mse_regression = calculate_mse(tensor.numpy(), reconstructed_tensor_regression.numpy())\n",
    "    ratio_regression = tensor.numel()*4 / compressed_size_regression\n",
    "    print(\"Ratio: %f, SNR: %f, MSE: %f\" % (ratio_regression,snr_regression,mse_regression))\n",
    "\n",
    "    print(\"Doing SketchML compression\")\n",
    "    minmaxsketch,bucket_means, keys, compressed_size_sketchml = compressor_sketchml(tensor,256,0.3,3)\n",
    "    reconstructed_tensor_sketchml = decompressor_sketchml(tensor.shape, minmaxsketch,bucket_means, keys)\n",
    "    snr_sketchml = calculate_snr(tensor.size(),tensor.numpy(), reconstructed_tensor_sketchml.numpy())\n",
    "    mse_sketchml = calculate_mse(tensor.numpy(), reconstructed_tensor_sketchml.numpy())\n",
    "    ratio_sketchml = tensor.numel() *4 / compressed_size_sketchml\n",
    "    print(\"Ratio: %f, SNR: %f, MSE: %f\" % (ratio_sketchml,snr_sketchml,mse_sketchml))\n"
   ]
  },
  {
   "cell_type": "markdown",
   "metadata": {},
   "source": [
    "## Low Rank"
   ]
  },
  {
   "cell_type": "code",
   "execution_count": 3,
   "metadata": {},
   "outputs": [],
   "source": [
    "tensor_shape = (3,128,128)\n",
    "tensor_size  = 128*128*3\n",
    "rank = 3\n",
    "\n",
    "tensor = torch.zeros(tensor_shape)\n",
    "for i in range(tensor_shape[0]):\n",
    "    factor_1 = torch.randn(tensor_shape[1], rank)\n",
    "    factor_2 = torch.randn(tensor_shape[2], rank)\n",
    "    tensor_slice = torch.einsum('ir,jr->ij', factor_1, factor_2)\n",
    "    tensor[i] = tensor_slice"
   ]
  },
  {
   "cell_type": "code",
   "execution_count": 4,
   "metadata": {},
   "outputs": [
    {
     "name": "stdout",
     "output_type": "stream",
     "text": [
      "Rank: 3.000000, Sparsity: 0.000000, Picoriality: 0.223217, Regularity: 0.201051, Decomposability: 0.988281\n",
      "Rank: 3.000000, Sparsity: 0.000000, Picoriality: 0.776783, Regularity: 0.798949, Decomposability: 2304.000000\n",
      "Doing JPEG compression\n",
      "Ratio: 1.608311, SNR: 33.679330, MSE: 0.001185\n",
      "Doing Decomposition compression\n",
      "Ratio: 21.333333, SNR: 130.482101, MSE: 0.000000\n",
      "Doing Regression compression\n",
      "Ratio: 15.953262, SNR: 3.523766, MSE: 1.228688\n",
      "Doing SketchML compression\n",
      "Ratio: 4.152842, SNR: 1.675286, MSE: 1.880571\n"
     ]
    }
   ],
   "source": [
    "get_measurements(tensor)"
   ]
  },
  {
   "cell_type": "markdown",
   "metadata": {},
   "source": [
    "## Image-like"
   ]
  },
  {
   "cell_type": "code",
   "execution_count": 5,
   "metadata": {},
   "outputs": [],
   "source": [
    "# import cv2\n",
    "# import torchvision.transforms as transforms\n",
    "# image = cv2.imread(\"./dataset/jpeg/jpeg444.jpg\")\n",
    "# image = cv2.resize(image,(128,128),interpolation = cv2.INTER_AREA)\n",
    "# tensor = torch.from_numpy(image)\n",
    "# # value_mask = abs(tensor)>20\n",
    "# # tensor = tensor* value_mask\n",
    "# tensor = tensor.to(torch.float32)/256\n",
    "tensor = torch.load(\"./test_tensors/layer2/tensor_l2_34.pt\")\n",
    "tensor= tensor[0]"
   ]
  },
  {
   "cell_type": "code",
   "execution_count": 6,
   "metadata": {},
   "outputs": [
    {
     "name": "stdout",
     "output_type": "stream",
     "text": [
      "Rank: 195.000000, Sparsity: 0.000000, Picoriality: 0.956638, Regularity: 0.360957, Decomposability: 0.531250\n",
      "Rank: 195.000000, Sparsity: 0.000000, Picoriality: 0.043362, Regularity: 0.639043, Decomposability: 1297920.000000\n",
      "Doing JPEG compression\n",
      "Ratio: 7.365731, SNR: 27.789540, MSE: 0.002746\n",
      "Doing Decomposition compression\n",
      "Ratio: 0.533333, SNR: 87.082148, MSE: 0.000000\n",
      "Doing Regression compression\n",
      "Ratio: 15.982268, SNR: 8.253826, MSE: 0.246802\n",
      "Doing SketchML compression\n",
      "Ratio: 4.417941, SNR: 1.048017, MSE: 1.296969\n"
     ]
    }
   ],
   "source": [
    "get_measurements(tensor)"
   ]
  },
  {
   "cell_type": "markdown",
   "metadata": {},
   "source": [
    "## Regular distributed"
   ]
  },
  {
   "cell_type": "code",
   "execution_count": 7,
   "metadata": {},
   "outputs": [],
   "source": [
    "import random\n",
    "random.seed(5)\n",
    "tensor = torch.zeros([128,128*3])\n",
    "\n",
    "for i in range(128):\n",
    "    a = random.random()\n",
    "    b = random.random()*2\n",
    "    c = random.random()\n",
    "    for j in range(128*3):\n",
    "        index = j /(128*3)\n",
    "        if random.random()>0.7:\n",
    "            tensor[i][j] = a*index -b*index*index+c*index*index*index+ random.random()/10\n",
    "tensor = tensor.reshape([128,128,3])"
   ]
  },
  {
   "cell_type": "code",
   "execution_count": 8,
   "metadata": {},
   "outputs": [
    {
     "name": "stdout",
     "output_type": "stream",
     "text": [
      "Rank: 3.000000, Sparsity: 0.699951, Picoriality: 0.547976, Regularity: 0.660734, Decomposability: 0.744141\n",
      "Rank: 3.000000, Sparsity: 0.699951, Picoriality: 0.452024, Regularity: 0.339266, Decomposability: 50304.000000\n",
      "Doing JPEG compression\n",
      "Ratio: 4.988911, SNR: 32.047489, MSE: 0.000022\n",
      "Doing Decomposition compression\n",
      "Ratio: 0.977099, SNR: 138.920984, MSE: 0.000000\n",
      "Doing Regression compression\n",
      "Ratio: 14.222222, SNR: 20.952475, MSE: 0.000278\n",
      "Doing SketchML compression\n",
      "Ratio: 12.011730, SNR: 3.230087, MSE: 0.016462\n"
     ]
    },
    {
     "name": "stderr",
     "output_type": "stream",
     "text": [
      "/home/rex/gitRepo/split_DNN_framework/characteristics/lib/sketchml.py:185: RuntimeWarning: Mean of empty slice.\n",
      "  bucket_means[k] = values[bucket_mask].mean()\n",
      "/home/rex/archiconda3/envs/pytorch/lib/python3.10/site-packages/numpy/core/_methods.py:129: RuntimeWarning: invalid value encountered in divide\n",
      "  ret = ret.dtype.type(ret / rcount)\n"
     ]
    }
   ],
   "source": [
    "get_measurements(tensor)"
   ]
  },
  {
   "cell_type": "markdown",
   "metadata": {},
   "source": [
    "## Random tensor"
   ]
  },
  {
   "cell_type": "code",
   "execution_count": 9,
   "metadata": {},
   "outputs": [],
   "source": [
    "import random\n",
    "random.seed(5)\n",
    "tensor = torch.zeros([128,128*3])\n",
    "for i in range(128):\n",
    "    for j in range(128*3):\n",
    "        if random.random()>0.8:\n",
    "            tensor[i][j] = random.gauss(1, 0.3)\n",
    "tensor = tensor.reshape([128,128,3])"
   ]
  },
  {
   "cell_type": "code",
   "execution_count": 10,
   "metadata": {},
   "outputs": [
    {
     "name": "stdout",
     "output_type": "stream",
     "text": [
      "Rank: 3.000000, Sparsity: 0.799744, Picoriality: 0.327023, Regularity: 0.732797, Decomposability: 0.744141\n",
      "Rank: 3.000000, Sparsity: 0.799744, Picoriality: 0.672977, Regularity: 0.267203, Decomposability: 50304.000000\n",
      "Doing JPEG compression\n",
      "Ratio: 2.959538, SNR: 18.256607, MSE: 0.003253\n",
      "Doing Decomposition compression\n",
      "Ratio: 0.977099, SNR: 136.591005, MSE: 0.000000\n",
      "Doing Regression compression\n",
      "Ratio: 14.222222, SNR: 11.030800, MSE: 0.017175\n",
      "Doing SketchML compression\n",
      "Ratio: 16.451176, SNR: 12.256204, MSE: 0.012952\n"
     ]
    }
   ],
   "source": [
    "get_measurements(tensor)"
   ]
  },
  {
   "cell_type": "code",
   "execution_count": null,
   "metadata": {},
   "outputs": [],
   "source": []
  },
  {
   "cell_type": "code",
   "execution_count": 11,
   "metadata": {},
   "outputs": [],
   "source": [
    "test_tensor = torch.load(\"./test_tensors/layer8/tensor_l8_0.pt\")"
   ]
  },
  {
   "cell_type": "code",
   "execution_count": 12,
   "metadata": {},
   "outputs": [
    {
     "data": {
      "text/plain": [
       "tensor(0.0544)"
      ]
     },
     "execution_count": 12,
     "metadata": {},
     "output_type": "execute_result"
    }
   ],
   "source": [
    "get_tensor_entropy(test_tensor)/ tensor.numel()"
   ]
  }
 ],
 "metadata": {
  "kernelspec": {
   "display_name": "pytorch",
   "language": "python",
   "name": "python3"
  },
  "language_info": {
   "codemirror_mode": {
    "name": "ipython",
    "version": 3
   },
   "file_extension": ".py",
   "mimetype": "text/x-python",
   "name": "python",
   "nbconvert_exporter": "python",
   "pygments_lexer": "ipython3",
   "version": "3.10.0"
  }
 },
 "nbformat": 4,
 "nbformat_minor": 2
}
