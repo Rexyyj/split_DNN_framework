{
 "cells": [
  {
   "cell_type": "code",
   "execution_count": 1,
   "metadata": {},
   "outputs": [],
   "source": [
    "import torch\n",
    "import matplotlib.pyplot as plt\n",
    "import torch_dct as dct\n",
    "from lib.tools import *\n",
    "from lib.decomposition import *\n",
    "from lib.jpeg import *\n",
    "from lib.sketchml import *\n",
    "from lib.regression import *\n",
    "import os\n",
    "import pandas as pd"
   ]
  },
  {
   "cell_type": "code",
   "execution_count": 2,
   "metadata": {},
   "outputs": [],
   "source": [
    "def get_measurements(tensor):\n",
    "    # tensor_rank.append(calculate_cp_rank(tensor.numpy(),max_rank=10,tol=1e-4))\n",
    "    tensor_rank= calculate_slice_avg_rank(tensor)\n",
    "    tensor_sparsity=calculate_sparsity(tensor.numpy())\n",
    "    tensor_pictoriality=get_tensor_pictoriality(tensor)\n",
    "    tensor_regularity=get_tensor_regularity(tensor)\n",
    "    tensor_decomposability= get_tensor_decomposability(tensor)\n",
    "    # print(\"Rank: %f, Sparsity: %f, Picoriality: %f, Regularity: %f, Decomposability: %f\" % (tensor_rank,tensor_sparsity*1.5,1-tensor_pictoriality/(tensor.numel()),1-tensor_regularity/(tensor.numel()),1-tensor_decomposability/(tensor.numel()*4)))\n",
    "    print(\"Rank: %f, Sparsity: %f, Picoriality: %f, Regularity: %f, Decomposability: %f\" % (tensor_rank,tensor_sparsity,tensor_pictoriality,tensor_regularity,tensor_decomposability))\n",
    "    # print(\"Rank: %f, Sparsity: %f, Picoriality: %f, Regularity: %f, Decomposability: %f\" % (tensor_rank,tensor_sparsity,tensor_pictoriality,tensor_regularity,tensor_decomposability))\n",
    "\n",
    "    ## Jpeg compression\n",
    "    print(\"Doing JPEG compression\")\n",
    "    normalize_base, scale,zero_point, encoded_data, compressed_size_jpeg = compressor_jpeg_gray(tensor, 100)\n",
    "    reconstructed_tensor_jpeg = decompressor_jpeg_gray(tensor.shape,normalize_base, scale,zero_point, encoded_data )\n",
    "    ratio_jpeg = tensor.numel()*4/compressed_size_jpeg\n",
    "    snr_jpeg = calculate_snr(tensor.size(),tensor.numpy(), reconstructed_tensor_jpeg.numpy())\n",
    "    mse_jpeg = calculate_mse(tensor.numpy(), reconstructed_tensor_jpeg.numpy())\n",
    "    print(\"Ratio: %f, SNR: %f, MSE: %f\" % (ratio_jpeg,snr_jpeg,mse_jpeg))\n",
    "\n",
    "    print(\"Doing Decomposition compression\")\n",
    "    # factors, compressed_size_decomposition = compressor_decomposition(tensor, tensor_rank[-1])\n",
    "    # reconstructed_tensor_decomposition = decompressor_decomposition(factors)\n",
    "    factors, compressed_size_decomposition = compressor_decomposition_slice(tensor)\n",
    "    reconstructed_tensor_decomposition = decompressor_decomposition_slice(tensor.shape,factors)\n",
    "    snr_decomposition = calculate_snr(tensor.size(),tensor.numpy(), reconstructed_tensor_decomposition.numpy())\n",
    "    mse_decomposition = calculate_mse(tensor.numpy(), reconstructed_tensor_decomposition.numpy())\n",
    "    ratio_decomposition= tensor.numel()*4/compressed_size_decomposition\n",
    "    print(\"Ratio: %f, SNR: %f, MSE: %f\" % (ratio_decomposition,snr_decomposition,mse_decomposition))\n",
    "\n",
    "    print(\"Doing Regression compression\")\n",
    "    factors, x_pos, x_neg, compressed_size_regression = compressor_regression(tensor, 3)\n",
    "    reconstructed_tensor_regression = decompressor_regression(tensor.shape, factors, x_pos,x_neg )\n",
    "    snr_regression = calculate_snr(tensor.size(),tensor.numpy(), reconstructed_tensor_regression.numpy())\n",
    "    mse_regression = calculate_mse(tensor.numpy(), reconstructed_tensor_regression.numpy())\n",
    "    ratio_regression = tensor.numel()*4 / compressed_size_regression\n",
    "    print(\"Ratio: %f, SNR: %f, MSE: %f\" % (ratio_regression,snr_regression,mse_regression))\n",
    "\n",
    "    print(\"Doing SketchML compression\")\n",
    "    minmaxsketch,bucket_means, keys, compressed_size_sketchml = compressor_sketchml(tensor,256,0.3,3)\n",
    "    reconstructed_tensor_sketchml = decompressor_sketchml(tensor.shape, minmaxsketch,bucket_means, keys)\n",
    "    snr_sketchml = calculate_snr(tensor.size(),tensor.numpy(), reconstructed_tensor_sketchml.numpy())\n",
    "    mse_sketchml = calculate_mse(tensor.numpy(), reconstructed_tensor_sketchml.numpy())\n",
    "    ratio_sketchml = tensor.numel() *4 / compressed_size_sketchml\n",
    "    print(\"Ratio: %f, SNR: %f, MSE: %f\" % (ratio_sketchml,snr_sketchml,mse_sketchml))\n"
   ]
  },
  {
   "cell_type": "markdown",
   "metadata": {},
   "source": [
    "## Low Rank"
   ]
  },
  {
   "cell_type": "code",
   "execution_count": 3,
   "metadata": {},
   "outputs": [],
   "source": [
    "tensor_shape = (3,128,128)\n",
    "tensor_size  = 128*128*3\n",
    "rank = 3\n",
    "\n",
    "tensor = torch.zeros(tensor_shape)\n",
    "for i in range(tensor_shape[0]):\n",
    "    factor_1 = torch.randn(tensor_shape[1], rank)\n",
    "    factor_2 = torch.randn(tensor_shape[2], rank)\n",
    "    tensor_slice = torch.einsum('ir,jr->ij', factor_1, factor_2)\n",
    "    tensor[i] = tensor_slice"
   ]
  },
  {
   "cell_type": "code",
   "execution_count": 4,
   "metadata": {},
   "outputs": [
    {
     "name": "stdout",
     "output_type": "stream",
     "text": [
      "Rank: 3.000000, Sparsity: 0.000000, Picoriality: 0.184372, Regularity: 0.157485, Decomposability: 0.953125\n",
      "Doing JPEG compression\n",
      "Ratio: 1.668616, SNR: 32.919881, MSE: 0.001653\n",
      "Doing Decomposition compression\n",
      "Ratio: 21.333333, SNR: 131.031761, MSE: 0.000000\n",
      "Doing Regression compression\n",
      "Ratio: 15.953262, SNR: 3.472039, MSE: 1.455232\n",
      "Doing SketchML compression\n",
      "Ratio: 4.150563, SNR: 1.744457, MSE: 2.166159\n"
     ]
    }
   ],
   "source": [
    "get_measurements(tensor)"
   ]
  },
  {
   "cell_type": "markdown",
   "metadata": {},
   "source": [
    "## Image-like"
   ]
  },
  {
   "cell_type": "code",
   "execution_count": 5,
   "metadata": {},
   "outputs": [],
   "source": [
    "import cv2\n",
    "import torchvision.transforms as transforms\n",
    "image = cv2.imread(\"./dataset/jpeg/jpeg422jfif.jpg\")\n",
    "image = cv2.resize(image,(128,128),interpolation = cv2.INTER_AREA)\n",
    "tensor = torch.from_numpy(image)\n",
    "value_mask = abs(tensor)>10\n",
    "tensor = tensor* value_mask\n",
    "tensor = tensor.to(torch.float32)/256\n",
    "# tensor = torch.load(\"./test_tensors/layer2/tensor_l2_34.pt\")\n",
    "# tensor= tensor[0]"
   ]
  },
  {
   "cell_type": "code",
   "execution_count": 6,
   "metadata": {},
   "outputs": [],
   "source": [
    "dct_tensor = dct.dct_2d(tensor.reshape(tensor.shape[0], tensor.shape[1]*tensor.shape[2]))"
   ]
  },
  {
   "cell_type": "code",
   "execution_count": 7,
   "metadata": {},
   "outputs": [
    {
     "name": "stdout",
     "output_type": "stream",
     "text": [
      "Rank: 3.000000, Sparsity: 0.014567, Picoriality: 0.665067, Regularity: 0.619908, Decomposability: -0.023438\n",
      "Doing JPEG compression\n",
      "Ratio: 5.130421, SNR: 13.042058, MSE: 0.006970\n",
      "Doing Decomposition compression\n",
      "Ratio: 0.977099, SNR: 132.847872, MSE: 0.000000\n",
      "Doing Regression compression\n",
      "Ratio: 14.222222, SNR: 8.516518, MSE: 0.019761\n",
      "Doing SketchML compression\n",
      "Ratio: 4.213179, SNR: nan, MSE: nan\n"
     ]
    },
    {
     "name": "stderr",
     "output_type": "stream",
     "text": [
      "/home/rex/gitRepo/split_DNN_framework/characteristics/lib/sketchml.py:185: RuntimeWarning: Mean of empty slice.\n",
      "  bucket_means[k] = values[bucket_mask].mean()\n",
      "/home/rex/archiconda3/envs/pytorch/lib/python3.10/site-packages/numpy/core/_methods.py:129: RuntimeWarning: invalid value encountered in divide\n",
      "  ret = ret.dtype.type(ret / rcount)\n"
     ]
    }
   ],
   "source": [
    "get_measurements(tensor)"
   ]
  },
  {
   "cell_type": "markdown",
   "metadata": {},
   "source": [
    "## Regular distributed"
   ]
  },
  {
   "cell_type": "code",
   "execution_count": 8,
   "metadata": {},
   "outputs": [],
   "source": [
    "import random\n",
    "random.seed(5)\n",
    "tensor = torch.zeros([128,128*3])\n",
    "\n",
    "for i in range(128):\n",
    "    a = random.random()\n",
    "    b = random.random()*2\n",
    "    c = random.random()\n",
    "    for j in range(128*3):\n",
    "        index = j /(128*3)\n",
    "        if random.random()>0.5:\n",
    "            tensor[i][j] = a*index -b*index*index+c*index*index*index+ random.random()/10\n",
    "            # tensor[i][j] = a*index + random.random()/10\n",
    "tensor = tensor.reshape([128,128,3])"
   ]
  },
  {
   "cell_type": "code",
   "execution_count": 9,
   "metadata": {},
   "outputs": [
    {
     "name": "stdout",
     "output_type": "stream",
     "text": [
      "Rank: 3.000000, Sparsity: 0.503194, Picoriality: 0.393564, Regularity: 0.646187, Decomposability: -0.023438\n",
      "Doing JPEG compression\n",
      "Ratio: 4.773545, SNR: 34.063463, MSE: 0.000024\n",
      "Doing Decomposition compression\n",
      "Ratio: 0.977099, SNR: 137.717218, MSE: 0.000000\n",
      "Doing Regression compression\n",
      "Ratio: 14.222222, SNR: 21.112418, MSE: 0.000479\n",
      "Doing SketchML compression\n",
      "Ratio: 7.840172, SNR: 2.529085, MSE: 0.034539\n"
     ]
    }
   ],
   "source": [
    "get_measurements(tensor)"
   ]
  },
  {
   "cell_type": "markdown",
   "metadata": {},
   "source": [
    "## Random tensor"
   ]
  },
  {
   "cell_type": "code",
   "execution_count": 10,
   "metadata": {},
   "outputs": [],
   "source": [
    "import random\n",
    "random.seed(5)\n",
    "tensor = torch.zeros([128,128*3])\n",
    "for i in range(128):\n",
    "    for j in range(128*3):\n",
    "        if random.random()>0.7:\n",
    "            tensor[i][j] = random.gauss(1, 0.3)\n",
    "tensor = tensor.reshape([128,128,3])"
   ]
  },
  {
   "cell_type": "code",
   "execution_count": 11,
   "metadata": {},
   "outputs": [
    {
     "name": "stdout",
     "output_type": "stream",
     "text": [
      "Rank: 3.000000, Sparsity: 0.701274, Picoriality: 0.333151, Regularity: 0.478078, Decomposability: -0.023438\n",
      "Doing JPEG compression\n",
      "Ratio: 2.823327, SNR: 17.425761, MSE: 0.005877\n",
      "Doing Decomposition compression\n",
      "Ratio: 0.977099, SNR: 136.207123, MSE: 0.000000\n",
      "Doing Regression compression\n",
      "Ratio: 14.222222, SNR: 10.919476, MSE: 0.026290\n",
      "Doing SketchML compression\n",
      "Ratio: 12.033786, SNR: 12.059802, MSE: 0.020219\n"
     ]
    }
   ],
   "source": [
    "get_measurements(tensor)"
   ]
  },
  {
   "cell_type": "code",
   "execution_count": null,
   "metadata": {},
   "outputs": [],
   "source": []
  }
 ],
 "metadata": {
  "kernelspec": {
   "display_name": "pytorch",
   "language": "python",
   "name": "python3"
  },
  "language_info": {
   "codemirror_mode": {
    "name": "ipython",
    "version": 3
   },
   "file_extension": ".py",
   "mimetype": "text/x-python",
   "name": "python",
   "nbconvert_exporter": "python",
   "pygments_lexer": "ipython3",
   "version": "3.10.0"
  }
 },
 "nbformat": 4,
 "nbformat_minor": 2
}
