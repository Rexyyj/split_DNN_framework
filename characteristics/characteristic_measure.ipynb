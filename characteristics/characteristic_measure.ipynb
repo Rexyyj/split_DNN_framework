{
 "cells": [
  {
   "cell_type": "code",
   "execution_count": 10,
   "metadata": {},
   "outputs": [],
   "source": [
    "import torch\n",
    "import matplotlib.pyplot as plt\n",
    "import torch_dct as dct\n",
    "from lib.tools import *\n",
    "from lib.decomposition import *\n",
    "from lib.jpeg import *\n",
    "from lib.sketchml import *\n",
    "from lib.regression import *\n",
    "import os\n",
    "import pandas as pd"
   ]
  },
  {
   "cell_type": "code",
   "execution_count": 2,
   "metadata": {},
   "outputs": [],
   "source": [
    "# tensor_dir = \"../experiments_football/tensors/\"\n",
    "tensor_dir = \"./test_tensors/\"\n",
    "output_dir = \"./measurements/\"\n",
    "layer = 2\n",
    "\n",
    "test_tensors = os.listdir(tensor_dir)"
   ]
  },
  {
   "cell_type": "code",
   "execution_count": 3,
   "metadata": {},
   "outputs": [],
   "source": [
    "## Measurements\n",
    "split_layer = []\n",
    "\n",
    "tensor_rank=[]\n",
    "tensor_sparsity=[]\n",
    "tensor_regularity=[]\n",
    "tensor_pictoriality=[]\n",
    "\n",
    "jpeg_ratio=[]\n",
    "jpeg_snr=[]\n",
    "jpeg_mse=[]\n",
    "decomposition_ratio=[]\n",
    "decomposition_snr=[]\n",
    "decomposition_mse=[]\n",
    "regression_ratio=[]\n",
    "regression_snr=[]\n",
    "regression_mse=[]\n",
    "sketchml_ratio=[]\n",
    "sketchml_snr=[]\n",
    "sketchml_mse=[]"
   ]
  },
  {
   "cell_type": "code",
   "execution_count": null,
   "metadata": {},
   "outputs": [],
   "source": [
    "for tensor_name in test_tensors:\n",
    "    print(\"************* Testing tensor: \"+tensor_name+\"***************\")\n",
    "    split_layer.append(layer)\n",
    "    tensor = torch.load(tensor_dir+tensor_name)\n",
    "    tensor = tensor[0]\n",
    "\n",
    "    tensor_rank.append(calculate_cp_rank(tensor.numpy(),max_rank=10))\n",
    "    tensor_sparsity.append(calculate_sparsity(tensor.numpy()))\n",
    "    tensor_pictoriality.append(get_tensor_pictoriality(tensor))\n",
    "    tensor_regularity.append(get_tensor_regularity(tensor))\n",
    "    print(\"Rank: %f, Sparsity: %f, Picoriality: %f, Regularity: %f\" % (tensor_rank[-1],tensor_sparsity[-1],tensor_pictoriality[-1],tensor_regularity[-1]))\n",
    "\n",
    "    ## Jpeg compression\n",
    "    print(\"Doing JPEG compression\")\n",
    "    normalize_base, scale,zero_point, encoded_data, compressed_size_jpeg = compressor_jpeg_gray(tensor, 100)\n",
    "    reconstructed_tensor_jpeg = decompressor_jpeg_gray(tensor.shape,normalize_base, scale,zero_point, encoded_data )\n",
    "    ratio_jpeg = tensor.numel()*4/compressed_size_jpeg\n",
    "    snr_jpeg = calculate_snr(tensor.size(),tensor.numpy(), reconstructed_tensor_jpeg.numpy())\n",
    "    mse_jpeg = calculate_mse(tensor.numpy(), reconstructed_tensor_jpeg.numpy())\n",
    "    jpeg_ratio.append(ratio_jpeg)\n",
    "    jpeg_snr.append(snr_jpeg)\n",
    "    jpeg_mse.append(mse_jpeg)\n",
    "    print(\"Ratio: %f, SNR: %f, MSE: %f\" % (ratio_jpeg,snr_jpeg,mse_jpeg))\n",
    "\n",
    "    print(\"Doing Decomposition compression\")\n",
    "    factors, compressed_size_decomposition = compressor_decomposition(tensor, tensor_rank[-1])\n",
    "    reconstructed_tensor_decomposition = decompressor_decomposition(factors)\n",
    "    snr_decomposition = calculate_snr(tensor.size(),tensor.numpy(), reconstructed_tensor_decomposition)\n",
    "    mse_decomposition = calculate_mse(tensor.numpy(), reconstructed_tensor_decomposition)\n",
    "    ratio_decomposition= tensor.numel()*4/compressed_size_decomposition\n",
    "    decomposition_ratio.append(ratio_decomposition)\n",
    "    decomposition_snr.append(snr_decomposition)\n",
    "    decomposition_mse.append(mse_decomposition)\n",
    "    print(\"Ratio: %f, SNR: %f, MSE: %f\" % (ratio_decomposition,snr_decomposition,mse_decomposition))\n",
    "\n",
    "    print(\"Doing Regression compression\")\n",
    "    factors, x_pos, x_neg, compressed_size_regression = compressor_regression(tensor, 10)\n",
    "    reconstructed_tensor_regression = decompressor_regression(tensor.shape, factors, x_pos,x_neg )\n",
    "    snr_regression = calculate_snr(tensor.size(),tensor.numpy(), reconstructed_tensor_regression.numpy())\n",
    "    mse_regression = calculate_mse(tensor.numpy(), reconstructed_tensor_regression.numpy())\n",
    "    ratio_regression = tensor.numel()*4 / compressed_size_regression\n",
    "    regression_ratio.append(ratio_regression)\n",
    "    regression_snr.append(snr_regression)\n",
    "    regression_mse.append(mse_regression)\n",
    "    print(\"Ratio: %f, SNR: %f, MSE: %f\" % (ratio_regression,snr_regression,mse_regression))\n",
    "\n",
    "    print(\"Doing SketchML compression\")\n",
    "    minmaxsketch,bucket_means, keys, compressed_size_sketchml = compressor_sketchml(tensor,128,0.3,3)\n",
    "    reconstructed_tensor_sketchml = decompressor_sketchml(tensor.shape, minmaxsketch,bucket_means, keys)\n",
    "    snr_sketchml = calculate_snr(tensor.size(),tensor.numpy(), reconstructed_tensor_sketchml.numpy())\n",
    "    mse_sketchml = calculate_mse(tensor.numpy(), reconstructed_tensor_sketchml.numpy())\n",
    "    ratio_sketchml = tensor.numel() *4 / compressed_size_sketchml\n",
    "    sketchml_ratio.append(ratio_sketchml)\n",
    "    sketchml_snr.append(snr_sketchml)\n",
    "    sketchml_mse.append(mse_sketchml)\n",
    "    print(\"Ratio: %f, SNR: %f, MSE: %f\" % (ratio_sketchml,snr_sketchml,mse_sketchml))\n"
   ]
  },
  {
   "cell_type": "code",
   "execution_count": 11,
   "metadata": {},
   "outputs": [],
   "source": [
    "dict = {'split_layer':split_layer,\n",
    "        'rank': tensor_rank, \n",
    "        'sparsity': tensor_sparsity, \n",
    "        'regularity': tensor_regularity,\n",
    "        'pictoriality': tensor_pictoriality,\n",
    "        'jpeg_ratio':jpeg_ratio,\n",
    "        'jpeg_snr':jpeg_snr,\n",
    "        'jpeg_mse':jpeg_mse,\n",
    "        'decomposition_ratio':decomposition_ratio,\n",
    "        'decomposition_snr':decomposition_snr,\n",
    "        'decomposition_mse':decomposition_mse,\n",
    "        'regression_ratio':regression_ratio,\n",
    "        'regression_snr':regression_snr,\n",
    "        'regression_mse':regression_mse,\n",
    "        'sketchml_ratio':sketchml_ratio,\n",
    "        'sketchml_snr':sketchml_snr,\n",
    "        'sketchml_mse':sketchml_mse\n",
    "        } \n",
    "   \n",
    "df = pd.DataFrame(dict)"
   ]
  },
  {
   "cell_type": "code",
   "execution_count": 13,
   "metadata": {},
   "outputs": [],
   "source": [
    "df.to_csv(output_dir+\"layer2.csv\",index=False, header=True)"
   ]
  }
 ],
 "metadata": {
  "kernelspec": {
   "display_name": "pytorch",
   "language": "python",
   "name": "python3"
  },
  "language_info": {
   "codemirror_mode": {
    "name": "ipython",
    "version": 3
   },
   "file_extension": ".py",
   "mimetype": "text/x-python",
   "name": "python",
   "nbconvert_exporter": "python",
   "pygments_lexer": "ipython3",
   "version": "3.10.0"
  }
 },
 "nbformat": 4,
 "nbformat_minor": 2
}
