{
 "cells": [
  {
   "cell_type": "code",
   "execution_count": 1,
   "metadata": {},
   "outputs": [],
   "source": [
    "import matplotlib.pyplot as plt\n",
    "import pandas as pd"
   ]
  },
  {
   "cell_type": "code",
   "execution_count": 2,
   "metadata": {},
   "outputs": [],
   "source": [
    "df=pd.read_csv(\"../measurements/layer_8/tensor_regression/map.csv\")"
   ]
  },
  {
   "cell_type": "code",
   "execution_count": 3,
   "metadata": {},
   "outputs": [],
   "source": [
    "df[\"ratio\"] = (128*26*26*4) / (df[\"data_size_mean\"] /8)"
   ]
  },
  {
   "cell_type": "code",
   "execution_count": 4,
   "metadata": {},
   "outputs": [
    {
     "data": {
      "text/html": [
       "<div>\n",
       "<style scoped>\n",
       "    .dataframe tbody tr th:only-of-type {\n",
       "        vertical-align: middle;\n",
       "    }\n",
       "\n",
       "    .dataframe tbody tr th {\n",
       "        vertical-align: top;\n",
       "    }\n",
       "\n",
       "    .dataframe thead th {\n",
       "        text-align: right;\n",
       "    }\n",
       "</style>\n",
       "<table border=\"1\" class=\"dataframe\">\n",
       "  <thead>\n",
       "    <tr style=\"text-align: right;\">\n",
       "      <th></th>\n",
       "      <th>video_name</th>\n",
       "      <th>pruning_thresh</th>\n",
       "      <th>jepg_quality</th>\n",
       "      <th>data_size_mean</th>\n",
       "      <th>data_size_std</th>\n",
       "      <th>sparsity</th>\n",
       "      <th>decomposability</th>\n",
       "      <th>regularity</th>\n",
       "      <th>pictoriality</th>\n",
       "      <th>map</th>\n",
       "      <th>...</th>\n",
       "      <th>map_75</th>\n",
       "      <th>map_small</th>\n",
       "      <th>map_medium</th>\n",
       "      <th>map_large</th>\n",
       "      <th>mar_1</th>\n",
       "      <th>mar_100</th>\n",
       "      <th>mar_small</th>\n",
       "      <th>mar_medium</th>\n",
       "      <th>mar_large</th>\n",
       "      <th>ratio</th>\n",
       "    </tr>\n",
       "  </thead>\n",
       "  <tbody>\n",
       "    <tr>\n",
       "      <th>0</th>\n",
       "      <td>b610204c-e3c8c65f</td>\n",
       "      <td>0.0</td>\n",
       "      <td>1</td>\n",
       "      <td>255558.0</td>\n",
       "      <td>0.0</td>\n",
       "      <td>0.0</td>\n",
       "      <td>-1.00000</td>\n",
       "      <td>0.137238</td>\n",
       "      <td>0.158353</td>\n",
       "      <td>0.000908</td>\n",
       "      <td>...</td>\n",
       "      <td>0.0</td>\n",
       "      <td>0.001980</td>\n",
       "      <td>0.000743</td>\n",
       "      <td>-1.0</td>\n",
       "      <td>0.001154</td>\n",
       "      <td>0.001154</td>\n",
       "      <td>0.001418</td>\n",
       "      <td>0.001389</td>\n",
       "      <td>-1.0</td>\n",
       "      <td>10.834707</td>\n",
       "    </tr>\n",
       "    <tr>\n",
       "      <th>1</th>\n",
       "      <td>b610204c-e3c8c65f</td>\n",
       "      <td>0.0</td>\n",
       "      <td>2</td>\n",
       "      <td>256582.0</td>\n",
       "      <td>0.0</td>\n",
       "      <td>0.0</td>\n",
       "      <td>-1.00000</td>\n",
       "      <td>0.134738</td>\n",
       "      <td>0.155477</td>\n",
       "      <td>0.000990</td>\n",
       "      <td>...</td>\n",
       "      <td>0.0</td>\n",
       "      <td>0.001980</td>\n",
       "      <td>0.000000</td>\n",
       "      <td>-1.0</td>\n",
       "      <td>0.000769</td>\n",
       "      <td>0.000769</td>\n",
       "      <td>0.001418</td>\n",
       "      <td>0.000000</td>\n",
       "      <td>-1.0</td>\n",
       "      <td>10.791466</td>\n",
       "    </tr>\n",
       "    <tr>\n",
       "      <th>2</th>\n",
       "      <td>b610204c-e3c8c65f</td>\n",
       "      <td>0.0</td>\n",
       "      <td>3</td>\n",
       "      <td>257606.0</td>\n",
       "      <td>0.0</td>\n",
       "      <td>0.0</td>\n",
       "      <td>-0.99994</td>\n",
       "      <td>0.133945</td>\n",
       "      <td>0.153872</td>\n",
       "      <td>0.000990</td>\n",
       "      <td>...</td>\n",
       "      <td>0.0</td>\n",
       "      <td>0.001980</td>\n",
       "      <td>0.000000</td>\n",
       "      <td>-1.0</td>\n",
       "      <td>0.000769</td>\n",
       "      <td>0.000769</td>\n",
       "      <td>0.001418</td>\n",
       "      <td>0.000000</td>\n",
       "      <td>-1.0</td>\n",
       "      <td>10.748570</td>\n",
       "    </tr>\n",
       "    <tr>\n",
       "      <th>3</th>\n",
       "      <td>b610204c-e3c8c65f</td>\n",
       "      <td>0.0</td>\n",
       "      <td>4</td>\n",
       "      <td>258630.0</td>\n",
       "      <td>0.0</td>\n",
       "      <td>0.0</td>\n",
       "      <td>-1.00000</td>\n",
       "      <td>0.132179</td>\n",
       "      <td>0.151366</td>\n",
       "      <td>0.001558</td>\n",
       "      <td>...</td>\n",
       "      <td>0.0</td>\n",
       "      <td>0.004620</td>\n",
       "      <td>0.000000</td>\n",
       "      <td>-1.0</td>\n",
       "      <td>0.001154</td>\n",
       "      <td>0.001907</td>\n",
       "      <td>0.003156</td>\n",
       "      <td>0.000000</td>\n",
       "      <td>-1.0</td>\n",
       "      <td>10.706012</td>\n",
       "    </tr>\n",
       "    <tr>\n",
       "      <th>4</th>\n",
       "      <td>b610204c-e3c8c65f</td>\n",
       "      <td>0.0</td>\n",
       "      <td>5</td>\n",
       "      <td>259654.0</td>\n",
       "      <td>0.0</td>\n",
       "      <td>0.0</td>\n",
       "      <td>-1.00000</td>\n",
       "      <td>0.131525</td>\n",
       "      <td>0.150814</td>\n",
       "      <td>0.001736</td>\n",
       "      <td>...</td>\n",
       "      <td>0.0</td>\n",
       "      <td>0.005941</td>\n",
       "      <td>0.000000</td>\n",
       "      <td>-1.0</td>\n",
       "      <td>0.001154</td>\n",
       "      <td>0.002509</td>\n",
       "      <td>0.003980</td>\n",
       "      <td>0.000000</td>\n",
       "      <td>-1.0</td>\n",
       "      <td>10.663791</td>\n",
       "    </tr>\n",
       "  </tbody>\n",
       "</table>\n",
       "<p>5 rows × 21 columns</p>\n",
       "</div>"
      ],
      "text/plain": [
       "          video_name  pruning_thresh  jepg_quality  data_size_mean  \\\n",
       "0  b610204c-e3c8c65f             0.0             1        255558.0   \n",
       "1  b610204c-e3c8c65f             0.0             2        256582.0   \n",
       "2  b610204c-e3c8c65f             0.0             3        257606.0   \n",
       "3  b610204c-e3c8c65f             0.0             4        258630.0   \n",
       "4  b610204c-e3c8c65f             0.0             5        259654.0   \n",
       "\n",
       "   data_size_std  sparsity  decomposability  regularity  pictoriality  \\\n",
       "0            0.0       0.0         -1.00000    0.137238      0.158353   \n",
       "1            0.0       0.0         -1.00000    0.134738      0.155477   \n",
       "2            0.0       0.0         -0.99994    0.133945      0.153872   \n",
       "3            0.0       0.0         -1.00000    0.132179      0.151366   \n",
       "4            0.0       0.0         -1.00000    0.131525      0.150814   \n",
       "\n",
       "        map  ...  map_75  map_small  map_medium  map_large     mar_1  \\\n",
       "0  0.000908  ...     0.0   0.001980    0.000743       -1.0  0.001154   \n",
       "1  0.000990  ...     0.0   0.001980    0.000000       -1.0  0.000769   \n",
       "2  0.000990  ...     0.0   0.001980    0.000000       -1.0  0.000769   \n",
       "3  0.001558  ...     0.0   0.004620    0.000000       -1.0  0.001154   \n",
       "4  0.001736  ...     0.0   0.005941    0.000000       -1.0  0.001154   \n",
       "\n",
       "    mar_100  mar_small  mar_medium  mar_large      ratio  \n",
       "0  0.001154   0.001418    0.001389       -1.0  10.834707  \n",
       "1  0.000769   0.001418    0.000000       -1.0  10.791466  \n",
       "2  0.000769   0.001418    0.000000       -1.0  10.748570  \n",
       "3  0.001907   0.003156    0.000000       -1.0  10.706012  \n",
       "4  0.002509   0.003980    0.000000       -1.0  10.663791  \n",
       "\n",
       "[5 rows x 21 columns]"
      ]
     },
     "execution_count": 4,
     "metadata": {},
     "output_type": "execute_result"
    }
   ],
   "source": [
    "df.head()"
   ]
  },
  {
   "cell_type": "code",
   "execution_count": 28,
   "metadata": {},
   "outputs": [],
   "source": [
    "pics =[]\n",
    "regs = []\n",
    "maps =[]\n",
    "keys =[]\n",
    "df_group = df.groupby(\"pruning_thresh\")\n",
    "for key in df_group.groups.keys():\n",
    "    dfg = df_group.get_group(key)\n",
    "    keys.append(key)\n",
    "    pics.append(dfg[\"pictoriality\"].to_list()[2])\n",
    "    regs.append(dfg[\"regularity\"].to_list()[2])\n",
    "    maps.append(dfg[\"map_50\"].to_list()[2])"
   ]
  },
  {
   "cell_type": "code",
   "execution_count": 29,
   "metadata": {},
   "outputs": [
    {
     "data": {
      "text/plain": [
       "20    0.128209\n",
       "21    0.128502\n",
       "22    0.127984\n",
       "23    0.127962\n",
       "24    0.127626\n",
       "Name: pictoriality, dtype: float64"
      ]
     },
     "execution_count": 29,
     "metadata": {},
     "output_type": "execute_result"
    }
   ],
   "source": [
    "dfg[\"pictoriality\"]"
   ]
  },
  {
   "cell_type": "code",
   "execution_count": 30,
   "metadata": {},
   "outputs": [
    {
     "data": {
      "text/plain": [
       "[0.1538723493140301,\n",
       " 0.1347864441632606,\n",
       " 0.1309624815265389,\n",
       " 0.1293533242023436,\n",
       " 0.1279843252376658]"
      ]
     },
     "execution_count": 30,
     "metadata": {},
     "output_type": "execute_result"
    }
   ],
   "source": [
    "pics"
   ]
  },
  {
   "cell_type": "code",
   "execution_count": 33,
   "metadata": {},
   "outputs": [
    {
     "data": {
      "text/plain": [
       "<matplotlib.legend.Legend at 0xffff6c97d1b0>"
      ]
     },
     "execution_count": 33,
     "metadata": {},
     "output_type": "execute_result"
    },
    {
     "data": {
      "image/png": "[encoded data removed]",
      "text/plain": [
       "<Figure size 640x480 with 1 Axes>"
      ]
     },
     "metadata": {},
     "output_type": "display_data"
    }
   ],
   "source": [
    "plt.figure()\n",
    "plt.plot(keys,pics,label=\"Pictoriality\")\n",
    "plt.plot(keys,regs,label=\"Regularity\")\n",
    "plt.plot(keys, maps,label=\"mAP\")\n",
    "plt.legend()"
   ]
  }
 ],
 "metadata": {
  "kernelspec": {
   "display_name": "pytorch",
   "language": "python",
   "name": "python3"
  },
  "language_info": {
   "codemirror_mode": {
    "name": "ipython",
    "version": 3
   },
   "file_extension": ".py",
   "mimetype": "text/x-python",
   "name": "python",
   "nbconvert_exporter": "python",
   "pygments_lexer": "ipython3",
   "version": "3.10.0"
  }
 },
 "nbformat": 4,
 "nbformat_minor": 2
}
