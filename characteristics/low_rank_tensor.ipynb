{
 "cells": [
  {
   "cell_type": "code",
   "execution_count": 1,
   "metadata": {},
   "outputs": [],
   "source": [
    "import torch\n",
    "import matplotlib.pyplot as plt\n",
    "import numpy as np\n",
    "\n",
    "from lib.tools import *\n",
    "from lib.jpeg import *\n",
    "from lib.decomposition import *\n",
    "from lib.regression import *\n",
    "from lib.sketchml import *"
   ]
  },
  {
   "cell_type": "markdown",
   "metadata": {},
   "source": [
    "## Generate a low rank tensor"
   ]
  },
  {
   "cell_type": "code",
   "execution_count": 2,
   "metadata": {},
   "outputs": [],
   "source": [
    "tensor_shape = (128,128,3)\n",
    "tensor_size  = 128*128*3\n",
    "rank = 4"
   ]
  },
  {
   "cell_type": "code",
   "execution_count": 3,
   "metadata": {},
   "outputs": [],
   "source": [
    "# CP decomposition: Creating factor matrices for the tensor\n",
    "factor_1 = torch.randn(tensor_shape[0], rank)\n",
    "factor_2 = torch.randn(tensor_shape[1], rank)\n",
    "factor_3 = torch.randn(tensor_shape[2], rank)\n",
    "tensor = torch.einsum('ir,jr,kr->ijk', factor_1, factor_2, factor_3)"
   ]
  },
  {
   "cell_type": "code",
   "execution_count": 4,
   "metadata": {},
   "outputs": [],
   "source": [
    "# manipulate the tensor\n",
    "value_mask = abs(tensor)>0.001\n",
    "tensor = tensor* value_mask"
   ]
  },
  {
   "cell_type": "markdown",
   "metadata": {},
   "source": [
    "## Get tensor charateristics"
   ]
  },
  {
   "cell_type": "code",
   "execution_count": 5,
   "metadata": {},
   "outputs": [
    {
     "name": "stdout",
     "output_type": "stream",
     "text": [
      "Testing rank: 1\n",
      "Error:0.8553295\n",
      "Testing rank: 2\n",
      "Error:0.33498165\n",
      "Testing rank: 3\n",
      "Error:0.11508464\n",
      "Testing rank: 4\n",
      "Error:9.266853e-09\n",
      "The acutal rank of the tensor is:  4\n"
     ]
    }
   ],
   "source": [
    "actual_rank= calculate_cp_rank(tensor.numpy())\n",
    "print(\"The acutal rank of the tensor is: \", actual_rank)"
   ]
  },
  {
   "cell_type": "code",
   "execution_count": 6,
   "metadata": {},
   "outputs": [
    {
     "name": "stdout",
     "output_type": "stream",
     "text": [
      "The sparsity of the tensor is:  0.001220703125\n"
     ]
    }
   ],
   "source": [
    "sparsity = calculate_sparsity(tensor.numpy())\n",
    "print(\"The sparsity of the tensor is: \", sparsity)"
   ]
  },
  {
   "cell_type": "markdown",
   "metadata": {},
   "source": [
    "## Tensor compression"
   ]
  },
  {
   "cell_type": "markdown",
   "metadata": {},
   "source": [
    "#### Jpeg"
   ]
  },
  {
   "cell_type": "code",
   "execution_count": 7,
   "metadata": {},
   "outputs": [
    {
     "name": "stdout",
     "output_type": "stream",
     "text": [
      "Compressed size:  42348\n"
     ]
    }
   ],
   "source": [
    "normalize_base, scale,zero_point, encoded_data, compressed_size_jpeg = compressor_jpeg(tensor, 100)\n",
    "print(\"Compressed size: \", compressed_size_jpeg)"
   ]
  },
  {
   "cell_type": "code",
   "execution_count": 8,
   "metadata": {},
   "outputs": [
    {
     "name": "stdout",
     "output_type": "stream",
     "text": [
      "Reconstruction snr (dB):  27.381739616394043\n",
      "Reconstruction mse:  0.002842217\n"
     ]
    }
   ],
   "source": [
    "reconstructed_tensor_jpeg = decompressor_jpeg(tensor.shape,normalize_base, scale,zero_point, encoded_data )\n",
    "snr_jpeg = calculate_snr(tensor_size,tensor.numpy(), reconstructed_tensor_jpeg.numpy())\n",
    "mse_jpeg = calculate_mse(tensor.numpy(), reconstructed_tensor_jpeg.numpy())\n",
    "print(\"Reconstruction snr (dB): \", snr_jpeg)\n",
    "print(\"Reconstruction mse: \", mse_jpeg)"
   ]
  },
  {
   "cell_type": "markdown",
   "metadata": {},
   "source": [
    "#### Tensor decomposition"
   ]
  },
  {
   "cell_type": "code",
   "execution_count": 9,
   "metadata": {},
   "outputs": [
    {
     "name": "stdout",
     "output_type": "stream",
     "text": [
      "Compressed size:  4144\n"
     ]
    }
   ],
   "source": [
    "factors, compressed_size_decomposition = compressor_decomposition(tensor, actual_rank)\n",
    "print(\"Compressed size: \", compressed_size_decomposition)"
   ]
  },
  {
   "cell_type": "code",
   "execution_count": 11,
   "metadata": {},
   "outputs": [
    {
     "name": "stdout",
     "output_type": "stream",
     "text": [
      "Reconstruction snr (dB):  96.10288619995117\n",
      "Reconstruction mse:  3.8154244e-10\n"
     ]
    }
   ],
   "source": [
    "reconstructed_tensor_decomposition = decompressor_decomposition(factors )\n",
    "snr_decomposition = calculate_snr(tensor_size,tensor.numpy(), reconstructed_tensor_decomposition)\n",
    "mse_decompositionm = calculate_mse(tensor.numpy(), reconstructed_tensor_decomposition)\n",
    "print(\"Reconstruction snr (dB): \", snr_decomposition)\n",
    "print(\"Reconstruction mse: \", mse_decompositionm)"
   ]
  },
  {
   "cell_type": "markdown",
   "metadata": {},
   "source": [
    "#### Regression"
   ]
  },
  {
   "cell_type": "code",
   "execution_count": 27,
   "metadata": {},
   "outputs": [
    {
     "name": "stdout",
     "output_type": "stream",
     "text": [
      "Compressed size:  14336.0\n"
     ]
    }
   ],
   "source": [
    "factors, x_pos, x_neg, compressed_size_regression = compressor_regression(tensor, 4)\n",
    "print(\"Compressed size: \", compressed_size_regression)"
   ]
  },
  {
   "cell_type": "code",
   "execution_count": 28,
   "metadata": {},
   "outputs": [
    {
     "name": "stdout",
     "output_type": "stream",
     "text": [
      "Reconstruction snr (dB):  3.909149169921875\n",
      "Reconstruction mse:  0.6322898\n"
     ]
    }
   ],
   "source": [
    "reconstructed_tensor_regression = decompressor_regression(tensor.shape, factors, x_pos,x_neg )\n",
    "snr_regression = calculate_snr(tensor_size,tensor.numpy(), reconstructed_tensor_regression.numpy())\n",
    "mse_regression = calculate_mse(tensor.numpy(), reconstructed_tensor_regression.numpy())\n",
    "print(\"Reconstruction snr (dB): \", snr_regression)\n",
    "print(\"Reconstruction mse: \", mse_regression)"
   ]
  },
  {
   "cell_type": "markdown",
   "metadata": {},
   "source": [
    "#### Sketch ML"
   ]
  },
  {
   "cell_type": "code",
   "execution_count": 21,
   "metadata": {},
   "outputs": [
    {
     "name": "stdout",
     "output_type": "stream",
     "text": [
      "Compressed size:  66312\n"
     ]
    }
   ],
   "source": [
    "minmaxsketch,bucket_means, keys, compressed_size_sketchml = compressor_sketchml(tensor,128,0.5,3)\n",
    "print(\"Compressed size: \", compressed_size_sketchml)"
   ]
  },
  {
   "cell_type": "code",
   "execution_count": 22,
   "metadata": {},
   "outputs": [
    {
     "name": "stdout",
     "output_type": "stream",
     "text": [
      "Reconstruction snr (dB):  4.823217391967773\n",
      "Reconstruction mse:  0.5122823\n"
     ]
    }
   ],
   "source": [
    "reconstructed_tensor_sketchml = decompressor_sketchml(tensor.shape, minmaxsketch,bucket_means, keys)\n",
    "snr_sketchml = calculate_snr(tensor_size,tensor.numpy(), reconstructed_tensor_sketchml.numpy())\n",
    "mse_sketchml = calculate_mse(tensor.numpy(), reconstructed_tensor_sketchml.numpy())\n",
    "print(\"Reconstruction snr (dB): \", snr_sketchml)\n",
    "print(\"Reconstruction mse: \", mse_sketchml)"
   ]
  }
 ],
 "metadata": {
  "kernelspec": {
   "display_name": "pytorch",
   "language": "python",
   "name": "python3"
  },
  "language_info": {
   "codemirror_mode": {
    "name": "ipython",
    "version": 3
   },
   "file_extension": ".py",
   "mimetype": "text/x-python",
   "name": "python",
   "nbconvert_exporter": "python",
   "pygments_lexer": "ipython3",
   "version": "3.10.0"
  }
 },
 "nbformat": 4,
 "nbformat_minor": 2
}
