{
 "cells": [
  {
   "cell_type": "code",
   "execution_count": 1,
   "metadata": {},
   "outputs": [],
   "source": [
    "import sys\n",
    "sys.path.append('../')"
   ]
  },
  {
   "cell_type": "code",
   "execution_count": 2,
   "metadata": {},
   "outputs": [],
   "source": [
    "import cv2\n",
    "from  pytorchyolo import detect, models_split_tiny\n",
    "from pytorchyolo.utils.transforms import Resize, DEFAULT_TRANSFORMS\n",
    "import torchvision.transforms as transforms\n",
    "import numpy as np\n",
    "from pytorchyolo.utils.utils import load_classes, rescale_boxes, non_max_suppression, print_environment_info\n",
    "import pandas as pd\n",
    "import time\n",
    "import torch\n",
    "import torchvision.ops.boxes as bops\n",
    "import os\n",
    "from torch import tensor\n",
    "from split_framework.yolov3_tensor_direct_jpeg import SplitFramework\n",
    "import requests\n",
    "import pickle\n",
    "from torchmetrics.detection import MeanAveragePrecision\n",
    "from torch.profiler import profile, record_function, ProfilerActivity"
   ]
  },
  {
   "cell_type": "code",
   "execution_count": 48,
   "metadata": {},
   "outputs": [],
   "source": [
    "model_split_layer = 0\n",
    "dummy_head_tensor = torch.rand([1,3,416,416],device=\"cuda\")"
   ]
  },
  {
   "cell_type": "code",
   "execution_count": 49,
   "metadata": {},
   "outputs": [],
   "source": [
    "model = models_split_tiny.load_model(\"../pytorchyolo/config/yolov3-tiny.cfg\",\"../pytorchyolo/weights/yolov3-tiny.weights\")\n",
    "model.set_split_layer(model_split_layer) # layer <7\n",
    "model = model.eval()"
   ]
  },
  {
   "cell_type": "code",
   "execution_count": 50,
   "metadata": {},
   "outputs": [],
   "source": [
    "head_tensor = model(dummy_head_tensor,1)\n",
    "detection = model(head_tensor,2)"
   ]
  },
  {
   "cell_type": "code",
   "execution_count": 51,
   "metadata": {},
   "outputs": [
    {
     "data": {
      "text/plain": [
       "torch.Size([1, 16, 416, 416])"
      ]
     },
     "execution_count": 51,
     "metadata": {},
     "output_type": "execute_result"
    }
   ],
   "source": [
    "head_tensor.shape"
   ]
  }
 ],
 "metadata": {
  "kernelspec": {
   "display_name": "Python 3",
   "language": "python",
   "name": "python3"
  },
  "language_info": {
   "codemirror_mode": {
    "name": "ipython",
    "version": 3
   },
   "file_extension": ".py",
   "mimetype": "text/x-python",
   "name": "python",
   "nbconvert_exporter": "python",
   "pygments_lexer": "ipython3",
   "version": "3.10.12"
  }
 },
 "nbformat": 4,
 "nbformat_minor": 2
}
