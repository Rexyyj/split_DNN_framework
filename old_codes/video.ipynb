{
 "cells": [
  {
   "cell_type": "code",
   "execution_count": 1,
   "metadata": {},
   "outputs": [],
   "source": [
    "import cv2\n",
    "import time\n",
    "import threading"
   ]
  },
  {
   "cell_type": "code",
   "execution_count": null,
   "metadata": {},
   "outputs": [],
   "source": [
    "class VideoCaptureThread(threading.Thread):\n",
    "    def __init__(self, video_path, fps=30):\n",
    "        threading.Thread.__init__(self)\n",
    "        self.video_path = video_path\n",
    "        self.fps = fps\n",
    "        self.frame_time = 1.0 / fps\n",
    "        self.cap = cv2.VideoCapture(video_path)\n",
    "        self.running = True\n",
    "\n",
    "        if not self.cap.isOpened():\n",
    "            print(\"Error: Could not open video.\")\n",
    "            self.running = False\n",
    "\n",
    "    def run(self):\n",
    "        while self.running and self.cap.isOpened():\n",
    "            start_time = time.time()\n",
    "\n",
    "            ret, frame = self.cap.read()\n",
    "\n",
    "            if not ret:\n",
    "                print(\"Error: Can't receive frame (stream end?). Exiting ...\")\n",
    "                break\n",
    "\n",
    "            cv2.imshow('Frame', frame)\n",
    "\n",
    "            elapsed_time = time.time() - start_time\n",
    "            time_to_wait = max(0, self.frame_time - elapsed_time)\n",
    "            if cv2.waitKey(int(time_to_wait * 1000)) & 0xFF == ord('q'):\n",
    "                break\n",
    "\n",
    "        self.cap.release()\n",
    "        cv2.destroyAllWindows()\n",
    "\n",
    "    def stop(self):\n",
    "        self.running = False\n",
    "\n"
   ]
  },
  {
   "cell_type": "code",
   "execution_count": null,
   "metadata": {},
   "outputs": [],
   "source": [
    "# Usage example\n",
    "video_path = 'path_to_your_video.mp4'\n",
    "video_thread = VideoCaptureThread(video_path)\n",
    "video_thread.start()\n",
    "\n",
    "# To stop the thread (for example, after 10 seconds)\n",
    "time.sleep(10)\n",
    "video_thread.stop()\n",
    "video_thread.join()"
   ]
  },
  {
   "cell_type": "code",
   "execution_count": null,
   "metadata": {},
   "outputs": [],
   "source": []
  }
 ],
 "metadata": {
  "kernelspec": {
   "display_name": "Python 3",
   "language": "python",
   "name": "python3"
  },
  "language_info": {
   "codemirror_mode": {
    "name": "ipython",
    "version": 3
   },
   "file_extension": ".py",
   "mimetype": "text/x-python",
   "name": "python",
   "nbconvert_exporter": "python",
   "pygments_lexer": "ipython3",
   "version": "3.10.12"
  }
 },
 "nbformat": 4,
 "nbformat_minor": 2
}
