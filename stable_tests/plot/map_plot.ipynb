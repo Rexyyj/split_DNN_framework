{
 "cells": [
  {
   "cell_type": "code",
   "execution_count": 1,
   "metadata": {},
   "outputs": [],
   "source": [
    "import numpy as np\n",
    "import matplotlib.pyplot as plt\n",
    "import pandas as pd"
   ]
  },
  {
   "cell_type": "code",
   "execution_count": 2,
   "metadata": {},
   "outputs": [],
   "source": [
    "colors = [\"tab:blue\", \"tab:orange\",\"tab:green\",\"tab:purple\",\"tab:brown\",\"tab:pink\"]"
   ]
  },
  {
   "cell_type": "code",
   "execution_count": 3,
   "metadata": {},
   "outputs": [],
   "source": [
    "jpeg_map = pd.read_csv(\"../measurements/jpeg/map.csv\")\n",
    "decom_map= pd.read_csv(\"../measurements/decomposition/map.csv\")\n",
    "reg_map = pd.read_csv(\"../measurements/regression/map.csv\")\n",
    "sketch_map = pd.read_csv(\"../measurements/sketchml/map.csv\")\n",
    "\n",
    "jpeg_cha = pd.read_csv(\"../measurements/jpeg/characteristic.csv\")\n",
    "decom_cha = pd.read_csv(\"../measurements/decomposition/characteristic.csv\")\n",
    "reg_cha = pd.read_csv(\"../measurements/regression/characteristic.csv\")\n",
    "sketch_cha = pd.read_csv(\"../measurements/sketchml/characteristic.csv\")\n",
    "\n",
    "# jpeg_cha = jpeg_cha[jpeg_cha[\"sparsity\"]>0]\n",
    "# decom_cha = decom_cha[decom_cha[\"sparsity\"]>0]\n",
    "# reg_cha = reg_cha[reg_cha[\"sparsity\"]>0]\n",
    "# sketch_cha = sketch_cha[sketch_cha[\"sparsity\"]>0]"
   ]
  },
  {
   "cell_type": "code",
   "execution_count": 4,
   "metadata": {},
   "outputs": [
    {
     "data": {
      "text/html": [
       "<div>\n",
       "<style scoped>\n",
       "    .dataframe tbody tr th:only-of-type {\n",
       "        vertical-align: middle;\n",
       "    }\n",
       "\n",
       "    .dataframe tbody tr th {\n",
       "        vertical-align: top;\n",
       "    }\n",
       "\n",
       "    .dataframe thead th {\n",
       "        text-align: right;\n",
       "    }\n",
       "</style>\n",
       "<table border=\"1\" class=\"dataframe\">\n",
       "  <thead>\n",
       "    <tr style=\"text-align: right;\">\n",
       "      <th></th>\n",
       "      <th>pruning_thresh</th>\n",
       "      <th>quality</th>\n",
       "      <th>map</th>\n",
       "    </tr>\n",
       "  </thead>\n",
       "  <tbody>\n",
       "    <tr>\n",
       "      <th>0</th>\n",
       "      <td>0.05</td>\n",
       "      <td>60</td>\n",
       "      <td>0.502351</td>\n",
       "    </tr>\n",
       "    <tr>\n",
       "      <th>1</th>\n",
       "      <td>0.05</td>\n",
       "      <td>70</td>\n",
       "      <td>0.514051</td>\n",
       "    </tr>\n",
       "    <tr>\n",
       "      <th>2</th>\n",
       "      <td>0.05</td>\n",
       "      <td>80</td>\n",
       "      <td>0.529428</td>\n",
       "    </tr>\n",
       "    <tr>\n",
       "      <th>3</th>\n",
       "      <td>0.05</td>\n",
       "      <td>90</td>\n",
       "      <td>0.523467</td>\n",
       "    </tr>\n",
       "    <tr>\n",
       "      <th>4</th>\n",
       "      <td>0.05</td>\n",
       "      <td>100</td>\n",
       "      <td>0.524498</td>\n",
       "    </tr>\n",
       "  </tbody>\n",
       "</table>\n",
       "</div>"
      ],
      "text/plain": [
       "   pruning_thresh  quality       map\n",
       "0            0.05       60  0.502351\n",
       "1            0.05       70  0.514051\n",
       "2            0.05       80  0.529428\n",
       "3            0.05       90  0.523467\n",
       "4            0.05      100  0.524498"
      ]
     },
     "execution_count": 4,
     "metadata": {},
     "output_type": "execute_result"
    }
   ],
   "source": [
    "jpeg_map.head()"
   ]
  },
  {
   "cell_type": "code",
   "execution_count": 5,
   "metadata": {},
   "outputs": [
    {
     "data": {
      "text/html": [
       "<div>\n",
       "<style scoped>\n",
       "    .dataframe tbody tr th:only-of-type {\n",
       "        vertical-align: middle;\n",
       "    }\n",
       "\n",
       "    .dataframe tbody tr th {\n",
       "        vertical-align: top;\n",
       "    }\n",
       "\n",
       "    .dataframe thead th {\n",
       "        text-align: right;\n",
       "    }\n",
       "</style>\n",
       "<table border=\"1\" class=\"dataframe\">\n",
       "  <thead>\n",
       "    <tr style=\"text-align: right;\">\n",
       "      <th></th>\n",
       "      <th>pruning_thresh</th>\n",
       "      <th>quality</th>\n",
       "      <th>frame_id</th>\n",
       "      <th>sparsity</th>\n",
       "      <th>decomposability</th>\n",
       "      <th>regularity</th>\n",
       "      <th>pictoriality</th>\n",
       "      <th>datasize_est</th>\n",
       "      <th>datasize_real</th>\n",
       "      <th>reconstruct_snr</th>\n",
       "    </tr>\n",
       "  </thead>\n",
       "  <tbody>\n",
       "    <tr>\n",
       "      <th>0</th>\n",
       "      <td>0.05</td>\n",
       "      <td>60</td>\n",
       "      <td>1</td>\n",
       "      <td>0.658631</td>\n",
       "      <td>-0.517428</td>\n",
       "      <td>0.449159</td>\n",
       "      <td>0.834172</td>\n",
       "      <td>15168</td>\n",
       "      <td>15903</td>\n",
       "      <td>6.664355</td>\n",
       "    </tr>\n",
       "    <tr>\n",
       "      <th>1</th>\n",
       "      <td>0.05</td>\n",
       "      <td>60</td>\n",
       "      <td>2</td>\n",
       "      <td>0.470044</td>\n",
       "      <td>-0.994591</td>\n",
       "      <td>0.158644</td>\n",
       "      <td>0.326536</td>\n",
       "      <td>10829</td>\n",
       "      <td>11564</td>\n",
       "      <td>-7.923645</td>\n",
       "    </tr>\n",
       "    <tr>\n",
       "      <th>2</th>\n",
       "      <td>0.05</td>\n",
       "      <td>60</td>\n",
       "      <td>3</td>\n",
       "      <td>0.461770</td>\n",
       "      <td>-0.998798</td>\n",
       "      <td>0.139178</td>\n",
       "      <td>0.222738</td>\n",
       "      <td>13395</td>\n",
       "      <td>14130</td>\n",
       "      <td>-7.572399</td>\n",
       "    </tr>\n",
       "    <tr>\n",
       "      <th>3</th>\n",
       "      <td>0.05</td>\n",
       "      <td>60</td>\n",
       "      <td>4</td>\n",
       "      <td>0.450756</td>\n",
       "      <td>-0.999399</td>\n",
       "      <td>0.136039</td>\n",
       "      <td>0.188998</td>\n",
       "      <td>13199</td>\n",
       "      <td>13934</td>\n",
       "      <td>-9.147485</td>\n",
       "    </tr>\n",
       "    <tr>\n",
       "      <th>4</th>\n",
       "      <td>0.05</td>\n",
       "      <td>60</td>\n",
       "      <td>5</td>\n",
       "      <td>0.448468</td>\n",
       "      <td>-1.000000</td>\n",
       "      <td>0.137985</td>\n",
       "      <td>0.218278</td>\n",
       "      <td>5817</td>\n",
       "      <td>6552</td>\n",
       "      <td>-15.790584</td>\n",
       "    </tr>\n",
       "  </tbody>\n",
       "</table>\n",
       "</div>"
      ],
      "text/plain": [
       "   pruning_thresh  quality  frame_id  sparsity  decomposability  regularity  \\\n",
       "0            0.05       60         1  0.658631        -0.517428    0.449159   \n",
       "1            0.05       60         2  0.470044        -0.994591    0.158644   \n",
       "2            0.05       60         3  0.461770        -0.998798    0.139178   \n",
       "3            0.05       60         4  0.450756        -0.999399    0.136039   \n",
       "4            0.05       60         5  0.448468        -1.000000    0.137985   \n",
       "\n",
       "   pictoriality  datasize_est  datasize_real  reconstruct_snr  \n",
       "0      0.834172         15168          15903         6.664355  \n",
       "1      0.326536         10829          11564        -7.923645  \n",
       "2      0.222738         13395          14130        -7.572399  \n",
       "3      0.188998         13199          13934        -9.147485  \n",
       "4      0.218278          5817           6552       -15.790584  "
      ]
     },
     "execution_count": 5,
     "metadata": {},
     "output_type": "execute_result"
    }
   ],
   "source": [
    "jpeg_cha.head()"
   ]
  },
  {
   "cell_type": "code",
   "execution_count": 6,
   "metadata": {},
   "outputs": [],
   "source": [
    "pruning_general=0.25\n",
    "pruning_regression = 0.25"
   ]
  },
  {
   "cell_type": "code",
   "execution_count": 7,
   "metadata": {},
   "outputs": [
    {
     "data": {
      "text/plain": [
       "Text(0.5, 0, 'Transferred data size [KB]')"
      ]
     },
     "execution_count": 7,
     "metadata": {},
     "output_type": "execute_result"
    },
    {
     "data": {
      "image/png": "[encoded data removed]",
      "text/plain": [
       "<Figure size 600x400 with 1 Axes>"
      ]
     },
     "metadata": {},
     "output_type": "display_data"
    }
   ],
   "source": [
    "plt.figure(figsize=(6,4))\n",
    "map_df_group = jpeg_map.groupby(\"pruning_thresh\")\n",
    "cha_df_group = jpeg_cha.groupby(\"pruning_thresh\")\n",
    "keys = list(map_df_group.groups.keys())\n",
    "map_df = map_df_group.get_group(pruning_general)\n",
    "maps = map_df[\"map\"].to_numpy()*100\n",
    "cha_df = cha_df_group.get_group(pruning_general)\n",
    "cha_df_g = cha_df.groupby(\"quality\")\n",
    "datasize = cha_df_g.mean()[\"datasize_est\"].to_numpy()/1000\n",
    "plt.plot(datasize[1:],maps[1:], marker=\".\" ,color=colors[0],label=\"jpeg\")\n",
    "\n",
    "map_df_group = decom_map.groupby(\"pruning_thresh\")\n",
    "cha_df_group = decom_cha.groupby(\"pruning_thresh\")\n",
    "keys = list(map_df_group.groups.keys())\n",
    "map_df = map_df_group.get_group(pruning_general)\n",
    "maps = map_df[\"map\"].to_numpy()*100\n",
    "cha_df = cha_df_group.get_group(pruning_general)\n",
    "cha_df_g = cha_df.groupby(\"quality\")\n",
    "datasize = cha_df_g.mean()[\"datasize_est\"].to_numpy()/1000\n",
    "plt.plot(datasize,maps, marker=\".\" ,color=colors[1],label=\"decomposition\")\n",
    "\n",
    "map_df_group = reg_map.groupby(\"pruning_thresh\")\n",
    "cha_df_group = reg_cha.groupby(\"pruning_thresh\")\n",
    "keys = list(map_df_group.groups.keys())\n",
    "map_df = map_df_group.get_group(pruning_regression)\n",
    "maps = map_df[\"map\"].to_numpy()*100\n",
    "cha_df = cha_df_group.get_group(pruning_regression)\n",
    "cha_df_g = cha_df.groupby(\"quality\")\n",
    "datasize = cha_df_g.mean()[\"datasize_est\"].to_numpy()/1000\n",
    "plt.plot(datasize,maps, marker=\".\" ,color=colors[2],label=\"regression\")\n",
    "\n",
    "# map_df_group = sketch_map.groupby(\"pruning_thresh\")\n",
    "# cha_df_group = sketch_cha.groupby(\"pruning_thresh\")\n",
    "# keys = list(map_df_group.groups.keys())\n",
    "# map_df = map_df_group.get_group(pruning_general)\n",
    "# maps = map_df[\"map\"].to_numpy()*100\n",
    "# cha_df = cha_df_group.get_group(pruning_general)\n",
    "# cha_df_g = cha_df.groupby(\"quality\")\n",
    "# datasize = cha_df_g.mean()[\"datasize_est\"].to_numpy()/1000\n",
    "# plt.plot(datasize,maps, marker=\".\" ,color=colors[3],label=\"sketchML\")\n",
    "\n",
    "\n",
    "no_split_map_30 = 0.524\n",
    "plt.scatter(0,no_split_map_30*100,60,marker=\"*\",color=\"tab:pink\",label=\"No split\")\n",
    "\n",
    "plt.legend(loc=\"lower right\")\n",
    "plt.grid()\n",
    "plt.ylim([0,60])\n",
    "plt.xlim([0,12])\n",
    "# plt.autoscale(axis=\"x\",tight=True)\n",
    "plt.ylabel(\"Detection mAP [%]\")\n",
    "plt.xlabel(\"Transferred data size [KB]\")"
   ]
  },
  {
   "cell_type": "code",
   "execution_count": null,
   "metadata": {},
   "outputs": [],
   "source": []
  }
 ],
 "metadata": {
  "kernelspec": {
   "display_name": "pytorch",
   "language": "python",
   "name": "python3"
  },
  "language_info": {
   "codemirror_mode": {
    "name": "ipython",
    "version": 3
   },
   "file_extension": ".py",
   "mimetype": "text/x-python",
   "name": "python",
   "nbconvert_exporter": "python",
   "pygments_lexer": "ipython3",
   "version": "3.10.0"
  }
 },
 "nbformat": 4,
 "nbformat_minor": 2
}
