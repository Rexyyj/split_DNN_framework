{
 "cells": [
  {
   "cell_type": "code",
   "execution_count": 18,
   "metadata": {},
   "outputs": [],
   "source": [
    "import numpy as np\n",
    "import matplotlib.pyplot as plt\n",
    "import pandas as pd"
   ]
  },
  {
   "cell_type": "code",
   "execution_count": 19,
   "metadata": {},
   "outputs": [],
   "source": [
    "colors = [\"tab:blue\", \"tab:orange\",\"tab:green\",\"tab:purple\",\"tab:brown\",\"tab:pink\"]"
   ]
  },
  {
   "cell_type": "code",
   "execution_count": 20,
   "metadata": {},
   "outputs": [],
   "source": [
    "jpeg_map = pd.read_csv(\"../measurements/jpeg/map.csv\")\n",
    "decom_map= pd.read_csv(\"../measurements/decomposition/map.csv\")\n",
    "reg_map = pd.read_csv(\"../measurements/regression/map.csv\")\n",
    "sketch_map = pd.read_csv(\"../measurements/sketchml/map.csv\")\n",
    "\n",
    "jpeg_time = pd.read_csv(\"../measurements/jpeg/time.csv\")\n",
    "decom_time = pd.read_csv(\"../measurements/decomposition/time.csv\")\n",
    "reg_time = pd.read_csv(\"../measurements/regression/time.csv\")\n",
    "sketch_time = pd.read_csv(\"../measurements/sketchml/time.csv\")\n",
    "\n",
    "jpeg_time = jpeg_time[jpeg_time[\"model_head_time\"]<50]\n",
    "decom_time = decom_time[decom_time[\"model_head_time\"]<50]\n",
    "reg_time = reg_time[reg_time[\"model_head_time\"]<50]\n",
    "sketch_time = sketch_time[sketch_time[\"model_head_time\"]<50]\n",
    "\n",
    "jpeg_time = jpeg_time[jpeg_time[\"model_head_time\"]>0]\n",
    "decom_time = decom_time[decom_time[\"model_head_time\"]>0]\n",
    "reg_time = reg_time[reg_time[\"model_head_time\"]>0]\n",
    "sketch_time = sketch_time[sketch_time[\"model_head_time\"]>0]"
   ]
  },
  {
   "cell_type": "code",
   "execution_count": 21,
   "metadata": {},
   "outputs": [
    {
     "data": {
      "text/html": [
       "<div>\n",
       "<style scoped>\n",
       "    .dataframe tbody tr th:only-of-type {\n",
       "        vertical-align: middle;\n",
       "    }\n",
       "\n",
       "    .dataframe tbody tr th {\n",
       "        vertical-align: top;\n",
       "    }\n",
       "\n",
       "    .dataframe thead th {\n",
       "        text-align: right;\n",
       "    }\n",
       "</style>\n",
       "<table border=\"1\" class=\"dataframe\">\n",
       "  <thead>\n",
       "    <tr style=\"text-align: right;\">\n",
       "      <th></th>\n",
       "      <th>pruning_thresh</th>\n",
       "      <th>quality</th>\n",
       "      <th>frame_id</th>\n",
       "      <th>model_head_time</th>\n",
       "      <th>model_tail_time</th>\n",
       "      <th>framework_head_time</th>\n",
       "      <th>framework_tail_time</th>\n",
       "      <th>framework_response_time</th>\n",
       "      <th>compression_time</th>\n",
       "      <th>decompression_time</th>\n",
       "      <th>overall_time</th>\n",
       "    </tr>\n",
       "  </thead>\n",
       "  <tbody>\n",
       "    <tr>\n",
       "      <th>1</th>\n",
       "      <td>0.05</td>\n",
       "      <td>60</td>\n",
       "      <td>2</td>\n",
       "      <td>10.009344</td>\n",
       "      <td>11.235808</td>\n",
       "      <td>1.059904</td>\n",
       "      <td>0.030496</td>\n",
       "      <td>23.070145</td>\n",
       "      <td>3.069856</td>\n",
       "      <td>0.055104</td>\n",
       "      <td>807.040894</td>\n",
       "    </tr>\n",
       "    <tr>\n",
       "      <th>2</th>\n",
       "      <td>0.05</td>\n",
       "      <td>60</td>\n",
       "      <td>3</td>\n",
       "      <td>9.899552</td>\n",
       "      <td>12.083936</td>\n",
       "      <td>1.048128</td>\n",
       "      <td>0.030848</td>\n",
       "      <td>22.620319</td>\n",
       "      <td>2.922528</td>\n",
       "      <td>0.056320</td>\n",
       "      <td>740.638184</td>\n",
       "    </tr>\n",
       "    <tr>\n",
       "      <th>3</th>\n",
       "      <td>0.05</td>\n",
       "      <td>60</td>\n",
       "      <td>4</td>\n",
       "      <td>9.894080</td>\n",
       "      <td>13.489920</td>\n",
       "      <td>1.171808</td>\n",
       "      <td>0.030624</td>\n",
       "      <td>25.140032</td>\n",
       "      <td>2.883776</td>\n",
       "      <td>0.055616</td>\n",
       "      <td>681.139160</td>\n",
       "    </tr>\n",
       "    <tr>\n",
       "      <th>4</th>\n",
       "      <td>0.05</td>\n",
       "      <td>60</td>\n",
       "      <td>5</td>\n",
       "      <td>9.864640</td>\n",
       "      <td>11.015936</td>\n",
       "      <td>0.871488</td>\n",
       "      <td>0.030016</td>\n",
       "      <td>21.844992</td>\n",
       "      <td>2.617760</td>\n",
       "      <td>0.088064</td>\n",
       "      <td>671.566833</td>\n",
       "    </tr>\n",
       "    <tr>\n",
       "      <th>5</th>\n",
       "      <td>0.05</td>\n",
       "      <td>60</td>\n",
       "      <td>6</td>\n",
       "      <td>9.925984</td>\n",
       "      <td>4.521376</td>\n",
       "      <td>1.048384</td>\n",
       "      <td>0.028736</td>\n",
       "      <td>14.110912</td>\n",
       "      <td>2.910240</td>\n",
       "      <td>0.054560</td>\n",
       "      <td>633.013000</td>\n",
       "    </tr>\n",
       "  </tbody>\n",
       "</table>\n",
       "</div>"
      ],
      "text/plain": [
       "   pruning_thresh  quality  frame_id  model_head_time  model_tail_time   \n",
       "1            0.05       60         2        10.009344        11.235808  \\\n",
       "2            0.05       60         3         9.899552        12.083936   \n",
       "3            0.05       60         4         9.894080        13.489920   \n",
       "4            0.05       60         5         9.864640        11.015936   \n",
       "5            0.05       60         6         9.925984         4.521376   \n",
       "\n",
       "   framework_head_time  framework_tail_time  framework_response_time   \n",
       "1             1.059904             0.030496                23.070145  \\\n",
       "2             1.048128             0.030848                22.620319   \n",
       "3             1.171808             0.030624                25.140032   \n",
       "4             0.871488             0.030016                21.844992   \n",
       "5             1.048384             0.028736                14.110912   \n",
       "\n",
       "   compression_time  decompression_time  overall_time  \n",
       "1          3.069856            0.055104    807.040894  \n",
       "2          2.922528            0.056320    740.638184  \n",
       "3          2.883776            0.055616    681.139160  \n",
       "4          2.617760            0.088064    671.566833  \n",
       "5          2.910240            0.054560    633.013000  "
      ]
     },
     "execution_count": 21,
     "metadata": {},
     "output_type": "execute_result"
    }
   ],
   "source": [
    "jpeg_time.head()"
   ]
  },
  {
   "cell_type": "markdown",
   "metadata": {},
   "source": [
    "## Real overal delay"
   ]
  },
  {
   "cell_type": "code",
   "execution_count": 22,
   "metadata": {},
   "outputs": [],
   "source": [
    "# jpeg_time[\"Overall_real\"] = jpeg_time[\"model_head_time\"] +jpeg_time[\"framework_head_time\"]+jpeg_time[\"compression_time\"]+jpeg_time[\"framework_response_time\"]\n",
    "# decom_time[\"Overall_real\"] = decom_time[\"model_head_time\"] +decom_time[\"framework_head_time\"]+decom_time[\"compression_time\"]+decom_time[\"framework_response_time\"]\n",
    "# reg_time[\"Overall_real\"] = reg_time[\"model_head_time\"] +reg_time[\"framework_head_time\"]+reg_time[\"compression_time\"]+reg_time[\"framework_response_time\"]\n",
    "# sketch_time[\"Overall_real\"] = sketch_time[\"model_head_time\"] +sketch_time[\"framework_head_time\"]+sketch_time[\"compression_time\"]+sketch_time[\"framework_response_time\"]\n"
   ]
  },
  {
   "cell_type": "code",
   "execution_count": 23,
   "metadata": {},
   "outputs": [],
   "source": [
    "jpeg_time[\"Overall_real\"] = jpeg_time[\"model_head_time\"] +jpeg_time[\"model_tail_time\"] +jpeg_time[\"framework_head_time\"]+jpeg_time[\"framework_tail_time\"]+jpeg_time[\"compression_time\"]+jpeg_time[\"decompression_time\"]\n",
    "decom_time[\"Overall_real\"] = decom_time[\"model_head_time\"] +decom_time[\"model_tail_time\"] +decom_time[\"framework_head_time\"]+decom_time[\"framework_tail_time\"]+decom_time[\"compression_time\"]+decom_time[\"decompression_time\"]\n",
    "reg_time[\"Overall_real\"] = reg_time[\"model_head_time\"] +reg_time[\"model_tail_time\"] +reg_time[\"framework_head_time\"]+reg_time[\"framework_tail_time\"]+reg_time[\"compression_time\"]+reg_time[\"decompression_time\"]\n",
    "sketch_time[\"Overall_real\"] = sketch_time[\"model_head_time\"] +sketch_time[\"model_tail_time\"] +sketch_time[\"framework_head_time\"]+sketch_time[\"framework_tail_time\"]+sketch_time[\"compression_time\"]+sketch_time[\"decompression_time\"]\n",
    "\n",
    "\n"
   ]
  },
  {
   "cell_type": "code",
   "execution_count": 24,
   "metadata": {},
   "outputs": [],
   "source": [
    "pruning_general=0.25\n",
    "pruning_regression = 0.25"
   ]
  },
  {
   "cell_type": "code",
   "execution_count": 25,
   "metadata": {},
   "outputs": [
    {
     "data": {
      "text/plain": [
       "Text(0.5, 0, 'Overall processing time [ms]')"
      ]
     },
     "execution_count": 25,
     "metadata": {},
     "output_type": "execute_result"
    },
    {
     "data": {
      "image/png": "[encoded data removed]",
      "text/plain": [
       "<Figure size 600x400 with 1 Axes>"
      ]
     },
     "metadata": {},
     "output_type": "display_data"
    }
   ],
   "source": [
    "plt.figure(figsize=(6,4))\n",
    "map_df_group = jpeg_map.groupby(\"pruning_thresh\")\n",
    "cha_df_group = jpeg_time.groupby(\"pruning_thresh\")\n",
    "keys = list(map_df_group.groups.keys())\n",
    "map_df = map_df_group.get_group(pruning_general)\n",
    "maps = map_df[\"map\"].to_numpy()*100\n",
    "cha_df = cha_df_group.get_group(pruning_general)\n",
    "cha_df_g = cha_df.groupby(\"quality\")\n",
    "datasize = cha_df_g.mean()[\"Overall_real\"].to_numpy()\n",
    "plt.plot(datasize,maps, marker=\".\" ,color=colors[0],label=\"jpeg\")\n",
    "\n",
    "map_df_group = decom_map.groupby(\"pruning_thresh\")\n",
    "cha_df_group = decom_time.groupby(\"pruning_thresh\")\n",
    "keys = list(map_df_group.groups.keys())\n",
    "map_df = map_df_group.get_group(pruning_general)\n",
    "maps = map_df[\"map\"].to_numpy()*100\n",
    "cha_df = cha_df_group.get_group(pruning_general)\n",
    "cha_df_g = cha_df.groupby(\"quality\")\n",
    "datasize = cha_df_g.mean()[\"Overall_real\"].to_numpy()/32\n",
    "plt.plot(datasize,maps, marker=\".\" ,color=colors[1],label=\"decomposition\")\n",
    "\n",
    "map_df_group = reg_map.groupby(\"pruning_thresh\")\n",
    "cha_df_group = reg_time.groupby(\"pruning_thresh\")\n",
    "keys = list(map_df_group.groups.keys())\n",
    "map_df = map_df_group.get_group(pruning_regression)\n",
    "maps = map_df[\"map\"].to_numpy()*100\n",
    "cha_df = cha_df_group.get_group(pruning_regression)\n",
    "cha_df_g = cha_df.groupby(\"quality\")\n",
    "datasize = cha_df_g.mean()[\"Overall_real\"].to_numpy()\n",
    "plt.plot(datasize,maps, marker=\".\" ,color=colors[2],label=\"regression\")\n",
    "\n",
    "# map_df_group = sketch_map.groupby(\"pruning_thresh\")\n",
    "# cha_df_group = sketch_time.groupby(\"pruning_thresh\")\n",
    "# keys = list(map_df_group.groups.keys())\n",
    "# map_df = map_df_group.get_group(pruning_general)\n",
    "# maps = map_df[\"map\"].to_numpy()*100\n",
    "# cha_df = cha_df_group.get_group(pruning_general)\n",
    "# cha_df_g = cha_df.groupby(\"quality\")\n",
    "# datasize = cha_df_g.mean()[\"Overall_real\"].to_numpy()\n",
    "# plt.plot(datasize,maps, marker=\".\" ,color=colors[3],label=\"sketchML\")\n",
    "\n",
    "plt.legend()\n",
    "plt.grid()\n",
    "# plt.ylim([43,57])\n",
    "plt.ylabel(\"Detection mAP [%]\")\n",
    "plt.xlabel(\"Overall processing time [ms]\")"
   ]
  },
  {
   "cell_type": "code",
   "execution_count": null,
   "metadata": {},
   "outputs": [],
   "source": []
  },
  {
   "cell_type": "code",
   "execution_count": null,
   "metadata": {},
   "outputs": [],
   "source": []
  },
  {
   "cell_type": "code",
   "execution_count": null,
   "metadata": {},
   "outputs": [],
   "source": []
  }
 ],
 "metadata": {
  "kernelspec": {
   "display_name": "pytorch",
   "language": "python",
   "name": "python3"
  },
  "language_info": {
   "codemirror_mode": {
    "name": "ipython",
    "version": 3
   },
   "file_extension": ".py",
   "mimetype": "text/x-python",
   "name": "python",
   "nbconvert_exporter": "python",
   "pygments_lexer": "ipython3",
   "version": "3.10.0"
  }
 },
 "nbformat": 4,
 "nbformat_minor": 2
}
