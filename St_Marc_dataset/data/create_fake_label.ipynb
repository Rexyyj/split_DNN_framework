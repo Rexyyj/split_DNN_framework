{
 "cells": [
  {
   "cell_type": "code",
   "execution_count": 1,
   "metadata": {},
   "outputs": [],
   "source": [
    "import os"
   ]
  },
  {
   "cell_type": "code",
   "execution_count": 3,
   "metadata": {},
   "outputs": [],
   "source": [
    "image_dir =\"/home/rex/dataset/coco/images/\"\n",
    "label_dir = \"/home/rex/dataset/coco/labels/\""
   ]
  },
  {
   "cell_type": "code",
   "execution_count": 6,
   "metadata": {},
   "outputs": [],
   "source": [
    "fake_label= \"2 0.616340 0.196781 0.103165 0.202272 \\n2 0.680795 0.024925 0.057115 0.049849\\n\""
   ]
  },
  {
   "cell_type": "code",
   "execution_count": 7,
   "metadata": {},
   "outputs": [],
   "source": [
    "for img in os.listdir(image_dir):\n",
    "    label_name = img.replace(\".jpg\",\".txt\")\n",
    "    label_path = label_dir+label_name\n",
    "    with open(label_path,\"w\") as f:\n",
    "        f.write(fake_label)\n"
   ]
  }
 ],
 "metadata": {
  "kernelspec": {
   "display_name": "pytorch",
   "language": "python",
   "name": "python3"
  },
  "language_info": {
   "codemirror_mode": {
    "name": "ipython",
    "version": 3
   },
   "file_extension": ".py",
   "mimetype": "text/x-python",
   "name": "python",
   "nbconvert_exporter": "python",
   "pygments_lexer": "ipython3",
   "version": "3.10.0"
  }
 },
 "nbformat": 4,
 "nbformat_minor": 2
}
