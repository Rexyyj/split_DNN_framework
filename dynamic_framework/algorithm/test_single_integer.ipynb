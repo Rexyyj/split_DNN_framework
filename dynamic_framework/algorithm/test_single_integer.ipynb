{
 "cells": [
  {
   "cell_type": "code",
   "execution_count": 13,
   "metadata": {},
   "outputs": [],
   "source": [
    "import numpy as np\n",
    "# from pymoo.core.problem import Problem\n",
    "from scipy.interpolate import griddata\n",
    "import pandas as pd\n",
    "\n",
    "from pymoo.algorithms.soo.nonconvex.ga import GA\n",
    "from pymoo.core.problem import ElementwiseProblem\n",
    "from pymoo.operators.crossover.sbx import SBX\n",
    "from pymoo.operators.mutation.pm import PM\n",
    "from pymoo.operators.repair.rounding import RoundingRepair\n",
    "from pymoo.operators.sampling.rnd import IntegerRandomSampling\n",
    "from pymoo.optimize import minimize\n",
    "from pymoo.termination.default import DefaultSingleObjectiveTermination"
   ]
  },
  {
   "cell_type": "code",
   "execution_count": 14,
   "metadata": {},
   "outputs": [],
   "source": [
    "jpeg_cha = pd.read_csv(\"../../stable_tests/measurements/jpeg_snr_cha/characteristic.csv\")\n",
    "\n",
    "jpeg_cha = jpeg_cha[jpeg_cha[\"sparsity\"]>0]\n",
    "jpeg_cha = jpeg_cha[jpeg_cha[\"datasize_est\"]>0]\n",
    "tensor_size = 128*26*26 *4\n",
    "jpeg_cha[\"ratio\"] = tensor_size/jpeg_cha[\"datasize_est\"]"
   ]
  },
  {
   "cell_type": "code",
   "execution_count": 15,
   "metadata": {},
   "outputs": [],
   "source": [
    "pruning = [0.05, 0.1, 0.15, 0.2, 0.25,0.3,0.35]\n",
    "quality = [60,70,80,90,100]\n",
    "\n",
    "sample_points=[]\n",
    "cmp_sample_values = []\n",
    "snr_sample_values = []\n",
    "\n",
    "cha_df_group =jpeg_cha.groupby(\"pruning_thresh\")\n",
    "for p in pruning:\n",
    "    cha_df = cha_df_group.get_group(p)\n",
    "    cha_quality_df = cha_df.groupby(\"quality\")\n",
    "    for q in quality:\n",
    "        cha_plot_df= cha_quality_df.get_group(q)\n",
    "        sample_points.append([q,p])\n",
    "        cmp_sample_values.append(cha_plot_df[\"ratio\"].mean())\n",
    "        snr_sample_values.append(cha_plot_df[\"reconstruct_snr\"].mean())\n",
    "\n",
    "sample_points = np.array(sample_points)\n",
    "cmp_sample_values = np.array(cmp_sample_values)\n",
    "snr_sample_values = np.array(snr_sample_values)"
   ]
  },
  {
   "cell_type": "code",
   "execution_count": 16,
   "metadata": {},
   "outputs": [],
   "source": [
    "# Interpolate the constraint function\n",
    "def interpolated_constraint_cmp(xy):\n",
    "    return griddata(sample_points, cmp_sample_values, (xy[0], xy[1]/100), method='cubic')\n",
    "\n",
    "def interpolated_constraint_snr(xy):\n",
    "    return griddata(sample_points, snr_sample_values, (xy[0], xy[1]/100), method='cubic')\n",
    "\n",
    "\n",
    "class CustomProblem(ElementwiseProblem):\n",
    "\n",
    "    def __init__(self,snr,cmp):\n",
    "        self.snr = snr\n",
    "        self.cmp = cmp\n",
    "        super().__init__(n_var=2, n_obj=1, n_ieq_constr=2, xl=[60,5], xu=[100,35],vtype=int)\n",
    "\n",
    "    def _evaluate(self, x, out, *args, **kwargs):\n",
    "        out[\"F\"] = x[1]/35-x[0]/100\n",
    "\n",
    "        constraint_1 = self.cmp-interpolated_constraint_cmp(x)\n",
    "        constraint_2 = self.snr-interpolated_constraint_snr(x)\n",
    "\n",
    "        out[\"G\"] = np.array([\n",
    "            constraint_1,constraint_2\n",
    "        ])\n",
    "        penalty = 1000  # Large penalty factor\n",
    "        if constraint_1 > 0:  # If constraint is violated\n",
    "            out[\"F\"] += penalty * constraint_1\n",
    "        if constraint_1 > 0:  # If constraint is violated\n",
    "            out[\"F\"] += penalty * constraint_2"
   ]
  },
  {
   "cell_type": "code",
   "execution_count": 17,
   "metadata": {},
   "outputs": [
    {
     "name": "stdout",
     "output_type": "stream",
     "text": [
      "=================================================================================\n",
      "n_gen  |  n_eval  |     cv_min    |     cv_avg    |     f_avg     |     f_min    \n",
      "=================================================================================\n",
      "     1 |       25 |  6.9087175408 |  2.002044E+01 |             - |             -\n",
      "     2 |       50 |  6.9087175408 |  1.376814E+01 |             - |             -\n",
      "     3 |       75 |  3.2104995422 |  8.7240144005 |             - |             -\n",
      "     4 |      100 |  2.8278844159 |  6.1061812009 |             - |             -\n",
      "     5 |      125 |  1.4935417304 |  4.2049794834 |             - |             -\n",
      "     6 |      150 |  1.4935417304 |  3.6917733920 |             - |             -\n",
      "     7 |      175 |  1.4935417304 |  3.4840817067 |             - |             -\n",
      "     8 |      200 |  1.4935417304 |  3.1697345258 |             - |             -\n",
      "     9 |      225 |  1.4935417304 |  3.1345651492 |             - |             -\n",
      "    10 |      250 |  1.4935417304 |  3.1192656026 |             - |             -\n",
      "    11 |      275 |  1.4935417304 |  3.0909838815 |             - |             -\n",
      "    12 |      300 |  1.4935417304 |  3.0909838815 |             - |             -\n",
      "    13 |      325 |  1.4935417304 |  3.0792610381 |             - |             -\n",
      "    14 |      350 |  1.4935417304 |  3.0792610381 |             - |             -\n",
      "    15 |      375 |  1.4935417304 |  3.0792610381 |             - |             -\n",
      "    16 |      400 |  1.4935417304 |  3.0792610381 |             - |             -\n",
      "    17 |      425 |  1.4935417304 |  3.0792610381 |             - |             -\n",
      "    18 |      450 |  1.4935417304 |  3.0792610381 |             - |             -\n",
      "    19 |      475 |  1.4935417304 |  3.0792610381 |             - |             -\n",
      "    20 |      500 |  1.4935417304 |  3.0792610381 |             - |             -\n",
      "Best solution found: \n",
      "X = None\n",
      "F = None\n"
     ]
    }
   ],
   "source": [
    "# Initialize the problem\n",
    "problem = CustomProblem(snr=25,cmp=21)\n",
    "\n",
    "# Select the algorithm (Genetic Algorithm in this case)\n",
    "algorithm = GA(pop_size=25,\n",
    "            sampling=IntegerRandomSampling(),\n",
    "            crossover=SBX(prob=1.0, eta=3.0, vtype=float, repair=RoundingRepair()),\n",
    "            mutation=PM(prob=1.0, eta=3.0, vtype=float, repair=RoundingRepair()),\n",
    "            eliminate_duplicates=True,\n",
    "            )\n",
    "\n",
    "termination = DefaultSingleObjectiveTermination(\n",
    "    xtol=1e-8,\n",
    "    cvtol=1e-6,\n",
    "    ftol=1e-6,\n",
    "    period=20,\n",
    "    n_max_gen=20,\n",
    "    n_max_evals=10000\n",
    ")\n",
    "\n",
    "\n",
    "# Perform the optimization\n",
    "result = minimize(problem, algorithm, termination=termination,verbose=True)\n",
    "\n",
    "# # Get and display the results\n",
    "# optimal_x, optimal_y = result.X\n",
    "# optimal_objective_value = -result.F[0]\n",
    "\n",
    "print(\"Best solution found: \\nX = %s\\nF = %s\" % (result.X, result.F))"
   ]
  },
  {
   "cell_type": "code",
   "execution_count": 18,
   "metadata": {},
   "outputs": [
    {
     "ename": "TypeError",
     "evalue": "'NoneType' object is not subscriptable",
     "output_type": "error",
     "traceback": [
      "\u001b[0;31m---------------------------------------------------------------------------\u001b[0m",
      "\u001b[0;31mTypeError\u001b[0m                                 Traceback (most recent call last)",
      "Cell \u001b[0;32mIn[18], line 1\u001b[0m\n\u001b[0;32m----> 1\u001b[0m \u001b[43mresult\u001b[49m\u001b[38;5;241;43m.\u001b[39;49m\u001b[43mX\u001b[49m\u001b[43m[\u001b[49m\u001b[38;5;241;43m1\u001b[39;49m\u001b[43m]\u001b[49m\n",
      "\u001b[0;31mTypeError\u001b[0m: 'NoneType' object is not subscriptable"
     ]
    }
   ],
   "source": [
    "result.X[1]"
   ]
  },
  {
   "cell_type": "code",
   "execution_count": null,
   "metadata": {},
   "outputs": [
    {
     "data": {
      "text/plain": [
       "array(8.8830775)"
      ]
     },
     "execution_count": 6,
     "metadata": {},
     "output_type": "execute_result"
    }
   ],
   "source": [
    "interpolated_constraint_cmp(result.X)"
   ]
  },
  {
   "cell_type": "code",
   "execution_count": null,
   "metadata": {},
   "outputs": [
    {
     "data": {
      "text/plain": [
       "array(35.17396099)"
      ]
     },
     "execution_count": 7,
     "metadata": {},
     "output_type": "execute_result"
    }
   ],
   "source": [
    "interpolated_constraint_snr(result.X)"
   ]
  }
 ],
 "metadata": {
  "kernelspec": {
   "display_name": "pytorch",
   "language": "python",
   "name": "python3"
  },
  "language_info": {
   "codemirror_mode": {
    "name": "ipython",
    "version": 3
   },
   "file_extension": ".py",
   "mimetype": "text/x-python",
   "name": "python",
   "nbconvert_exporter": "python",
   "pygments_lexer": "ipython3",
   "version": "3.10.0"
  }
 },
 "nbformat": 4,
 "nbformat_minor": 2
}
