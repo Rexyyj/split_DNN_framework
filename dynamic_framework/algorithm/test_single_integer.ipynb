{
 "cells": [
  {
   "cell_type": "code",
   "execution_count": 1,
   "metadata": {},
   "outputs": [],
   "source": [
    "import numpy as np\n",
    "# from pymoo.core.problem import Problem\n",
    "from scipy.interpolate import griddata\n",
    "import pandas as pd\n",
    "\n",
    "from pymoo.algorithms.soo.nonconvex.ga import GA\n",
    "from pymoo.core.problem import ElementwiseProblem\n",
    "from pymoo.operators.crossover.sbx import SBX\n",
    "from pymoo.operators.mutation.pm import PM\n",
    "from pymoo.operators.repair.rounding import RoundingRepair\n",
    "from pymoo.operators.sampling.rnd import IntegerRandomSampling\n",
    "from pymoo.optimize import minimize\n",
    "from pymoo.termination.default import DefaultSingleObjectiveTermination"
   ]
  },
  {
   "cell_type": "code",
   "execution_count": 2,
   "metadata": {},
   "outputs": [],
   "source": [
    "jpeg_cha = pd.read_csv(\"../../stable_tests/measurements/jpeg_snr_cha/characteristic.csv\")\n",
    "\n",
    "jpeg_cha = jpeg_cha[jpeg_cha[\"sparsity\"]>0]\n",
    "jpeg_cha = jpeg_cha[jpeg_cha[\"datasize_est\"]>0]\n",
    "tensor_size = 128*26*26 *4\n",
    "jpeg_cha[\"ratio\"] = tensor_size/jpeg_cha[\"datasize_est\"]"
   ]
  },
  {
   "cell_type": "code",
   "execution_count": 3,
   "metadata": {},
   "outputs": [],
   "source": [
    "pruning = [0.05, 0.1, 0.15, 0.2, 0.25,0.3,0.35]\n",
    "quality = [60,70,80,90,100]\n",
    "\n",
    "sample_points=[]\n",
    "cmp_sample_values = []\n",
    "snr_sample_values = []\n",
    "\n",
    "cha_df_group =jpeg_cha.groupby(\"pruning_thresh\")\n",
    "for p in pruning:\n",
    "    cha_df = cha_df_group.get_group(p)\n",
    "    cha_quality_df = cha_df.groupby(\"quality\")\n",
    "    for q in quality:\n",
    "        cha_plot_df= cha_quality_df.get_group(q)\n",
    "        sample_points.append([q,p])\n",
    "        cmp_sample_values.append(cha_plot_df[\"ratio\"].mean())\n",
    "        snr_sample_values.append(cha_plot_df[\"reconstruct_snr\"].mean())\n",
    "\n",
    "sample_points = np.array(sample_points)\n",
    "cmp_sample_values = np.array(cmp_sample_values)\n",
    "snr_sample_values = np.array(snr_sample_values)"
   ]
  },
  {
   "cell_type": "code",
   "execution_count": 4,
   "metadata": {},
   "outputs": [],
   "source": [
    "# Interpolate the constraint function\n",
    "def interpolated_constraint_cmp(xy):\n",
    "    return griddata(sample_points, cmp_sample_values, (xy[0], xy[1]/100), method='cubic')\n",
    "\n",
    "def interpolated_constraint_snr(xy):\n",
    "    return griddata(sample_points, snr_sample_values, (xy[0], xy[1]/100), method='cubic')\n",
    "\n",
    "\n",
    "class CustomProblem(ElementwiseProblem):\n",
    "\n",
    "    def __init__(self,snr,cmp):\n",
    "        self.snr = snr\n",
    "        self.cmp = cmp\n",
    "        super().__init__(n_var=2, n_obj=1, n_ieq_constr=2, xl=[60,5], xu=[100,35],vtype=int)\n",
    "\n",
    "    def _evaluate(self, x, out, *args, **kwargs):\n",
    "        out[\"F\"] = x[1]/35-x[0]/100\n",
    "\n",
    "        constraint_1 = self.cmp-interpolated_constraint_cmp(x)\n",
    "        constraint_2 = self.snr-interpolated_constraint_snr(x)\n",
    "\n",
    "        out[\"G\"] = np.array([\n",
    "            constraint_1,constraint_2\n",
    "        ])\n",
    "        penalty = 1000  # Large penalty factor\n",
    "        if constraint_1 > 0:  # If constraint is violated\n",
    "            out[\"F\"] += penalty * constraint_1\n",
    "        if constraint_1 > 0:  # If constraint is violated\n",
    "            out[\"F\"] += penalty * constraint_2"
   ]
  },
  {
   "cell_type": "code",
   "execution_count": 13,
   "metadata": {},
   "outputs": [
    {
     "name": "stdout",
     "output_type": "stream",
     "text": [
      "=================================================================================\n",
      "n_gen  |  n_eval  |     cv_min    |     cv_avg    |     f_avg     |     f_min    \n",
      "=================================================================================\n",
      "     1 |       25 |  0.2386314213 |  2.857361E+01 |             - |             -\n",
      "     2 |       50 |  0.000000E+00 |  2.4903557239 | -2.685714E-01 | -2.685714E-01\n",
      "     3 |       75 |  0.000000E+00 |  1.4763792654 | -2.557143E-01 | -2.685714E-01\n",
      "     4 |      100 |  0.000000E+00 |  0.9693057370 | -2.557143E-01 | -2.685714E-01\n",
      "     5 |      125 |  0.000000E+00 |  0.8242040185 | -2.566667E-01 | -2.685714E-01\n",
      "     6 |      150 |  0.000000E+00 |  0.7439827628 | -2.566667E-01 | -2.685714E-01\n",
      "     7 |      175 |  0.000000E+00 |  0.5605342936 | -2.430952E-01 | -2.685714E-01\n",
      "     8 |      200 |  0.000000E+00 |  0.4827028318 | -2.442857E-01 | -2.685714E-01\n",
      "     9 |      225 |  0.000000E+00 |  0.4272549479 | -2.421429E-01 | -2.685714E-01\n",
      "    10 |      250 |  0.000000E+00 |  0.3415962797 | -2.442857E-01 | -2.685714E-01\n",
      "Best solution found: \n",
      "X = [84 20]\n",
      "F = [-0.26857143]\n"
     ]
    }
   ],
   "source": [
    "# Initialize the problem\n",
    "problem = CustomProblem(snr=5,cmp=100)\n",
    "\n",
    "# Select the algorithm (Genetic Algorithm in this case)\n",
    "algorithm = GA(pop_size=25,\n",
    "            sampling=IntegerRandomSampling(),\n",
    "            crossover=SBX(prob=1.0, eta=3.0, vtype=float, repair=RoundingRepair()),\n",
    "            mutation=PM(prob=1.0, eta=3.0, vtype=float, repair=RoundingRepair()),\n",
    "            eliminate_duplicates=True,\n",
    "            )\n",
    "\n",
    "termination = DefaultSingleObjectiveTermination(\n",
    "    xtol=1e-8,\n",
    "    cvtol=1e-6,\n",
    "    ftol=1e-6,\n",
    "    period=20,\n",
    "    n_max_gen=10,\n",
    "    n_max_evals=10000\n",
    ")\n",
    "\n",
    "\n",
    "# Perform the optimization\n",
    "result = minimize(problem, algorithm, termination=termination,verbose=True)\n",
    "\n",
    "# # Get and display the results\n",
    "# optimal_x, optimal_y = result.X\n",
    "# optimal_objective_value = -result.F[0]\n",
    "\n",
    "print(\"Best solution found: \\nX = %s\\nF = %s\" % (result.X, result.F))"
   ]
  },
  {
   "cell_type": "code",
   "execution_count": 14,
   "metadata": {},
   "outputs": [
    {
     "data": {
      "text/plain": [
       "array(100.38052828)"
      ]
     },
     "execution_count": 14,
     "metadata": {},
     "output_type": "execute_result"
    }
   ],
   "source": [
    "interpolated_constraint_cmp(result.X)"
   ]
  },
  {
   "cell_type": "code",
   "execution_count": 15,
   "metadata": {},
   "outputs": [
    {
     "data": {
      "text/plain": [
       "array(5.66590749)"
      ]
     },
     "execution_count": 15,
     "metadata": {},
     "output_type": "execute_result"
    }
   ],
   "source": [
    "interpolated_constraint_snr(result.X)"
   ]
  }
 ],
 "metadata": {
  "kernelspec": {
   "display_name": "pytorch",
   "language": "python",
   "name": "python3"
  },
  "language_info": {
   "codemirror_mode": {
    "name": "ipython",
    "version": 3
   },
   "file_extension": ".py",
   "mimetype": "text/x-python",
   "name": "python",
   "nbconvert_exporter": "python",
   "pygments_lexer": "ipython3",
   "version": "3.10.0"
  }
 },
 "nbformat": 4,
 "nbformat_minor": 2
}
