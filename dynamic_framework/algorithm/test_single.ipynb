{
 "cells": [
  {
   "cell_type": "code",
   "execution_count": 1,
   "metadata": {},
   "outputs": [],
   "source": [
    "import numpy as np\n",
    "# from pymoo.core.problem import Problem\n",
    "from pymoo.optimize import minimize\n",
    "from pymoo.core.problem import ElementwiseProblem\n",
    "from pymoo.algorithms.soo.nonconvex.pso import PSO\n",
    "from scipy.interpolate import griddata\n",
    "import pandas as pd\n"
   ]
  },
  {
   "cell_type": "code",
   "execution_count": 2,
   "metadata": {},
   "outputs": [],
   "source": [
    "jpeg_cha = pd.read_csv(\"../../stable_tests/measurements/jpeg_snr_cha/characteristic.csv\")\n",
    "\n",
    "jpeg_cha = jpeg_cha[jpeg_cha[\"sparsity\"]>0]\n",
    "jpeg_cha = jpeg_cha[jpeg_cha[\"datasize_est\"]>0]\n",
    "tensor_size = 128*26*26 *4\n",
    "jpeg_cha[\"ratio\"] = tensor_size/jpeg_cha[\"datasize_est\"]"
   ]
  },
  {
   "cell_type": "code",
   "execution_count": 3,
   "metadata": {},
   "outputs": [],
   "source": [
    "pruning = [0.05, 0.1, 0.15, 0.2, 0.25,0.3,0.35]\n",
    "quality = [60,70,80,90,100]\n",
    "\n",
    "sample_points=[]\n",
    "cmp_sample_values = []\n",
    "snr_sample_values = []\n",
    "\n",
    "cha_df_group =jpeg_cha.groupby(\"pruning_thresh\")\n",
    "for p in pruning:\n",
    "    cha_df = cha_df_group.get_group(p)\n",
    "    cha_quality_df = cha_df.groupby(\"quality\")\n",
    "    for q in quality:\n",
    "        cha_plot_df= cha_quality_df.get_group(q)\n",
    "        sample_points.append([q,p])\n",
    "        cmp_sample_values.append(cha_plot_df[\"ratio\"].mean())\n",
    "        snr_sample_values.append(cha_plot_df[\"reconstruct_snr\"].mean())\n",
    "\n",
    "sample_points = np.array(sample_points)\n",
    "cmp_sample_values = np.array(cmp_sample_values)\n",
    "snr_sample_values = np.array(snr_sample_values)"
   ]
  },
  {
   "cell_type": "code",
   "execution_count": 14,
   "metadata": {},
   "outputs": [],
   "source": [
    "# Interpolate the constraint function\n",
    "def interpolated_constraint_cmp(xy):\n",
    "    return griddata(sample_points, cmp_sample_values, (xy[0], xy[1]/100), method='cubic')\n",
    "\n",
    "def interpolated_constraint_snr(xy):\n",
    "    return griddata(sample_points, snr_sample_values, (xy[0], xy[1]/100), method='cubic')\n",
    "\n",
    "\n",
    "class CustomProblem(ElementwiseProblem):\n",
    "\n",
    "    def __init__(self,snr,cmp):\n",
    "        self.snr = snr\n",
    "        self.cmp = cmp\n",
    "        super().__init__(n_var=2, n_obj=1, n_ieq_constr=2, xl=[60,5], xu=[100,35])\n",
    "\n",
    "    def _evaluate(self, x, out, *args, **kwargs):\n",
    "        out[\"F\"] = x[1]/35-x[0]/100\n",
    "        out[\"G\"] = np.array([\n",
    "            self.cmp-interpolated_constraint_cmp(x),\n",
    "            self.snr-interpolated_constraint_snr(x), \n",
    "        ])\n",
    "        # penalty = 1000  # Large penalty factor\n",
    "        # if constraint_1 > 0:  # If constraint is violated\n",
    "        #     out[\"F\"] += penalty * constraint_1"
   ]
  },
  {
   "cell_type": "code",
   "execution_count": 13,
   "metadata": {},
   "outputs": [
    {
     "name": "stdout",
     "output_type": "stream",
     "text": [
      "======================================================================================================================================\n",
      "n_gen  |  n_eval  |    f     |    S    |    w    |    c1    |    c2    |     cv_min    |     cv_avg    |     f_avg     |     f_min    \n",
      "======================================================================================================================================\n",
      "     1 |       10 |        - |       - |  0.9000 |  2.00000 |  2.00000 |  8.0214012364 |  3.437944E+01 |             - |             -\n",
      "     2 |       20 | -6.7E-02 |       3 |  0.3588 |  2.00000 |  2.02048 |  6.3411491134 |  1.882893E+01 |             - |             -\n",
      "     3 |       30 | -1.5E-02 |       3 |  0.3907 |  1.99006 |  2.03930 |  4.8844886203 |  1.207943E+01 |             - |             -\n",
      "     4 |       40 |  0.06724 |       3 |  0.4426 |  1.97590 |  2.04546 |  4.8844886203 |  1.085521E+01 |             - |             -\n",
      "     5 |       50 |  0.09793 |       3 |  0.4624 |  1.96586 |  2.05265 |  4.8844886203 |  6.1661491415 |             - |             -\n",
      "     6 |       60 |  0.10336 |       3 |  0.4659 |  1.95753 |  2.06408 |  4.8711558551 |  5.9521775095 |             - |             -\n",
      "     7 |       70 |  0.07299 |       3 |  0.4463 |  1.94777 |  2.07195 |  4.4318281413 |  5.7782994723 |             - |             -\n",
      "     8 |       80 |  0.23612 |       2 |  0.5519 |  1.96521 |  2.03971 |  4.4318281413 |  5.7623496519 |             - |             -\n",
      "     9 |       90 |  0.17721 |       3 |  0.5138 |  1.96350 |  2.05698 |  4.4318281413 |  5.5413013782 |             - |             -\n",
      "    10 |      100 |  0.22231 |       3 |  0.5430 |  1.95430 |  2.06825 |  4.4318281413 |  5.5085518205 |             - |             -\n",
      "Best solution found: \n",
      "X = None\n",
      "F = None\n"
     ]
    }
   ],
   "source": [
    "# Initialize the problem\n",
    "problem = CustomProblem(snr=10,cmp=100)\n",
    "\n",
    "# Select the algorithm (Genetic Algorithm in this case)\n",
    "algorithm = PSO(pop_size=10)\n",
    "# Perform the optimization\n",
    "result = minimize(problem, algorithm, termination=('n_gen', 10),verbose=True)\n",
    "\n",
    "# # Get and display the results\n",
    "# optimal_x, optimal_y = result.X\n",
    "# optimal_objective_value = -result.F[0]\n",
    "\n",
    "print(\"Best solution found: \\nX = %s\\nF = %s\" % (result.X, result.F))"
   ]
  },
  {
   "cell_type": "code",
   "execution_count": 6,
   "metadata": {},
   "outputs": [
    {
     "ename": "TypeError",
     "evalue": "'NoneType' object is not subscriptable",
     "output_type": "error",
     "traceback": [
      "\u001b[0;31m---------------------------------------------------------------------------\u001b[0m",
      "\u001b[0;31mTypeError\u001b[0m                                 Traceback (most recent call last)",
      "Cell \u001b[0;32mIn[6], line 1\u001b[0m\n\u001b[0;32m----> 1\u001b[0m \u001b[43minterpolated_constraint_cmp\u001b[49m\u001b[43m(\u001b[49m\u001b[43mresult\u001b[49m\u001b[38;5;241;43m.\u001b[39;49m\u001b[43mX\u001b[49m\u001b[43m)\u001b[49m\n",
      "Cell \u001b[0;32mIn[4], line 3\u001b[0m, in \u001b[0;36minterpolated_constraint_cmp\u001b[0;34m(xy)\u001b[0m\n\u001b[1;32m      2\u001b[0m \u001b[38;5;28;01mdef\u001b[39;00m \u001b[38;5;21minterpolated_constraint_cmp\u001b[39m(xy):\n\u001b[0;32m----> 3\u001b[0m     \u001b[38;5;28;01mreturn\u001b[39;00m griddata(sample_points, cmp_sample_values, (\u001b[43mxy\u001b[49m\u001b[43m[\u001b[49m\u001b[38;5;241;43m0\u001b[39;49m\u001b[43m]\u001b[49m, xy[\u001b[38;5;241m1\u001b[39m]\u001b[38;5;241m/\u001b[39m\u001b[38;5;241m100\u001b[39m), method\u001b[38;5;241m=\u001b[39m\u001b[38;5;124m'\u001b[39m\u001b[38;5;124mcubic\u001b[39m\u001b[38;5;124m'\u001b[39m)\n",
      "\u001b[0;31mTypeError\u001b[0m: 'NoneType' object is not subscriptable"
     ]
    }
   ],
   "source": [
    "interpolated_constraint_cmp(result.X)"
   ]
  },
  {
   "cell_type": "code",
   "execution_count": null,
   "metadata": {},
   "outputs": [
    {
     "data": {
      "text/plain": [
       "array(35.16830948)"
      ]
     },
     "execution_count": 86,
     "metadata": {},
     "output_type": "execute_result"
    }
   ],
   "source": [
    "interpolated_constraint_snr(result.X)"
   ]
  }
 ],
 "metadata": {
  "kernelspec": {
   "display_name": "pytorch",
   "language": "python",
   "name": "python3"
  },
  "language_info": {
   "codemirror_mode": {
    "name": "ipython",
    "version": 3
   },
   "file_extension": ".py",
   "mimetype": "text/x-python",
   "name": "python",
   "nbconvert_exporter": "python",
   "pygments_lexer": "ipython3",
   "version": "3.10.0"
  }
 },
 "nbformat": 4,
 "nbformat_minor": 2
}
