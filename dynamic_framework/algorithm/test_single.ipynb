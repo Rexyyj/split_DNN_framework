{
 "cells": [
  {
   "cell_type": "code",
   "execution_count": 1,
   "metadata": {},
   "outputs": [],
   "source": [
    "import numpy as np\n",
    "# from pymoo.core.problem import Problem\n",
    "from pymoo.optimize import minimize\n",
    "from pymoo.core.problem import ElementwiseProblem\n",
    "from pymoo.algorithms.soo.nonconvex.pso import PSO\n",
    "from scipy.interpolate import griddata\n",
    "from pymoo.termination.default import DefaultSingleObjectiveTermination\n",
    "import pandas as pd\n"
   ]
  },
  {
   "cell_type": "code",
   "execution_count": 2,
   "metadata": {},
   "outputs": [],
   "source": [
    "jpeg_cha = pd.read_csv(\"../../stable_tests/measurements/jpeg_snr_cha/characteristic.csv\")\n",
    "\n",
    "jpeg_cha = jpeg_cha[jpeg_cha[\"sparsity\"]>0]\n",
    "jpeg_cha = jpeg_cha[jpeg_cha[\"datasize_est\"]>0]\n",
    "tensor_size = 128*26*26 *4\n",
    "jpeg_cha[\"ratio\"] = tensor_size/jpeg_cha[\"datasize_est\"]"
   ]
  },
  {
   "cell_type": "code",
   "execution_count": 3,
   "metadata": {},
   "outputs": [],
   "source": [
    "pruning = [0.05, 0.1, 0.15, 0.2, 0.25,0.3,0.35]\n",
    "quality = [60,70,80,90,100]\n",
    "\n",
    "sample_points=[]\n",
    "cmp_sample_values = []\n",
    "snr_sample_values = []\n",
    "\n",
    "cha_df_group =jpeg_cha.groupby(\"pruning_thresh\")\n",
    "for p in pruning:\n",
    "    cha_df = cha_df_group.get_group(p)\n",
    "    cha_quality_df = cha_df.groupby(\"quality\")\n",
    "    for q in quality:\n",
    "        cha_plot_df= cha_quality_df.get_group(q)\n",
    "        sample_points.append([q,p])\n",
    "        cmp_sample_values.append(cha_plot_df[\"ratio\"].mean())\n",
    "        snr_sample_values.append(cha_plot_df[\"reconstruct_snr\"].mean())\n",
    "\n",
    "sample_points = np.array(sample_points)\n",
    "cmp_sample_values = np.array(cmp_sample_values)\n",
    "snr_sample_values = np.array(snr_sample_values)"
   ]
  },
  {
   "cell_type": "code",
   "execution_count": 4,
   "metadata": {},
   "outputs": [],
   "source": [
    "# Interpolate the constraint function\n",
    "def interpolated_constraint_cmp(xy):\n",
    "    return griddata(sample_points, cmp_sample_values, (xy[0], xy[1]/100), method='cubic')\n",
    "\n",
    "def interpolated_constraint_snr(xy):\n",
    "    return griddata(sample_points, snr_sample_values, (xy[0], xy[1]/100), method='cubic')\n",
    "\n",
    "\n",
    "class CustomProblem(ElementwiseProblem):\n",
    "\n",
    "    def __init__(self,snr,cmp):\n",
    "        self.snr = snr\n",
    "        self.cmp = cmp\n",
    "        super().__init__(n_var=2, n_obj=1, n_ieq_constr=2, xl=[60,5], xu=[100,35])\n",
    "\n",
    "    def _evaluate(self, x, out, *args, **kwargs):\n",
    "        out[\"F\"] = x[1]/35-x[0]/100\n",
    "\n",
    "        constraint_1 = self.cmp-interpolated_constraint_cmp(x)\n",
    "        constraint_2 = self.snr-interpolated_constraint_snr(x)\n",
    "\n",
    "        out[\"G\"] = np.array([\n",
    "            constraint_1,constraint_2\n",
    "        ])\n",
    "        penalty = 1000  # Large penalty factor\n",
    "        if constraint_1 > 0:  # If constraint is violated\n",
    "            out[\"F\"] += penalty * constraint_1\n",
    "        if constraint_1 > 0:  # If constraint is violated\n",
    "            out[\"F\"] += penalty * constraint_2"
   ]
  },
  {
   "cell_type": "code",
   "execution_count": 8,
   "metadata": {},
   "outputs": [
    {
     "name": "stdout",
     "output_type": "stream",
     "text": [
      "======================================================================================================================================\n",
      "n_gen  |  n_eval  |    f     |    S    |    w    |    c1    |    c2    |     cv_min    |     cv_avg    |     f_avg     |     f_min    \n",
      "======================================================================================================================================\n",
      "     1 |        5 |        - |       - |  0.9000 |  2.00000 |  2.00000 |  2.7634392029 |  1.553355E+01 |             - |             -\n",
      "     2 |       10 | -3.6E-01 |       3 |  0.2086 |  2.00000 |  2.02280 |  2.7634392029 |  1.179227E+01 |             - |             -\n",
      "     3 |       15 | -1.1E-01 |       3 |  0.3312 |  1.98892 |  2.03990 |  0.000000E+00 |  7.9970582053 | -7.466866E-01 | -7.466866E-01\n",
      "     4 |       20 | -3.0E-01 |       3 |  0.2318 |  1.97529 |  2.05545 |  0.000000E+00 |  2.8989144411 | -7.158903E-01 | -7.871082E-01\n",
      "     5 |       25 | -2.9E-01 |       3 |  0.2398 |  1.96115 |  2.07009 |  0.000000E+00 |  0.9002684302 | -7.490636E-01 | -7.956448E-01\n",
      "     6 |       30 | -1.0E-01 |       3 |  0.3383 |  1.94681 |  2.07699 |  0.000000E+00 |  0.000000E+00 | -7.624098E-01 | -7.956448E-01\n",
      "     7 |       35 | -1.8E-01 |       3 |  0.2955 |  1.93616 |  2.08319 |  0.000000E+00 |  0.000000E+00 | -7.787969E-01 | -8.023985E-01\n",
      "     8 |       40 | -1.7E-01 |       3 |  0.3006 |  1.92788 |  2.09120 |  0.000000E+00 |  0.000000E+00 | -7.957900E-01 | -8.023985E-01\n",
      "     9 |       45 |  0.24234 |       2 |  0.5559 |  1.96714 |  2.03762 |  0.000000E+00 |  0.000000E+00 | -8.098493E-01 | -8.268070E-01\n",
      "    10 |       50 |  0.34768 |       2 |  0.6221 |  1.99114 |  2.01005 |  0.000000E+00 |  0.000000E+00 | -8.271242E-01 | -8.392974E-01\n",
      "Best solution found: \n",
      "X = [98.31728127  5.03564087]\n",
      "F = [-0.83929736]\n"
     ]
    }
   ],
   "source": [
    "# Initialize the problem\n",
    "problem = CustomProblem(snr=25,cmp=10)\n",
    "\n",
    "# Select the algorithm (Genetic Algorithm in this case)\n",
    "algorithm = PSO(pop_size=5)\n",
    "\n",
    "termination = DefaultSingleObjectiveTermination(\n",
    "    xtol=1e-8,\n",
    "    cvtol=1e-6,\n",
    "    ftol=1e-6,\n",
    "    period=20,\n",
    "    n_max_gen=10,\n",
    "    n_max_evals=10000\n",
    ")\n",
    "\n",
    "\n",
    "# Perform the optimization\n",
    "result = minimize(problem, algorithm, termination=termination,verbose=True)\n",
    "\n",
    "# # Get and display the results\n",
    "# optimal_x, optimal_y = result.X\n",
    "# optimal_objective_value = -result.F[0]\n",
    "\n",
    "print(\"Best solution found: \\nX = %s\\nF = %s\" % (result.X, result.F))"
   ]
  },
  {
   "cell_type": "code",
   "execution_count": 6,
   "metadata": {},
   "outputs": [
    {
     "data": {
      "text/plain": [
       "array(107.50481253)"
      ]
     },
     "execution_count": 6,
     "metadata": {},
     "output_type": "execute_result"
    }
   ],
   "source": [
    "interpolated_constraint_cmp([82,20])"
   ]
  },
  {
   "cell_type": "code",
   "execution_count": 7,
   "metadata": {},
   "outputs": [
    {
     "data": {
      "text/plain": [
       "array(5.18968897)"
      ]
     },
     "execution_count": 7,
     "metadata": {},
     "output_type": "execute_result"
    }
   ],
   "source": [
    "interpolated_constraint_snr([82,20])"
   ]
  }
 ],
 "metadata": {
  "kernelspec": {
   "display_name": "pytorch",
   "language": "python",
   "name": "python3"
  },
  "language_info": {
   "codemirror_mode": {
    "name": "ipython",
    "version": 3
   },
   "file_extension": ".py",
   "mimetype": "text/x-python",
   "name": "python",
   "nbconvert_exporter": "python",
   "pygments_lexer": "ipython3",
   "version": "3.10.0"
  }
 },
 "nbformat": 4,
 "nbformat_minor": 2
}
