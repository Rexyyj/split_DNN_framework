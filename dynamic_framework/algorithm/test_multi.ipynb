{
 "cells": [
  {
   "cell_type": "code",
   "execution_count": 1,
   "metadata": {},
   "outputs": [],
   "source": [
    "import numpy as np\n",
    "# from pymoo.core.problem import Problem\n",
    "from pymoo.algorithms.moo.nsga2 import NSGA2\n",
    "from pymoo.optimize import minimize\n",
    "from pymoo.core.problem import ElementwiseProblem\n",
    "# from pymoo.algorithms.soo.nonconvex.pso import PSO\n",
    "from scipy.interpolate import griddata\n",
    "import pandas as pd\n"
   ]
  },
  {
   "cell_type": "code",
   "execution_count": 2,
   "metadata": {},
   "outputs": [],
   "source": [
    "jpeg_cha = pd.read_csv(\"../../stable_tests/measurements/jpeg_snr_cha/characteristic.csv\")\n",
    "\n",
    "jpeg_cha = jpeg_cha[jpeg_cha[\"sparsity\"]>0]\n",
    "jpeg_cha = jpeg_cha[jpeg_cha[\"datasize_est\"]>0]\n",
    "tensor_size = 128*26*26 *4\n",
    "jpeg_cha[\"ratio\"] = tensor_size/jpeg_cha[\"datasize_est\"]"
   ]
  },
  {
   "cell_type": "code",
   "execution_count": 3,
   "metadata": {},
   "outputs": [],
   "source": [
    "pruning = [0.05, 0.1, 0.15, 0.2, 0.25,0.3,0.35]\n",
    "quality = [60,70,80,90,100]\n",
    "\n",
    "sample_points=[]\n",
    "cmp_sample_values = []\n",
    "snr_sample_values = []\n",
    "\n",
    "cha_df_group =jpeg_cha.groupby(\"pruning_thresh\")\n",
    "for p in pruning:\n",
    "    cha_df = cha_df_group.get_group(p)\n",
    "    cha_quality_df = cha_df.groupby(\"quality\")\n",
    "    for q in quality:\n",
    "        cha_plot_df= cha_quality_df.get_group(q)\n",
    "        sample_points.append([q,p])\n",
    "        cmp_sample_values.append(cha_plot_df[\"ratio\"].mean())\n",
    "        snr_sample_values.append(cha_plot_df[\"reconstruct_snr\"].mean())\n",
    "\n",
    "sample_points = np.array(sample_points)\n",
    "cmp_sample_values = np.array(cmp_sample_values)\n",
    "snr_sample_values = np.array(snr_sample_values)"
   ]
  },
  {
   "cell_type": "code",
   "execution_count": 5,
   "metadata": {},
   "outputs": [],
   "source": [
    "# Interpolate the constraint function\n",
    "def interpolated_constraint_cmp(xy):\n",
    "    return griddata(sample_points, cmp_sample_values, (xy[0], xy[1]/100), method='cubic')\n",
    "\n",
    "def interpolated_constraint_snr(xy):\n",
    "    return griddata(sample_points, snr_sample_values, (xy[0], xy[1]/100), method='cubic')\n",
    "\n",
    "\n",
    "class CustomProblem(ElementwiseProblem):\n",
    "\n",
    "    def __init__(self,snr,cmp):\n",
    "        self.snr = snr\n",
    "        self.cmp = cmp\n",
    "        super().__init__(n_var=2, n_obj=2, n_ieq_constr=2, xl=[60,5], xu=[100,35])\n",
    "\n",
    "    def _evaluate(self, x, out, *args, **kwargs):\n",
    "        out[\"F\"] = [x[0],-x[1]]\n",
    "        out[\"G\"] = np.array([\n",
    "            self.cmp-interpolated_constraint_cmp(x),\n",
    "            self.snr-interpolated_constraint_snr(x), \n",
    "        ])\n",
    "        # penalty = 1000  # Large penalty factor\n",
    "        # if constraint_1 > 0:  # If constraint is violated\n",
    "        #     out[\"F\"] += penalty * constraint_1"
   ]
  },
  {
   "cell_type": "code",
   "execution_count": 9,
   "metadata": {},
   "outputs": [
    {
     "name": "stdout",
     "output_type": "stream",
     "text": [
      "==========================================================================================\n",
      "n_gen  |  n_eval  | n_nds  |     cv_min    |     cv_avg    |      eps      |   indicator  \n",
      "==========================================================================================\n",
      "     1 |       10 |      2 |  0.000000E+00 |  4.2593215393 |             - |             -\n",
      "     2 |       20 |      4 |  0.000000E+00 |  0.4251988124 |  0.0667683013 |         ideal\n",
      "     3 |       30 |      5 |  0.000000E+00 |  0.000000E+00 |  0.0534425977 |             f\n",
      "     4 |       40 |      4 |  0.000000E+00 |  0.000000E+00 |  0.0059761193 |         ideal\n",
      "     5 |       50 |      4 |  0.000000E+00 |  0.000000E+00 |  0.0338828464 |             f\n",
      "     6 |       60 |      3 |  0.000000E+00 |  0.000000E+00 |  0.0064401071 |         ideal\n",
      "     7 |       70 |      6 |  0.000000E+00 |  0.000000E+00 |  0.0035544399 |         ideal\n",
      "     8 |       80 |      6 |  0.000000E+00 |  0.000000E+00 |  0.0671430491 |         ideal\n",
      "     9 |       90 |      7 |  0.000000E+00 |  0.000000E+00 |  0.0512389670 |         nadir\n",
      "    10 |      100 |      6 |  0.000000E+00 |  0.000000E+00 |  0.0633628459 |         nadir\n",
      "Best solution found: \n",
      "X = [[90.27221556 23.0392544 ]\n",
      " [90.247403   22.27069725]\n",
      " [60.07096248 15.74766656]\n",
      " [98.23845607 23.29208312]\n",
      " [98.42298662 24.00447659]\n",
      " [60.00990911 14.51295286]]\n",
      "F = [[ 90.27221556 -23.0392544 ]\n",
      " [ 90.247403   -22.27069725]\n",
      " [ 60.07096248 -15.74766656]\n",
      " [ 98.23845607 -23.29208312]\n",
      " [ 98.42298662 -24.00447659]\n",
      " [ 60.00990911 -14.51295286]]\n"
     ]
    }
   ],
   "source": [
    "# Initialize the problem\n",
    "problem = CustomProblem(snr=5,cmp=30)\n",
    "\n",
    "# Select the algorithm (Genetic Algorithm in this case)\n",
    "algorithm = NSGA2(pop_size=10)\n",
    "# Perform the optimization\n",
    "result = minimize(problem, algorithm, termination=('n_gen', 10),verbose=True)\n",
    "\n",
    "# # Get and display the results\n",
    "# optimal_x, optimal_y = result.X\n",
    "# optimal_objective_value = -result.F[0]\n",
    "\n",
    "print(\"Best solution found: \\nX = %s\\nF = %s\" % (result.X, result.F))"
   ]
  },
  {
   "cell_type": "code",
   "execution_count": 10,
   "metadata": {},
   "outputs": [
    {
     "data": {
      "text/plain": [
       "array([nan, nan])"
      ]
     },
     "execution_count": 10,
     "metadata": {},
     "output_type": "execute_result"
    }
   ],
   "source": [
    "interpolated_constraint_cmp(result.X)"
   ]
  },
  {
   "cell_type": "code",
   "execution_count": null,
   "metadata": {},
   "outputs": [
    {
     "data": {
      "text/plain": [
       "array(35.16830948)"
      ]
     },
     "execution_count": 86,
     "metadata": {},
     "output_type": "execute_result"
    }
   ],
   "source": [
    "interpolated_constraint_snr(result.X)"
   ]
  }
 ],
 "metadata": {
  "kernelspec": {
   "display_name": "pytorch",
   "language": "python",
   "name": "python3"
  },
  "language_info": {
   "codemirror_mode": {
    "name": "ipython",
    "version": 3
   },
   "file_extension": ".py",
   "mimetype": "text/x-python",
   "name": "python",
   "nbconvert_exporter": "python",
   "pygments_lexer": "ipython3",
   "version": "3.10.0"
  }
 },
 "nbformat": 4,
 "nbformat_minor": 2
}
