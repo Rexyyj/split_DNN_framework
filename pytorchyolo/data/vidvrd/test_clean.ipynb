{
 "cells": [
  {
   "cell_type": "code",
   "execution_count": 1,
   "metadata": {},
   "outputs": [],
   "source": [
    "import numpy as np\n",
    "import os"
   ]
  },
  {
   "cell_type": "code",
   "execution_count": null,
   "metadata": {},
   "outputs": [],
   "source": [
    "undesired_labels = [0,1,5,8,9,13,14, 18, 19, 22,23,26, 28,29,31,32,33,34]"
   ]
  },
  {
   "cell_type": "code",
   "execution_count": 3,
   "metadata": {},
   "outputs": [],
   "source": [
    "f = open(\"./test.txt\", \"r\")\n",
    "tests = f.readlines()\n",
    "f.close()"
   ]
  },
  {
   "cell_type": "code",
   "execution_count": 4,
   "metadata": {},
   "outputs": [],
   "source": [
    "def sort_file2(e):\n",
    "    temp_list = e.split(\".\")[0].split(\"_\")\n",
    "    val  = (int(temp_list[-2]),int(temp_list[-1]))\n",
    "    return val\n"
   ]
  },
  {
   "cell_type": "code",
   "execution_count": 5,
   "metadata": {},
   "outputs": [],
   "source": [
    "for test in tests[:]:\n",
    "    label_path = test.replace(\"images\",\"labels\").replace(\".jpg\",\".txt\").replace(\"\\n\",\"\")\n",
    "    if os.path.exists(label_path) == False:\n",
    "        tests.remove(test)\n",
    "    else:\n",
    "        with open(label_path) as lf:\n",
    "            labs = lf.readlines()\n",
    "            if len(labs)<1:\n",
    "                tests.remove(test)\n",
    "            else:\n",
    "                for lab in labs:\n",
    "                    l = int(lab.split(\" \")[0])\n",
    "                    if l in undesired_labels:\n",
    "                        tests.remove(test)\n",
    "                        break"
   ]
  },
  {
   "cell_type": "code",
   "execution_count": 6,
   "metadata": {},
   "outputs": [],
   "source": [
    "tests.sort(key=sort_file2)"
   ]
  },
  {
   "cell_type": "code",
   "execution_count": 7,
   "metadata": {},
   "outputs": [],
   "source": [
    "f = open(\"./test_cleaned.txt\", \"w\")\n",
    "f.writelines(tests)"
   ]
  }
 ],
 "metadata": {
  "kernelspec": {
   "display_name": "pytorch",
   "language": "python",
   "name": "python3"
  },
  "language_info": {
   "codemirror_mode": {
    "name": "ipython",
    "version": 3
   },
   "file_extension": ".py",
   "mimetype": "text/x-python",
   "name": "python",
   "nbconvert_exporter": "python",
   "pygments_lexer": "ipython3",
   "version": "3.10.0"
  }
 },
 "nbformat": 4,
 "nbformat_minor": 2
}
